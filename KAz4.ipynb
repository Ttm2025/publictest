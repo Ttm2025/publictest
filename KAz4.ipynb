{
  "nbformat": 4,
  "nbformat_minor": 0,
  "metadata": {
    "colab": {
      "provenance": [],
      "authorship_tag": "ABX9TyOt0htMMxSdpQ4G6zR2uifa",
      "include_colab_link": true
    },
    "kernelspec": {
      "name": "python3",
      "display_name": "Python 3"
    },
    "language_info": {
      "name": "python"
    }
  },
  "cells": [
    {
      "cell_type": "markdown",
      "metadata": {
        "id": "view-in-github",
        "colab_type": "text"
      },
      "source": [
        "<a href=\"https://colab.research.google.com/github/Ttm2025/test/blob/main/KAz4.ipynb\" target=\"_parent\"><img src=\"https://colab.research.google.com/assets/colab-badge.svg\" alt=\"Open In Colab\"/></a>"
      ]
    },
    {
      "cell_type": "code",
      "execution_count": 82,
      "metadata": {
        "id": "NjXfGa-seXaJ"
      },
      "outputs": [],
      "source": [
        "from IPython.display import display, Math\n",
        "import numpy as np\n",
        "import matplotlib\n",
        "import matplotlib.pyplot as plt\n",
        "import sympy as sp\n",
        "import math\n",
        "def add(x, y): return ['+', x, y]\n",
        "def sub(x, y): return ['-', x, y]\n",
        "def mul(x, y): return ['*', x, y]\n",
        "def div(x, y): return ['/', x, y]\n",
        "def power(x, y): return ['^', x, y]\n",
        "def negative(x): return ['~', x]\n",
        "def abs_(x): return ['abs', x]\n",
        "def sin_(x): return ['sin', x]\n",
        "def cos_(x): return ['cos', x]\n",
        "def tan_(x): return ['tan', x]\n",
        "def arcsin_(x): return ['arcsin', x]\n",
        "def arccos_(x): return ['arccos', x]\n",
        "def arctan_(x): return ['arctan', x]\n",
        "def sinh_(x): return ['sinh', x]\n",
        "def cosh_(x): return ['cosh', x]\n",
        "def tanh_(x): return ['tanh', x]\n",
        "def arcsinh_(x): return ['arcsinh', x]\n",
        "def arccosh_(x): return ['arccosh', x]\n",
        "def arctanh_(x): return ['arctanh', x]\n",
        "def sqrt_(x): return ['sqrt', x]\n",
        "def ln_(x):  return ['ln',x]\n",
        "def lg_(x):  return ['lg',x]\n",
        "def root_(x,y):  return ['r',x, y]\n",
        "def log_(x,y):  return ['g',x, y]\n",
        "def exp_(x): return ['exp', x]\n",
        "def fac_(x): return ['fac', x]\n",
        "\n",
        "\n",
        "\n",
        "def fix(x):\n",
        "  if isinstance(x, Expression):\n",
        "    return x\n",
        "  return Expression(x)\n",
        "def abs(x):\n",
        "  return Expression(abs_(fix(x).T))\n",
        "def sin(x):\n",
        "  return Expression(sin_(fix(x).T))\n",
        "def cos(x):\n",
        "  return Expression(cos_(fix(x).T))\n",
        "def tan (x):\n",
        "  return Expression(tan_(fix(x).T))\n",
        "def arcsin(x):\n",
        "  return Expression(arcsin_(fix(x).T))\n",
        "def arccos(x):\n",
        "  return Expression(arccos_(fix(x).T))\n",
        "def arctan (x):\n",
        "  return Expression(arctan_(fix(x).T))\n",
        "def sinh(x):\n",
        "  return Expression(sinh_(fix(x).T))\n",
        "def cosh(x):\n",
        "  return Expression(cosh_(fix(x).T))\n",
        "def tanh (x):\n",
        "  return Expression(tanh_(fix(x).T))\n",
        "def arcsinh(x):\n",
        "  return Expression(arcsinh_(fix(x).T))\n",
        "def arccosh(x):\n",
        "  return Expression(arccosh_(fix(x).T))\n",
        "def arctanh (x):\n",
        "  return Expression(arctanh_(fix(x).T))\n",
        "def sqrt(x):\n",
        "  return Expression(sqrt_(fix(x).T))\n",
        "def root(x,y):\n",
        "  return Expression(root_((fix(x).T),fix(y).T))\n",
        "def log(x,y):\n",
        "  return Expression(log_((fix(x).T),fix(y).T))\n",
        "def ln(x):\n",
        "  return Expression(ln_(fix(x).T))\n",
        "def lg(x):\n",
        "  return Expression(lg_(fix(x).T))\n",
        "def fac(x):\n",
        "  return Expression(fac_(x))\n",
        "def fac1(x):\n",
        "  return 1 if x < 2 else x * fac1(x - 1) \n",
        "def abs1(x):\n",
        "  if x<0:\n",
        "    return(x * -1)\n",
        "\n",
        "def show(x):\n",
        "  display(Math(latex(x)))\n",
        "\n",
        "def enclose(x):\n",
        "  return f'\\\\left( {x} \\\\right)'\n",
        "\n",
        "def latex(x):\n",
        "  if isinstance(x, Expression):\n",
        "    return latex(x.T)\n",
        "  if isinstance(x, (int, str)):\n",
        "    return str(x)\n",
        "  op = x[0]\n",
        "  if op in '+-*/^r':\n",
        "    l, r = latex(x[1]), latex(x[2])\n",
        "    if op == '+':\n",
        "      return f'{l} + {r}'\n",
        "    if op == '-':\n",
        "      return f'{l} - {r}'\n",
        "    if op == '*':\n",
        "      return f'{l} \\\\cdot {r}'\n",
        "    if op == '/':\n",
        "      return f'\\\\dfrac{{{l}}}{{{r}}}'\n",
        "    if op == 'r':\n",
        "      return f'\\sqrt {[r]} {{{l}}}'\n",
        "    if op == 'g':\n",
        "      return f'\\log {_r} {{{l}}}'\n",
        "    if op == '^':\n",
        "      if isinstance(x[1], list):\n",
        "        l = enclose(l)\n",
        "      return f'{{{l}}}^{{{r}}}'\n",
        "  else: \n",
        "    a = latex(x[1])\n",
        "    if op == '~':\n",
        "      return f'- {a}'\n",
        "    if op == 'abs':\n",
        "      return f'\\\\mid {a}\\mid'\n",
        "    if op == 'sin':\n",
        "      return f'\\\\sin {a}'\n",
        "    if op == 'cos':\n",
        "      return f'\\\\cos {a}'\n",
        "    if op == 'tan':\n",
        "      return f'\\\\tan {{{a}}}'\n",
        "    if op == 'arcsin':\n",
        "      return f'\\\\arcsin {a}'\n",
        "    if op == 'arccos':\n",
        "      return f'\\\\arccos {a}'\n",
        "    if op == 'arctan':\n",
        "      return f'\\\\arctan {{{a}}}'\n",
        "    if op == 'sinh':\n",
        "      return f'\\\\sinh {a}'\n",
        "    if op == 'cosh':\n",
        "      return f'\\\\cosh {a}'\n",
        "    if op == 'tanh':\n",
        "      return f'\\\\tanh {{{a}}}'\n",
        "    if op == 'arcsinh':\n",
        "      return f'\\\\arcsinh {a}'\n",
        "    if op == 'arccosh':\n",
        "      return f'\\\\arccosh {a}'\n",
        "    if op == 'arctanh':\n",
        "      return f'\\\\arctanh {{{a}}}'\n",
        "    if op == 'sqrt':\n",
        "      return f'\\\\sqrt{{{a}}}'\n",
        "    if op == 'ln':\n",
        "      return f'\\\\ln{{{a}}}'\n",
        "    if op == 'lg':\n",
        "      return f'\\\\lg{{{a}}}'\n",
        "    if op == 'exp':\n",
        "      return f'e ^ {{{a}}}'\n",
        "    if op == 'fac':\n",
        "      return f'{a}!'\n",
        "\n",
        "def symbols(s):\n",
        "  S = s.split()\n",
        "  if len(S) == 1:\n",
        "    return Expression(s)\n",
        "  return (Expression(i) for i in S)\n",
        "\n",
        "def evalf(x, arg = {}):\n",
        "  if isinstance(x, Expression):\n",
        "    if isinstance(arg, dict):\n",
        "      arg = {i.T: arg[i] for i in arg}\n",
        "    else:\n",
        "      arg = {'$': arg}\n",
        "    return evalf(x.T, arg)\n",
        "  if isinstance(x, int):\n",
        "    return x\n",
        "  if isinstance(x, str):\n",
        "    if x in arg:\n",
        "      return arg[x]\n",
        "    return arg['$']\n",
        "  op = x[0]\n",
        "  if op in '+-*/^rg':\n",
        "    l, r = evalf(x[1], arg), evalf(x[2], arg)\n",
        "    if op == '+':\n",
        "      return l + r\n",
        "    if op == '-':\n",
        "      return l - r\n",
        "    if op == '*':\n",
        "      return l * r\n",
        "    if op == '/':\n",
        "      return l / r\n",
        "    if op == '^':\n",
        "      return l ** r\n",
        "    if op == 'r':\n",
        "      return r ** (1/l)\n",
        "    if op == 'g':\n",
        "      return np.log(l,r)\n",
        "  \n",
        "  else:\n",
        "    a = evalf(x[1], arg)\n",
        "    if op == '~':\n",
        "      return - a\n",
        "    if op == 'abs':\n",
        "      return np.absolute(a)\n",
        "    if op == 'sin':\n",
        "      return np.sin(a)\n",
        "    if op == 'cos':\n",
        "      return np.cos(a)\n",
        "    if op == 'tan':\n",
        "      return np.tan(a)\n",
        "    if op == 'arcsin':\n",
        "      return np.arcsin(a)\n",
        "    if op == 'arccos':\n",
        "      return np.arccos(a)\n",
        "    if op == 'arctan':\n",
        "      return np.arctan(a)\n",
        "    if op == 'sinh':\n",
        "      return np.sinh(a)\n",
        "    if op == 'cosh':\n",
        "      return np.cosh(a)\n",
        "    if op == 'tanh':\n",
        "      return np.tanh(a)\n",
        "    if op == 'arcsinh':\n",
        "      return np.arcsinh(a)\n",
        "    if op == 'arccosh':\n",
        "      return np.arccosh(a)\n",
        "    if op == 'arctanh':\n",
        "      return np.arctanh(a)\n",
        "    if op == 'sqrt':\n",
        "      return np.sqrt(a)\n",
        "    if op =='ln':\n",
        "      return np.log(a)\n",
        "    if op =='lg':\n",
        "      return np.log10(a)\n",
        "    if op =='fac':\n",
        "      return fac1(a)\n",
        "  return None\n",
        "\n",
        "def plot(y, x):\n",
        "  X = np.linspace(x[1], x[2], 1000)\n",
        "  Y = evalf(y, {x[0]: X})\n",
        "  plt.plot(X, Y)\n",
        "\n",
        "class Expression:\n",
        "  def __init__(self, x):\n",
        "    self.T = x\n",
        "  def __add__(self, x):\n",
        "    return Expression(add(self.T, fix(x).T))\n",
        "  def __radd__(self, x):\n",
        "    return Expression(add(fix(x).T, self.T))\n",
        "  def __sub__(self, x):\n",
        "    return Expression(sub(self.T, fix(x).T))\n",
        "  def __rsub__(self, x):\n",
        "    return Expression(sub(fix(x).T, self.T))\n",
        "  def __mul__(self, x):\n",
        "    return Expression(mul(self.T, fix(x).T))\n",
        "  def __rmul__(self, x):\n",
        "    return Expression(mul(fix(x).T, self.T))\n",
        "  def __truediv__(self, x):\n",
        "    return Expression(div(self.T, fix(x).T))\n",
        "  def __rtruediv__(self, x):\n",
        "    return Expression(div(fix(x).T, self.T))\n",
        "  def __pow__(self, x):\n",
        "    return Expression(power(self.T, fix(x).T))\n",
        "  def __rpow__(self, x):\n",
        "    return Expression(power(fix(x).T, self.T))\n",
        "  def __neg__(self):\n",
        "    return Expression(negative(self.T)) \n",
        "\n",
        "def exp(x):\n",
        "  return Expression(exp_(fix(x).T))\n",
        "def Z(x):\n",
        "  return Expression(x)\n",
        "def isInt(x):\n",
        "  return isinstance(x.T, int)\n",
        "\n",
        "def get_gcd(n, m):\n",
        "    while m > 0:\n",
        "        n, m = m, n % m\n",
        "    return n\n",
        "def normalize(n,m):\n",
        "  if m < 0:\n",
        "      n *= -1\n",
        "      m *= -1\n",
        "  gcd = get_gcd(n, m)\n",
        "  n //= gcd\n",
        "  m //= gcd\n",
        "  return(n,m)\n",
        "\n",
        "def taylorCoeffs(y, x, n, x0):\n",
        "  A = [evalf(y, x0)]\n",
        "  dy = diff(y, x)\n",
        "  for i in range(n):\n",
        "    A.append(evalf(dy, x0))\n",
        "    dy = diff(dy, x)\n",
        "  return A\n",
        "\n",
        "def taylorTerm(a, x, n, x0):\n",
        "  a, x0 = int(a), int(x0)\n",
        "  if n == 0:\n",
        "    return Z(a)\n",
        "  d = x\n",
        "  if x0 > 0: \n",
        "    d = x - x0\n",
        "  elif x0 < 0: \n",
        "    d = x + (-x0)\n",
        "  if n == 1:\n",
        "    return a * d\n",
        "  n1=int(Z(a).T)\n",
        "  m1=int(fac1(n))\n",
        "  m=normalize(n1,m1)\n",
        "  if m[1]==1:\n",
        "    return (Z(m[0]) * d ** n)\n",
        "  else:\n",
        "    return (Z((m[0]) / Z(m[1])) * d ** n)\n",
        "\n",
        "def taylorSeries(y, x, n, x0 = 0):\n",
        "  A = taylorCoeffs(y, x, n, x0)\n",
        "  f = None\n",
        "  for i in range(n + 1):\n",
        "    if A[i] == 0:\n",
        "      continue\n",
        "    elif A[i] > 0:\n",
        "      t = taylorTerm(A[i], x, i, x0)\n",
        "      f = t if f == None else f + t\n",
        "    else:\n",
        "      t = taylorTerm(-A[i], x, i, x0)\n",
        "      f = -t if f == None else f - t\n",
        "  if f == None:\n",
        "    f = Z(0)\n",
        "  return f\n",
        "\n",
        "\n",
        "def diff(y, x):\n",
        "  if isInt(y):\n",
        "    return Z(0)\n",
        "  if isinstance(y.T, str):\n",
        "    if y.T == x.T:\n",
        "      return Z(1)\n",
        "    return Z(0)\n",
        "  op = y.T[0] \n",
        "  if op in '+-*/^':\n",
        "    u, v = Expression(y.T[1]), Expression(y.T[2])\n",
        "    du, dv = diff(u, x), diff(v, x)\n",
        "    if op == '+':\n",
        "      return du + dv\n",
        "    if op == '-':\n",
        "      return du - dv\n",
        "    if op == '*':\n",
        "      #if isInt(u): return u * dv # упрощение\n",
        "      #if isInt(v): return du * v # упрощение\n",
        "      return du * v + u * dv\n",
        "    if op == '/':\n",
        "      if isInt(u): return - u * dv / v ** 2 # упрощение\n",
        "      if isInt(v): return du / v # упрощение\n",
        "      return (du * v - u * dv) / v ** 2\n",
        "    if op == '^':\n",
        "      if isInt(v): # u(x) ^ n\n",
        "        n = v.T\n",
        "        if n == 0:\n",
        "          return Z(0)\n",
        "        if n == 1:\n",
        "          return du\n",
        "        if du.T == 1: return n * u ** (n - 1) # упрощение\n",
        "        return n * u ** (n - 1) * du\n",
        "      if isInt(u): # n ^ v(x)\n",
        "        n = u.T\n",
        "        return ln(n) * (u ** v) * dv\n",
        "  else:\n",
        "    u = Expression(y.T[1])\n",
        "    du = diff(u, x)\n",
        "    if op == '~': return -du\n",
        "    if op == 'sin': return cos(u) * du\n",
        "    if op == 'cos': return -sin(u) * du\n",
        "    if op == 'tan': return du/ (sin(u)**2)\n",
        "    if op == 'sqrt': return du / (2 * sqrt(u))\n",
        "    if op == 'ln': return du / u\n",
        "    if op == 'exp': return exp(u) * du\n",
        "    if op == 'sqrt': return 1/2*du\n",
        "    if op == 'arcsin': return du/(sqrt(1-u**2))\n",
        "    if op == 'arccos': return -du/(sqrt(1-u**2))\n",
        "    if op == 'arctan': return du/(1+u**2)\n",
        "    if op == 'sinh': return cosh(u) * du\n",
        "    if op == 'cosh': return sinh(u) * du\n",
        "    if op == 'tanh': return du/ (cosh(u)**2)\n",
        "    if op == 'arcsinh': return du/(sqrt(u**2+1))\n",
        "    if op == 'arccosh': return du/(sqrt(u**2-1))\n",
        "    if op == 'arctanh': return du/(1-u**2)\n",
        "  return None\n",
        "def Diff(y, x, n = 1):\n",
        "  dy = y\n",
        "  for i in range(n):\n",
        "    dy = diff(dy, x)\n",
        "  return dy"
      ]
    },
    {
      "cell_type": "code",
      "source": [
        "  x = Expression('x')\n",
        "  y = Expression('y')\n",
        "  show(diff(x+y,x))\n",
        "  show(diff(x-y,x))\n",
        "  show(diff(x*y,x))\n",
        "  show(diff(x/y,x))\n",
        "  show(diff(x**5,x))\n",
        "  show(diff(5**x,x))\n",
        "  show(diff(sqrt(x),x))\n",
        "  show(diff(ln(x),x))\n",
        "  show(diff(exp(x),x))\n",
        "  show(diff(sin(x),x))\n",
        "  show(diff(cos(x),x))\n",
        "  show(diff(tan(x),x))\n",
        "  show(diff(arcsin(x),x))\n",
        "  show(diff(arccos(x),x))\n",
        "  show(diff(arctan(x),x))\n",
        "  show(diff(sinh(x),x))\n",
        "  show(diff(cosh(x),x))\n",
        "  show(diff(tanh(2*x),x))\n",
        "  show(diff(arcsinh(x),x))\n",
        "  show(diff(arccosh(x),x))\n",
        "  show(diff(arctanh(x),x))\n",
        "  show((x+1)/fac(5))\n",
        "  print(\"\")\n",
        "  print(evalf(fac(5)))\n",
        "  print(\"\")\n",
        "  for n in range(5):\n",
        "    show(Diff(x ** 3, x, n))\n",
        "  print(\"\")\n",
        "\n",
        "  f = taylorSeries(ln(x+1), x, 6, 0)\n",
        "  show(f)\n",
        "\n"
      ],
      "metadata": {
        "colab": {
          "base_uri": "https://localhost:8080/",
          "height": 898
        },
        "id": "eO8e4_h_e5sg",
        "outputId": "d525275b-216b-42dd-b82a-9168764c3630"
      },
      "execution_count": 109,
      "outputs": [
        {
          "output_type": "display_data",
          "data": {
            "text/plain": [
              "<IPython.core.display.Math object>"
            ],
            "text/latex": "$\\displaystyle 1 + 0$"
          },
          "metadata": {}
        },
        {
          "output_type": "display_data",
          "data": {
            "text/plain": [
              "<IPython.core.display.Math object>"
            ],
            "text/latex": "$\\displaystyle 1 - 0$"
          },
          "metadata": {}
        },
        {
          "output_type": "display_data",
          "data": {
            "text/plain": [
              "<IPython.core.display.Math object>"
            ],
            "text/latex": "$\\displaystyle 1 \\cdot y + x \\cdot 0$"
          },
          "metadata": {}
        },
        {
          "output_type": "display_data",
          "data": {
            "text/plain": [
              "<IPython.core.display.Math object>"
            ],
            "text/latex": "$\\displaystyle \\dfrac{1 \\cdot y - x \\cdot 0}{{y}^{2}}$"
          },
          "metadata": {}
        },
        {
          "output_type": "display_data",
          "data": {
            "text/plain": [
              "<IPython.core.display.Math object>"
            ],
            "text/latex": "$\\displaystyle 5 \\cdot {x}^{4}$"
          },
          "metadata": {}
        },
        {
          "output_type": "display_data",
          "data": {
            "text/plain": [
              "<IPython.core.display.Math object>"
            ],
            "text/latex": "$\\displaystyle \\ln{5} \\cdot {5}^{x} \\cdot 1$"
          },
          "metadata": {}
        },
        {
          "output_type": "display_data",
          "data": {
            "text/plain": [
              "<IPython.core.display.Math object>"
            ],
            "text/latex": "$\\displaystyle \\dfrac{1}{2 \\cdot \\sqrt{x}}$"
          },
          "metadata": {}
        },
        {
          "output_type": "display_data",
          "data": {
            "text/plain": [
              "<IPython.core.display.Math object>"
            ],
            "text/latex": "$\\displaystyle \\dfrac{1}{x}$"
          },
          "metadata": {}
        },
        {
          "output_type": "display_data",
          "data": {
            "text/plain": [
              "<IPython.core.display.Math object>"
            ],
            "text/latex": "$\\displaystyle e ^ {x} \\cdot 1$"
          },
          "metadata": {}
        },
        {
          "output_type": "display_data",
          "data": {
            "text/plain": [
              "<IPython.core.display.Math object>"
            ],
            "text/latex": "$\\displaystyle \\cos x \\cdot 1$"
          },
          "metadata": {}
        },
        {
          "output_type": "display_data",
          "data": {
            "text/plain": [
              "<IPython.core.display.Math object>"
            ],
            "text/latex": "$\\displaystyle - \\sin x \\cdot 1$"
          },
          "metadata": {}
        },
        {
          "output_type": "display_data",
          "data": {
            "text/plain": [
              "<IPython.core.display.Math object>"
            ],
            "text/latex": "$\\displaystyle \\dfrac{1}{{\\left( \\sin x \\right)}^{2}}$"
          },
          "metadata": {}
        },
        {
          "output_type": "display_data",
          "data": {
            "text/plain": [
              "<IPython.core.display.Math object>"
            ],
            "text/latex": "$\\displaystyle \\dfrac{1}{\\sqrt{1 - {x}^{2}}}$"
          },
          "metadata": {}
        },
        {
          "output_type": "display_data",
          "data": {
            "text/plain": [
              "<IPython.core.display.Math object>"
            ],
            "text/latex": "$\\displaystyle \\dfrac{- 1}{\\sqrt{1 - {x}^{2}}}$"
          },
          "metadata": {}
        },
        {
          "output_type": "display_data",
          "data": {
            "text/plain": [
              "<IPython.core.display.Math object>"
            ],
            "text/latex": "$\\displaystyle \\dfrac{1}{1 + {x}^{2}}$"
          },
          "metadata": {}
        },
        {
          "output_type": "display_data",
          "data": {
            "text/plain": [
              "<IPython.core.display.Math object>"
            ],
            "text/latex": "$\\displaystyle \\cosh x \\cdot 1$"
          },
          "metadata": {}
        },
        {
          "output_type": "display_data",
          "data": {
            "text/plain": [
              "<IPython.core.display.Math object>"
            ],
            "text/latex": "$\\displaystyle \\sinh x \\cdot 1$"
          },
          "metadata": {}
        },
        {
          "output_type": "display_data",
          "data": {
            "text/plain": [
              "<IPython.core.display.Math object>"
            ],
            "text/latex": "$\\displaystyle \\dfrac{0 \\cdot x + 2 \\cdot 1}{{\\left( \\cosh 2 \\cdot x \\right)}^{2}}$"
          },
          "metadata": {}
        },
        {
          "output_type": "display_data",
          "data": {
            "text/plain": [
              "<IPython.core.display.Math object>"
            ],
            "text/latex": "$\\displaystyle \\dfrac{1}{\\sqrt{{x}^{2} + 1}}$"
          },
          "metadata": {}
        },
        {
          "output_type": "display_data",
          "data": {
            "text/plain": [
              "<IPython.core.display.Math object>"
            ],
            "text/latex": "$\\displaystyle \\dfrac{1}{\\sqrt{{x}^{2} - 1}}$"
          },
          "metadata": {}
        },
        {
          "output_type": "display_data",
          "data": {
            "text/plain": [
              "<IPython.core.display.Math object>"
            ],
            "text/latex": "$\\displaystyle \\dfrac{1}{1 - {x}^{2}}$"
          },
          "metadata": {}
        },
        {
          "output_type": "display_data",
          "data": {
            "text/plain": [
              "<IPython.core.display.Math object>"
            ],
            "text/latex": "$\\displaystyle \\dfrac{x + 1}{5!}$"
          },
          "metadata": {}
        },
        {
          "output_type": "stream",
          "name": "stdout",
          "text": [
            "\n",
            "120\n",
            "\n"
          ]
        },
        {
          "output_type": "display_data",
          "data": {
            "text/plain": [
              "<IPython.core.display.Math object>"
            ],
            "text/latex": "$\\displaystyle {x}^{3}$"
          },
          "metadata": {}
        },
        {
          "output_type": "display_data",
          "data": {
            "text/plain": [
              "<IPython.core.display.Math object>"
            ],
            "text/latex": "$\\displaystyle 3 \\cdot {x}^{2}$"
          },
          "metadata": {}
        },
        {
          "output_type": "display_data",
          "data": {
            "text/plain": [
              "<IPython.core.display.Math object>"
            ],
            "text/latex": "$\\displaystyle 0 \\cdot {x}^{2} + 3 \\cdot 2 \\cdot {x}^{1}$"
          },
          "metadata": {}
        },
        {
          "output_type": "display_data",
          "data": {
            "text/plain": [
              "<IPython.core.display.Math object>"
            ],
            "text/latex": "$\\displaystyle 0 \\cdot {x}^{2} + 0 \\cdot 2 \\cdot {x}^{1} + 0 \\cdot 2 \\cdot {x}^{1} + 3 \\cdot 0 \\cdot {x}^{1} + 2 \\cdot 1$"
          },
          "metadata": {}
        },
        {
          "output_type": "display_data",
          "data": {
            "text/plain": [
              "<IPython.core.display.Math object>"
            ],
            "text/latex": "$\\displaystyle 0 \\cdot {x}^{2} + 0 \\cdot 2 \\cdot {x}^{1} + 0 \\cdot 2 \\cdot {x}^{1} + 0 \\cdot 0 \\cdot {x}^{1} + 2 \\cdot 1 + 0 \\cdot 2 \\cdot {x}^{1} + 0 \\cdot 0 \\cdot {x}^{1} + 2 \\cdot 1 + 0 \\cdot 0 \\cdot {x}^{1} + 2 \\cdot 1 + 3 \\cdot 0 \\cdot {x}^{1} + 0 \\cdot 1 + 0 \\cdot 1 + 2 \\cdot 0$"
          },
          "metadata": {}
        },
        {
          "output_type": "stream",
          "name": "stdout",
          "text": [
            "\n"
          ]
        },
        {
          "output_type": "display_data",
          "data": {
            "text/plain": [
              "<IPython.core.display.Math object>"
            ],
            "text/latex": "$\\displaystyle 1 \\cdot x - \\dfrac{1}{2} \\cdot {x}^{2} + \\dfrac{1}{3} \\cdot {x}^{3} - \\dfrac{1}{4} \\cdot {x}^{4} + \\dfrac{1}{5} \\cdot {x}^{5} - \\dfrac{1}{6} \\cdot {x}^{6}$"
          },
          "metadata": {}
        }
      ]
    },
    {
      "cell_type": "markdown",
      "source": [
        "\n",
        "![Снимок экрана 2022-10-29 в 15.23.52.png](data:image/png;base64,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)"
      ],
      "metadata": {
        "id": "nzonVDIIskJT"
      }
    },
    {
      "cell_type": "code",
      "source": [
        "f = (x - 1) ** 2 * (3 * x - 2) * (x + 2)\n",
        "show(f)\n",
        "g = taylorSeries(f, x, 4)\n",
        "show(g)"
      ],
      "metadata": {
        "colab": {
          "base_uri": "https://localhost:8080/",
          "height": 61
        },
        "id": "od76XBTctSqs",
        "outputId": "f5a8dbbd-5385-4595-a7ce-27b30d280454"
      },
      "execution_count": 110,
      "outputs": [
        {
          "output_type": "display_data",
          "data": {
            "text/plain": [
              "<IPython.core.display.Math object>"
            ],
            "text/latex": "$\\displaystyle {\\left( x - 1 \\right)}^{2} \\cdot 3 \\cdot x - 2 \\cdot x + 2$"
          },
          "metadata": {}
        },
        {
          "output_type": "display_data",
          "data": {
            "text/plain": [
              "<IPython.core.display.Math object>"
            ],
            "text/latex": "$\\displaystyle - 4 + 12 \\cdot x - 9 \\cdot {x}^{2} - 2 \\cdot {x}^{3} + 3 \\cdot {x}^{4}$"
          },
          "metadata": {}
        }
      ]
    },
    {
      "cell_type": "markdown",
      "source": [
        "![Снимок экрана 2022-10-29 в 15.27.49.png](data:image/png;base64,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)"
      ],
      "metadata": {
        "id": "J6VhzdfMtoW2"
      }
    }
  ]
}