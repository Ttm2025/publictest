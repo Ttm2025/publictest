{
  "nbformat": 4,
  "nbformat_minor": 0,
  "metadata": {
    "colab": {
      "provenance": [],
      "authorship_tag": "ABX9TyNhccDw7sLTVhWWZBm0w1Dn",
      "include_colab_link": true
    },
    "kernelspec": {
      "name": "python3",
      "display_name": "Python 3"
    },
    "language_info": {
      "name": "python"
    }
  },
  "cells": [
    {
      "cell_type": "markdown",
      "metadata": {
        "id": "view-in-github",
        "colab_type": "text"
      },
      "source": [
        "<a href=\"https://colab.research.google.com/github/Ttm2025/test/blob/main/KAz4.ipynb\" target=\"_parent\"><img src=\"https://colab.research.google.com/assets/colab-badge.svg\" alt=\"Open In Colab\"/></a>"
      ]
    },
    {
      "cell_type": "code",
      "execution_count": 67,
      "metadata": {
        "id": "NjXfGa-seXaJ"
      },
      "outputs": [],
      "source": [
        "from IPython.display import display, Math\n",
        "import numpy as np\n",
        "import matplotlib\n",
        "import matplotlib.pyplot as plt\n",
        "import sympy as sp\n",
        "import math\n",
        "def add(x, y): return ['+', x, y]\n",
        "def sub(x, y): return ['-', x, y]\n",
        "def mul(x, y): return ['*', x, y]\n",
        "def div(x, y): return ['/', x, y]\n",
        "def power(x, y): return ['^', x, y]\n",
        "def negative(x): return ['~', x]\n",
        "def abs_(x): return ['abs', x]\n",
        "def sin_(x): return ['sin', x]\n",
        "def cos_(x): return ['cos', x]\n",
        "def tan_(x): return ['tan', x]\n",
        "def arcsin_(x): return ['arcsin', x]\n",
        "def arccos_(x): return ['arccos', x]\n",
        "def arctan_(x): return ['arctan', x]\n",
        "def sinh_(x): return ['sinh', x]\n",
        "def cosh_(x): return ['cosh', x]\n",
        "def tanh_(x): return ['tanh', x]\n",
        "def arcsinh_(x): return ['arcsinh', x]\n",
        "def arccosh_(x): return ['arccosh', x]\n",
        "def arctanh_(x): return ['arctanh', x]\n",
        "def sqrt_(x): return ['sqrt', x]\n",
        "def ln_(x):  return ['ln',x]\n",
        "def lg_(x):  return ['lg',x]\n",
        "def root_(x,y):  return ['r',x, y]\n",
        "def log_(x,y):  return ['g',x, y]\n",
        "def exp_(x): return ['exp', x]\n",
        "\n",
        "\n",
        "\n",
        "def fix(x):\n",
        "  if isinstance(x, Expression):\n",
        "    return x\n",
        "  return Expression(x)\n",
        "def abs(x):\n",
        "  return Expression(abs_(fix(x).T))\n",
        "def sin(x):\n",
        "  return Expression(sin_(fix(x).T))\n",
        "def cos(x):\n",
        "  return Expression(cos_(fix(x).T))\n",
        "def tan (x):\n",
        "  return Expression(tan_(fix(x).T))\n",
        "def arcsin(x):\n",
        "  return Expression(arcsin_(fix(x).T))\n",
        "def arccos(x):\n",
        "  return Expression(arccos_(fix(x).T))\n",
        "def arctan (x):\n",
        "  return Expression(arctan_(fix(x).T))\n",
        "def sinh(x):\n",
        "  return Expression(sinh_(fix(x).T))\n",
        "def cosh(x):\n",
        "  return Expression(cosh_(fix(x).T))\n",
        "def tanh (x):\n",
        "  return Expression(tanh_(fix(x).T))\n",
        "def arcsinh(x):\n",
        "  return Expression(arcsinh_(fix(x).T))\n",
        "def arccosh(x):\n",
        "  return Expression(arccosh_(fix(x).T))\n",
        "def arctanh (x):\n",
        "  return Expression(arctanh_(fix(x).T))\n",
        "def sqrt(x):\n",
        "  return Expression(sqrt_(fix(x).T))\n",
        "def root(x,y):\n",
        "  return Expression(root_((fix(x).T),fix(y).T))\n",
        "def log(x,y):\n",
        "  return Expression(log_((fix(x).T),fix(y).T))\n",
        "def ln(x):\n",
        "  return Expression(ln_(fix(x).T))\n",
        "def lg(x):\n",
        "  return Expression(lg_(fix(x).T))\n",
        "\n",
        "def show(x):\n",
        "  display(Math(latex(x)))\n",
        "\n",
        "def enclose(x):\n",
        "  return f'\\\\left( {x} \\\\right)'\n",
        "\n",
        "def latex(x):\n",
        "  if isinstance(x, Expression):\n",
        "    return latex(x.T)\n",
        "  if isinstance(x, (int, str)):\n",
        "    return str(x)\n",
        "  op = x[0]\n",
        "  if op in '+-*/^r':\n",
        "    l, r = latex(x[1]), latex(x[2])\n",
        "    if op == '+':\n",
        "      return f'{l} + {r}'\n",
        "    if op == '-':\n",
        "      return f'{l} - {r}'\n",
        "    if op == '*':\n",
        "      return f'{l} \\\\cdot {r}'\n",
        "    if op == '/':\n",
        "      return f'\\\\dfrac{{{l}}}{{{r}}}'\n",
        "    if op == 'r':\n",
        "      return f'\\sqrt {[r]} {{{l}}}'\n",
        "    if op == 'g':\n",
        "      return f'\\log {_r} {{{l}}}'\n",
        "    if op == '^':\n",
        "      if isinstance(x[1], list):\n",
        "        l = enclose(l)\n",
        "      return f'{{{l}}}^{{{r}}}'\n",
        "  else: \n",
        "    a = latex(x[1])\n",
        "    if op == '~':\n",
        "      return f'- {a}'\n",
        "    if op == 'abs':\n",
        "      return f'\\\\mid {a}\\mid'\n",
        "    if op == 'sin':\n",
        "      return f'\\\\sin {a}'\n",
        "    if op == 'cos':\n",
        "      return f'\\\\cos {a}'\n",
        "    if op == 'tan':\n",
        "      return f'\\\\tan {{{a}}}'\n",
        "    if op == 'arcsin':\n",
        "      return f'\\\\arcsin {a}'\n",
        "    if op == 'arccos':\n",
        "      return f'\\\\arccos {a}'\n",
        "    if op == 'arctan':\n",
        "      return f'\\\\arctan {{{a}}}'\n",
        "    if op == 'sinh':\n",
        "      return f'\\\\sinh {a}'\n",
        "    if op == 'cosh':\n",
        "      return f'\\\\cosh {a}'\n",
        "    if op == 'tanh':\n",
        "      return f'\\\\tanh {{{a}}}'\n",
        "    if op == 'arcsinh':\n",
        "      return f'\\\\arcsinh {a}'\n",
        "    if op == 'arccosh':\n",
        "      return f'\\\\arccosh {a}'\n",
        "    if op == 'arctanh':\n",
        "      return f'\\\\arctanh {{{a}}}'\n",
        "    if op == 'sqrt':\n",
        "      return f'\\\\sqrt{{{a}}}'\n",
        "    if op == 'ln':\n",
        "      return f'\\\\ln{{{a}}}'\n",
        "    if op == 'lg':\n",
        "      return f'\\\\lg{{{a}}}'\n",
        "    if op == 'exp':\n",
        "      return f'e ^ {{{a}}}'\n",
        "\n",
        "def symbols(s):\n",
        "  S = s.split()\n",
        "  if len(S) == 1:\n",
        "    return Expression(s)\n",
        "  return (Expression(i) for i in S)\n",
        "\n",
        "def evalf(x, arg = {}):\n",
        "  if isinstance(x, Expression):\n",
        "    if isinstance(arg, dict):\n",
        "      arg = {i.T: arg[i] for i in arg}\n",
        "    else:\n",
        "      arg = {'$': arg}\n",
        "    return evalf(x.T, arg)\n",
        "  if isinstance(x, int):\n",
        "    return x\n",
        "  if isinstance(x, str):\n",
        "    if x in arg:\n",
        "      return arg[x]\n",
        "    return arg['$']\n",
        "  op = x[0]\n",
        "  if op in '+-*/^rg':\n",
        "    l, r = evalf(x[1], arg), evalf(x[2], arg)\n",
        "    if op == '+':\n",
        "      return l + r\n",
        "    if op == '-':\n",
        "      return l - r\n",
        "    if op == '*':\n",
        "      return l * r\n",
        "    if op == '/':\n",
        "      return l / r\n",
        "    if op == '^':\n",
        "      return l ** r\n",
        "    if op == 'r':\n",
        "      return r ** (1/l)\n",
        "    if op == 'g':\n",
        "      return np.log(l,r)\n",
        "  \n",
        "  else:\n",
        "    a = evalf(x[1], arg)\n",
        "    if op == '~':\n",
        "      return - a\n",
        "    if op == 'abs':\n",
        "      return np.absolute(a)\n",
        "    if op == 'sin':\n",
        "      return np.sin(a)\n",
        "    if op == 'cos':\n",
        "      return np.cos(a)\n",
        "    if op == 'tan':\n",
        "      return np.tan(a)\n",
        "    if op == 'arcsin':\n",
        "      return np.arcsin(a)\n",
        "    if op == 'arccos':\n",
        "      return np.arccos(a)\n",
        "    if op == 'arctan':\n",
        "      return np.arctan(a)\n",
        "    if op == 'sinh':\n",
        "      return np.sinh(a)\n",
        "    if op == 'cosh':\n",
        "      return np.cosh(a)\n",
        "    if op == 'tanh':\n",
        "      return np.tanh(a)\n",
        "    if op == 'arcsinh':\n",
        "      return np.arcsinh(a)\n",
        "    if op == 'arccosh':\n",
        "      return np.arccosh(a)\n",
        "    if op == 'arctanh':\n",
        "      return np.arctanh(a)\n",
        "    if op == 'sqrt':\n",
        "      return np.sqrt(a)\n",
        "    if op =='ln':\n",
        "      return np.log(a)\n",
        "    if op =='lg':\n",
        "      return np.log10(a)\n",
        "  return None\n",
        "\n",
        "def plot(y, x):\n",
        "  X = np.linspace(x[1], x[2], 1000)\n",
        "  Y = evalf(y, {x[0]: X})\n",
        "  plt.plot(X, Y)\n",
        "\n",
        "class Expression:\n",
        "  def __init__(self, x):\n",
        "    self.T = x\n",
        "  def __add__(self, x):\n",
        "    return Expression(add(self.T, fix(x).T))\n",
        "  def __radd__(self, x):\n",
        "    return Expression(add(fix(x).T, self.T))\n",
        "  def __sub__(self, x):\n",
        "    return Expression(sub(self.T, fix(x).T))\n",
        "  def __rsub__(self, x):\n",
        "    return Expression(sub(fix(x).T, self.T))\n",
        "  def __mul__(self, x):\n",
        "    return Expression(mul(self.T, fix(x).T))\n",
        "  def __rmul__(self, x):\n",
        "    return Expression(mul(fix(x).T, self.T))\n",
        "  def __truediv__(self, x):\n",
        "    return Expression(div(self.T, fix(x).T))\n",
        "  def __rtruediv__(self, x):\n",
        "    return Expression(div(fix(x).T, self.T))\n",
        "  def __pow__(self, x):\n",
        "    return Expression(power(self.T, fix(x).T))\n",
        "  def __rpow__(self, x):\n",
        "    return Expression(power(fix(x).T, self.T))\n",
        "  def __neg__(self):\n",
        "    return Expression(negative(self.T)) \n",
        "def exp(x):\n",
        "  return Expression(exp_(fix(x).T))\n",
        "def Z(x):\n",
        "  return Expression(x)\n",
        "\n",
        "def isInt(x):\n",
        "  return isinstance(x.T, int)\n",
        "def diff(y, x):\n",
        "  if isInt(y):\n",
        "    return Z(0)\n",
        "  if isinstance(y.T, str):\n",
        "    if y.T == x.T:\n",
        "      return Z(1)\n",
        "    return Z(0)\n",
        "  op = y.T[0] \n",
        "  if op in '+-*/^':\n",
        "    u, v = Expression(y.T[1]), Expression(y.T[2])\n",
        "    du, dv = diff(u, x), diff(v, x)\n",
        "    if op == '+':\n",
        "      return du + dv\n",
        "    if op == '-':\n",
        "      return du - dv\n",
        "    if op == '*':\n",
        "      #if isInt(u): return u * dv # упрощение\n",
        "      #if isInt(v): return du * v # упрощение\n",
        "      return du * v + u * dv\n",
        "    if op == '/':\n",
        "      if isInt(u): return - u * dv / v ** 2 # упрощение\n",
        "      if isInt(v): return du / v # упрощение\n",
        "      return (du * v - u * dv) / v ** 2\n",
        "    if op == '^':\n",
        "      if isInt(v): # u(x) ^ n\n",
        "        n = v.T\n",
        "        if n == 0:\n",
        "          return Z(0)\n",
        "        if n == 1:\n",
        "          return du\n",
        "        if du.T == 1: return n * u ** (n - 1) # упрощение\n",
        "        return n * u ** (n - 1) * du\n",
        "      if isInt(u): # n ^ v(x)\n",
        "        n = u.T\n",
        "        return ln(n) * (u ** v) * dv\n",
        "  else:\n",
        "    u = Expression(y.T[1])\n",
        "    du = diff(u, x)\n",
        "    if op == '~': return -du\n",
        "    if op == 'sin': return cos(u) * du\n",
        "    if op == 'cos': return -sin(u) * du\n",
        "    if op == 'tan': return du/ (sin(u)**2)\n",
        "    if op == 'sqrt': return du / (2 * sqrt(u))\n",
        "    if op == 'ln': return du / u\n",
        "    if op == 'exp': return exp(u) * du\n",
        "    if op == 'sqrt': return 1/2*du\n",
        "    if op == 'arcsin': return du/(sqrt(1-u**2))\n",
        "    if op == 'arccos': return -du/(sqrt(1-u**2))\n",
        "    if op == 'arctan': return du/(1+u**2)\n",
        "    if op == 'sinh': return cosh(u) * du\n",
        "    if op == 'cosh': return sinh(u) * du\n",
        "    if op == 'tanh': return du/ (cosh(u)**2)\n",
        "  return None\n",
        "def Diff(y, x, n = 1):\n",
        "  dy = y\n",
        "  for i in range(n):\n",
        "    dy = diff(dy, x)\n",
        "  return dy"
      ]
    },
    {
      "cell_type": "code",
      "source": [
        "  x = Expression('x')\n",
        "  y = Expression('y')\n",
        "  show(diff(x+y,x))\n",
        "  show(diff(x-y,x))\n",
        "  show(diff(x*y,x))\n",
        "  show(diff(x/y,x))\n",
        "  show(diff(x**5,x))\n",
        "  show(diff(5**x,x))\n",
        "  show(diff(sqrt(x),x))\n",
        "  show(diff(ln(x),x))\n",
        "  show(diff(exp(x),x))\n",
        "  show(diff(sin(x),x))\n",
        "  show(diff(cos(x),x))\n",
        "  show(diff(tan(x),x))\n",
        "  show(diff(arcsin(x),x))\n",
        "  show(diff(arccos(x),x))\n",
        "  show(diff(arctan(x),x))\n",
        "  show(diff(sinh(x),x))\n",
        "  show(diff(cosh(x),x))\n",
        "  show(diff(tanh(2*x),x))\n",
        "  print(\"\")\n",
        "  for n in range(5):\n",
        "    show(Diff(x ** 3, x, n))"
      ],
      "metadata": {
        "colab": {
          "base_uri": "https://localhost:8080/",
          "height": 662
        },
        "id": "eO8e4_h_e5sg",
        "outputId": "706be553-0427-4f3d-e425-4c58a78dba50"
      },
      "execution_count": 69,
      "outputs": [
        {
          "output_type": "display_data",
          "data": {
            "text/plain": [
              "<IPython.core.display.Math object>"
            ],
            "text/latex": "$\\displaystyle 1 + 0$"
          },
          "metadata": {}
        },
        {
          "output_type": "display_data",
          "data": {
            "text/plain": [
              "<IPython.core.display.Math object>"
            ],
            "text/latex": "$\\displaystyle 1 - 0$"
          },
          "metadata": {}
        },
        {
          "output_type": "display_data",
          "data": {
            "text/plain": [
              "<IPython.core.display.Math object>"
            ],
            "text/latex": "$\\displaystyle 1 \\cdot y + x \\cdot 0$"
          },
          "metadata": {}
        },
        {
          "output_type": "display_data",
          "data": {
            "text/plain": [
              "<IPython.core.display.Math object>"
            ],
            "text/latex": "$\\displaystyle \\dfrac{1 \\cdot y - x \\cdot 0}{{y}^{2}}$"
          },
          "metadata": {}
        },
        {
          "output_type": "display_data",
          "data": {
            "text/plain": [
              "<IPython.core.display.Math object>"
            ],
            "text/latex": "$\\displaystyle 5 \\cdot {x}^{4}$"
          },
          "metadata": {}
        },
        {
          "output_type": "display_data",
          "data": {
            "text/plain": [
              "<IPython.core.display.Math object>"
            ],
            "text/latex": "$\\displaystyle \\ln{5} \\cdot {5}^{x} \\cdot 1$"
          },
          "metadata": {}
        },
        {
          "output_type": "display_data",
          "data": {
            "text/plain": [
              "<IPython.core.display.Math object>"
            ],
            "text/latex": "$\\displaystyle \\dfrac{1}{2 \\cdot \\sqrt{x}}$"
          },
          "metadata": {}
        },
        {
          "output_type": "display_data",
          "data": {
            "text/plain": [
              "<IPython.core.display.Math object>"
            ],
            "text/latex": "$\\displaystyle \\dfrac{1}{x}$"
          },
          "metadata": {}
        },
        {
          "output_type": "display_data",
          "data": {
            "text/plain": [
              "<IPython.core.display.Math object>"
            ],
            "text/latex": "$\\displaystyle e ^ {x} \\cdot 1$"
          },
          "metadata": {}
        },
        {
          "output_type": "display_data",
          "data": {
            "text/plain": [
              "<IPython.core.display.Math object>"
            ],
            "text/latex": "$\\displaystyle \\cos x \\cdot 1$"
          },
          "metadata": {}
        },
        {
          "output_type": "display_data",
          "data": {
            "text/plain": [
              "<IPython.core.display.Math object>"
            ],
            "text/latex": "$\\displaystyle - \\sin x \\cdot 1$"
          },
          "metadata": {}
        },
        {
          "output_type": "display_data",
          "data": {
            "text/plain": [
              "<IPython.core.display.Math object>"
            ],
            "text/latex": "$\\displaystyle \\dfrac{1}{{\\left( \\sin x \\right)}^{2}}$"
          },
          "metadata": {}
        },
        {
          "output_type": "display_data",
          "data": {
            "text/plain": [
              "<IPython.core.display.Math object>"
            ],
            "text/latex": "$\\displaystyle \\dfrac{1}{\\sqrt{1 - {x}^{2}}}$"
          },
          "metadata": {}
        },
        {
          "output_type": "display_data",
          "data": {
            "text/plain": [
              "<IPython.core.display.Math object>"
            ],
            "text/latex": "$\\displaystyle \\dfrac{- 1}{\\sqrt{1 - {x}^{2}}}$"
          },
          "metadata": {}
        },
        {
          "output_type": "display_data",
          "data": {
            "text/plain": [
              "<IPython.core.display.Math object>"
            ],
            "text/latex": "$\\displaystyle \\dfrac{1}{1 + {x}^{2}}$"
          },
          "metadata": {}
        },
        {
          "output_type": "display_data",
          "data": {
            "text/plain": [
              "<IPython.core.display.Math object>"
            ],
            "text/latex": "$\\displaystyle \\cosh x \\cdot 1$"
          },
          "metadata": {}
        },
        {
          "output_type": "display_data",
          "data": {
            "text/plain": [
              "<IPython.core.display.Math object>"
            ],
            "text/latex": "$\\displaystyle \\sinh x \\cdot 1$"
          },
          "metadata": {}
        },
        {
          "output_type": "display_data",
          "data": {
            "text/plain": [
              "<IPython.core.display.Math object>"
            ],
            "text/latex": "$\\displaystyle \\dfrac{0 \\cdot x + 2 \\cdot 1}{{\\left( \\cosh 2 \\cdot x \\right)}^{2}}$"
          },
          "metadata": {}
        },
        {
          "output_type": "stream",
          "name": "stdout",
          "text": [
            "\n"
          ]
        },
        {
          "output_type": "display_data",
          "data": {
            "text/plain": [
              "<IPython.core.display.Math object>"
            ],
            "text/latex": "$\\displaystyle {x}^{3}$"
          },
          "metadata": {}
        },
        {
          "output_type": "display_data",
          "data": {
            "text/plain": [
              "<IPython.core.display.Math object>"
            ],
            "text/latex": "$\\displaystyle 3 \\cdot {x}^{2}$"
          },
          "metadata": {}
        },
        {
          "output_type": "display_data",
          "data": {
            "text/plain": [
              "<IPython.core.display.Math object>"
            ],
            "text/latex": "$\\displaystyle 0 \\cdot {x}^{2} + 3 \\cdot 2 \\cdot {x}^{1}$"
          },
          "metadata": {}
        },
        {
          "output_type": "display_data",
          "data": {
            "text/plain": [
              "<IPython.core.display.Math object>"
            ],
            "text/latex": "$\\displaystyle 0 \\cdot {x}^{2} + 0 \\cdot 2 \\cdot {x}^{1} + 0 \\cdot 2 \\cdot {x}^{1} + 3 \\cdot 0 \\cdot {x}^{1} + 2 \\cdot 1$"
          },
          "metadata": {}
        },
        {
          "output_type": "display_data",
          "data": {
            "text/plain": [
              "<IPython.core.display.Math object>"
            ],
            "text/latex": "$\\displaystyle 0 \\cdot {x}^{2} + 0 \\cdot 2 \\cdot {x}^{1} + 0 \\cdot 2 \\cdot {x}^{1} + 0 \\cdot 0 \\cdot {x}^{1} + 2 \\cdot 1 + 0 \\cdot 2 \\cdot {x}^{1} + 0 \\cdot 0 \\cdot {x}^{1} + 2 \\cdot 1 + 0 \\cdot 0 \\cdot {x}^{1} + 2 \\cdot 1 + 3 \\cdot 0 \\cdot {x}^{1} + 0 \\cdot 1 + 0 \\cdot 1 + 2 \\cdot 0$"
          },
          "metadata": {}
        }
      ]
    }
  ]
}