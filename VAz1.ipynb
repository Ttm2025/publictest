{
  "nbformat": 4,
  "nbformat_minor": 0,
  "metadata": {
    "colab": {
      "provenance": [],
      "authorship_tag": "ABX9TyMYXJQTVqZiQ+ai9HSo7bK0",
      "include_colab_link": true
    },
    "kernelspec": {
      "name": "python3",
      "display_name": "Python 3"
    },
    "language_info": {
      "name": "python"
    }
  },
  "cells": [
    {
      "cell_type": "markdown",
      "metadata": {
        "id": "view-in-github",
        "colab_type": "text"
      },
      "source": [
        "<a href=\"https://colab.research.google.com/github/Ttm2025/test/blob/main/VAz1.ipynb\" target=\"_parent\"><img src=\"https://colab.research.google.com/assets/colab-badge.svg\" alt=\"Open In Colab\"/></a>"
      ]
    },
    {
      "cell_type": "code",
      "execution_count": 54,
      "metadata": {
        "id": "7R-iHq32Mhns"
      },
      "outputs": [],
      "source": [
        "from IPython.display import display, Math\n",
        "class Rational:\n",
        "    def __init__(self, n, m = 1):\n",
        "        self.n = n\n",
        "        self.m = m\n",
        "        self.normalize()\n",
        "    def normalize(self):\n",
        "        if self.n == 0: \n",
        "            self.m = 1\n",
        "            return\n",
        "        if self.m < 0:\n",
        "            self.n *= -1\n",
        "            self.m *= -1\n",
        "        gcd = get_gcd(abs(self.n), self.m)\n",
        "        self.n //= gcd\n",
        "        self.m //= gcd\n",
        "    def __str__(self):\n",
        "        return f\"{self.n}/{self.m}\"\n",
        "    def show(self, mixed=1):\n",
        "        if self.m == 1:\n",
        "            out = f\"{self.n}\"\n",
        "        elif self.n > 0:\n",
        "            out = f\"\\\\dfrac{{{self.n}}}{{{self.m}}}\"\n",
        "        else:\n",
        "            out = f\"-\\\\dfrac{{{-self.n}}}{{{self.m}}}\"\n",
        "        if mixed==1 and abs(self.n)>self.m:\n",
        "           dop = mix(self.n, self.m)\n",
        "           k=dop[0]\n",
        "           n=dop[1].n\n",
        "           m=dop[1].m\n",
        "           out= f\"{k}\"+f\"\\\\dfrac{{{n}}}{{{m}}}\"\n",
        "        display(Math(out))\n",
        "    def __add__(self, q):\n",
        "        n = self.n * q.m + self.m * q.n\n",
        "        m = self.m * q.m\n",
        "        return Rational(n, m)\n",
        "    def __sub__ (self, q):\n",
        "        n=self.n * q.m - self.m * q.n\n",
        "        m = self.m * q.m\n",
        "        return Rational(n, m)\n",
        "    def __mul__ (self, q):\n",
        "        n=self.n * q.n\n",
        "        m = self.m * q.m\n",
        "        return Rational(n, m)\n",
        "    def __truediv__(self, q):\n",
        "        if q.n == 0:\n",
        "            raise ZeroDivisionError(\"division rational number by zero\")\n",
        "        n = self.n * q.m\n",
        "        m = self.m * q.n\n",
        "        return Rational(n, m)\n",
        "    def __pow__ (self, q):\n",
        "        n=self.n ** q\n",
        "        m = self.m ** q\n",
        "        return Rational(n, m)\n",
        "    def __radd__(self, q):\n",
        "        n = q.n * self.m + q.m * self.n\n",
        "        m = q.m * self.m\n",
        "        return Rational(n, m)\n",
        "    def __rmul__ (self, q):\n",
        "        n = q.n * self.n\n",
        "        m = q.m * self.m\n",
        "        return Rational(n, m)\n",
        "    def __rsub__ (self, q):\n",
        "        n= self.m * q.n - self.n * q.m \n",
        "        m = self.m * q.m\n",
        "        return Rational(n, m)\n",
        "    def __truediv__(self, q):\n",
        "        if self.n == 0:\n",
        "            raise ZeroDivisionError(\"division rational number by zero\")\n",
        "        n = self.n * q.m\n",
        "        m = self.m * q.n\n",
        "        return Rational(n, m)\n",
        "    def __neg__(self):\n",
        "       n = self.n * -1\n",
        "       return Rational(n,self.m)\n",
        "    def __abs__(self):\n",
        "      if self.n<0:\n",
        "        n = self.n * -1\n",
        "      return Rational(n,self.m)\n",
        "    def __iadd__(self, q):\n",
        "      n = self.n * q.m + self.m * q.n\n",
        "      m = self.m * q.m\n",
        "      return Rational(n, m)\n",
        "    def __isub__ (self, q):\n",
        "        n=self.n * q.m - self.m * q.n\n",
        "        m = self.m * q.m\n",
        "        return Rational(n, m)\n",
        "    def __imul__ (self, q):\n",
        "        n=self.n * q.n\n",
        "        m = self.m * q.m\n",
        "        return Rational(n, m)\n",
        "    def __itruediv__(self, q):\n",
        "        if q.n == 0:\n",
        "            raise ZeroDivisionError(\"division rational number by zero\")\n",
        "        n = self.n * q.m\n",
        "        m = self.m * q.n\n",
        "        return Rational(n, m)\n",
        "    def __eq__(self, q):\n",
        "        return self.n == q.n and self.m == q.m\n",
        "    def __ne__(self, q):\n",
        "        return self.n != q.n or self.m != q.m\n",
        "    def __lt__(self, q):\n",
        "        return self.n*q.m < self.m * q.n\n",
        "    def __le__(self, q):\n",
        "        return self.n*q.m <= self.m * q.n\n",
        "    def __gt__(self, q):\n",
        "        return self.n*q.m > self.m * q.n\n",
        "    def __ge__(self, q):\n",
        "        return self.n*q.m >= self.m * q.n\n",
        "def evalf(self):\n",
        "    return self.n / self.m\n",
        "def mix(n,m):\n",
        "    k = n // m\n",
        "    n = n % m\n",
        "    return [k, Rational(n,m)]\n",
        "def get_gcd(n, m):\n",
        "    while m > 0:\n",
        "        n, m = m, n % m\n",
        "    return n\n"
      ]
    },
    {
      "cell_type": "code",
      "source": [
        "q = Rational(1, -3)\n",
        "q.show()\n",
        "p = Rational(1, 3) + Rational(1, 6)\n",
        "p.show()\n",
        "p = Rational(1, 2) - Rational(1, 3)\n",
        "p.show()\n",
        "p = Rational(1, 2) * Rational(4, 3)\n",
        "p.show()\n",
        "p = Rational(1, 2) ** 6\n",
        "p.show()\n",
        "p = -Rational(1, 2)\n",
        "p.show()\n",
        "p = abs(Rational(1, -2))\n",
        "p.show()\n",
        "print()\n",
        "p  += Rational(1, 6)\n",
        "p.show()\n",
        "print()\n",
        "p -= Rational(1, 3)\n",
        "p.show()\n",
        "print()\n",
        "p  *= Rational(4, 3)\n",
        "p.show()\n",
        "p  /= Rational(4, 3)\n",
        "p.show()\n"
      ],
      "metadata": {
        "colab": {
          "base_uri": "https://localhost:8080/",
          "height": 443
        },
        "id": "tJZEdM9NNXk6",
        "outputId": "698182a6-2dcf-478c-b369-b3f80a8d131e"
      },
      "execution_count": null,
      "outputs": [
        {
          "output_type": "display_data",
          "data": {
            "text/plain": [
              "<IPython.core.display.Math object>"
            ],
            "text/latex": "$\\displaystyle -\\dfrac{1}{3}$"
          },
          "metadata": {}
        },
        {
          "output_type": "display_data",
          "data": {
            "text/plain": [
              "<IPython.core.display.Math object>"
            ],
            "text/latex": "$\\displaystyle \\dfrac{1}{2}$"
          },
          "metadata": {}
        },
        {
          "output_type": "display_data",
          "data": {
            "text/plain": [
              "<IPython.core.display.Math object>"
            ],
            "text/latex": "$\\displaystyle \\dfrac{1}{6}$"
          },
          "metadata": {}
        },
        {
          "output_type": "display_data",
          "data": {
            "text/plain": [
              "<IPython.core.display.Math object>"
            ],
            "text/latex": "$\\displaystyle \\dfrac{2}{3}$"
          },
          "metadata": {}
        },
        {
          "output_type": "display_data",
          "data": {
            "text/plain": [
              "<IPython.core.display.Math object>"
            ],
            "text/latex": "$\\displaystyle \\dfrac{1}{64}$"
          },
          "metadata": {}
        },
        {
          "output_type": "display_data",
          "data": {
            "text/plain": [
              "<IPython.core.display.Math object>"
            ],
            "text/latex": "$\\displaystyle -\\dfrac{1}{2}$"
          },
          "metadata": {}
        },
        {
          "output_type": "display_data",
          "data": {
            "text/plain": [
              "<IPython.core.display.Math object>"
            ],
            "text/latex": "$\\displaystyle \\dfrac{1}{2}$"
          },
          "metadata": {}
        },
        {
          "output_type": "stream",
          "name": "stdout",
          "text": [
            "\n"
          ]
        },
        {
          "output_type": "display_data",
          "data": {
            "text/plain": [
              "<IPython.core.display.Math object>"
            ],
            "text/latex": "$\\displaystyle \\dfrac{2}{3}$"
          },
          "metadata": {}
        },
        {
          "output_type": "stream",
          "name": "stdout",
          "text": [
            "\n"
          ]
        },
        {
          "output_type": "display_data",
          "data": {
            "text/plain": [
              "<IPython.core.display.Math object>"
            ],
            "text/latex": "$\\displaystyle \\dfrac{1}{3}$"
          },
          "metadata": {}
        },
        {
          "output_type": "stream",
          "name": "stdout",
          "text": [
            "\n"
          ]
        },
        {
          "output_type": "display_data",
          "data": {
            "text/plain": [
              "<IPython.core.display.Math object>"
            ],
            "text/latex": "$\\displaystyle \\dfrac{4}{9}$"
          },
          "metadata": {}
        },
        {
          "output_type": "display_data",
          "data": {
            "text/plain": [
              "<IPython.core.display.Math object>"
            ],
            "text/latex": "$\\displaystyle \\dfrac{1}{3}$"
          },
          "metadata": {}
        }
      ]
    },
    {
      "cell_type": "code",
      "source": [
        "Rational(1, 2) == Rational(3, 6)\n"
      ],
      "metadata": {
        "colab": {
          "base_uri": "https://localhost:8080/"
        },
        "id": "aGSRGJ73X8zo",
        "outputId": "dc4ee70f-3429-4d53-8a47-2563dcdebcd2"
      },
      "execution_count": null,
      "outputs": [
        {
          "output_type": "execute_result",
          "data": {
            "text/plain": [
              "True"
            ]
          },
          "metadata": {},
          "execution_count": 61
        }
      ]
    },
    {
      "cell_type": "code",
      "source": [
        "Rational(1, 2) != Rational(7, 6)"
      ],
      "metadata": {
        "colab": {
          "base_uri": "https://localhost:8080/"
        },
        "id": "8e3V7ecJYrFI",
        "outputId": "dd9a9da3-c44c-4b9e-8744-446c8f833170"
      },
      "execution_count": null,
      "outputs": [
        {
          "output_type": "execute_result",
          "data": {
            "text/plain": [
              "True"
            ]
          },
          "metadata": {},
          "execution_count": 62
        }
      ]
    },
    {
      "cell_type": "code",
      "source": [
        "Rational(1, 2) < Rational(7, 6)"
      ],
      "metadata": {
        "colab": {
          "base_uri": "https://localhost:8080/"
        },
        "id": "FIFyAq3eZOxP",
        "outputId": "1826a8ea-9832-42bb-898e-0845a303101e"
      },
      "execution_count": null,
      "outputs": [
        {
          "output_type": "execute_result",
          "data": {
            "text/plain": [
              "True"
            ]
          },
          "metadata": {},
          "execution_count": 63
        }
      ]
    },
    {
      "cell_type": "code",
      "source": [
        "Rational(1, 2) <= Rational(3, 6)"
      ],
      "metadata": {
        "colab": {
          "base_uri": "https://localhost:8080/"
        },
        "id": "NsxwG8EzZ05t",
        "outputId": "b689ba1c-7cc3-4fd6-eec0-3226a4ef30ad"
      },
      "execution_count": null,
      "outputs": [
        {
          "output_type": "execute_result",
          "data": {
            "text/plain": [
              "True"
            ]
          },
          "metadata": {},
          "execution_count": 64
        }
      ]
    },
    {
      "cell_type": "code",
      "source": [
        "Rational(1, 2) >= Rational(7, 6)"
      ],
      "metadata": {
        "colab": {
          "base_uri": "https://localhost:8080/"
        },
        "id": "GzYA1MAbZ1HL",
        "outputId": "d39f842e-136d-4a91-86fd-aaf6c288fe02"
      },
      "execution_count": null,
      "outputs": [
        {
          "output_type": "execute_result",
          "data": {
            "text/plain": [
              "False"
            ]
          },
          "metadata": {},
          "execution_count": 67
        }
      ]
    },
    {
      "cell_type": "code",
      "source": [
        "Rational(1, 2) > Rational(7, 6)"
      ],
      "metadata": {
        "colab": {
          "base_uri": "https://localhost:8080/"
        },
        "id": "vvPH4tD1Z1N_",
        "outputId": "f1ba70fd-5983-4a09-b0ae-18492975bfdd"
      },
      "execution_count": null,
      "outputs": [
        {
          "output_type": "execute_result",
          "data": {
            "text/plain": [
              "False"
            ]
          },
          "metadata": {},
          "execution_count": 66
        }
      ]
    },
    {
      "cell_type": "code",
      "source": [
        "p = evalf(Rational(1, -3))\n",
        "print(p)"
      ],
      "metadata": {
        "colab": {
          "base_uri": "https://localhost:8080/"
        },
        "id": "48IJjxblbv2Y",
        "outputId": "81a32649-e97d-411e-801b-cb71f577dcb6"
      },
      "execution_count": null,
      "outputs": [
        {
          "output_type": "stream",
          "name": "stdout",
          "text": [
            "-0.3333333333333333\n"
          ]
        }
      ]
    },
    {
      "cell_type": "code",
      "source": [
        "q = Rational(110, -4)\n",
        "q.show()"
      ],
      "metadata": {
        "colab": {
          "base_uri": "https://localhost:8080/",
          "height": 51
        },
        "id": "0VfRV7VbB-tK",
        "outputId": "903bed7a-8092-4ab2-e782-7b58eb79c4a9"
      },
      "execution_count": 56,
      "outputs": [
        {
          "output_type": "display_data",
          "data": {
            "text/plain": [
              "<IPython.core.display.Math object>"
            ],
            "text/latex": "$\\displaystyle -28\\dfrac{1}{2}$"
          },
          "metadata": {}
        }
      ]
    }
  ]
}