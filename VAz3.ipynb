{
  "nbformat": 4,
  "nbformat_minor": 0,
  "metadata": {
    "colab": {
      "provenance": [],
      "collapsed_sections": [],
      "authorship_tag": "ABX9TyMv7C/mKGNhqxtJXaibZUou",
      "include_colab_link": true
    },
    "kernelspec": {
      "name": "python3",
      "display_name": "Python 3"
    },
    "language_info": {
      "name": "python"
    }
  },
  "cells": [
    {
      "cell_type": "markdown",
      "metadata": {
        "id": "view-in-github",
        "colab_type": "text"
      },
      "source": [
        "<a href=\"https://colab.research.google.com/github/Ttm2025/test/blob/main/VAz3.ipynb\" target=\"_parent\"><img src=\"https://colab.research.google.com/assets/colab-badge.svg\" alt=\"Open In Colab\"/></a>"
      ]
    },
    {
      "cell_type": "code",
      "execution_count": 18,
      "metadata": {
        "id": "E7F9hDDMPeH9"
      },
      "outputs": [],
      "source": [
        "from IPython.display import display, Math\n",
        "import numpy as np\n",
        "import matplotlib\n",
        "import matplotlib.pyplot as plt\n",
        "\n",
        "def add(x, y): return ['+', x, y]\n",
        "def sub(x, y): return ['-', x, y]\n",
        "def mul(x, y): return ['*', x, y]\n",
        "def div(x, y): return ['/', x, y]\n",
        "def power(x, y): return ['^', x, y]\n",
        "def negative(x): return ['~', x]\n",
        "def abs_(x): return ['abs', x]\n",
        "def sin_(x): return ['sin', x]\n",
        "def cos_(x): return ['cos', x]\n",
        "def tan_(x): return ['tan', x]\n",
        "def arcsin_(x): return ['arcsin', x]\n",
        "def arccos_(x): return ['arccos', x]\n",
        "def arctan_(x): return ['arctan', x]\n",
        "def sinh_(x): return ['sinh', x]\n",
        "def cosh_(x): return ['cosh', x]\n",
        "def tanh_(x): return ['tanh', x]\n",
        "def arcsinh_(x): return ['arcsinh', x]\n",
        "def arccosh_(x): return ['arccosh', x]\n",
        "def arctanh_(x): return ['arctanh', x]\n",
        "def sqrt_(x): return ['sqrt', x]\n",
        "def ln_(x):  return ['ln',x]\n",
        "def lg_(x):  return ['lg',x]\n",
        "\n",
        "\n",
        "\n",
        "def fix(x):\n",
        "  if isinstance(x, Expression):\n",
        "    return x\n",
        "  return Expression(x)\n",
        "def abs(x):\n",
        "  return Expression(abs_(fix(x).T))\n",
        "def sin(x):\n",
        "  return Expression(sin_(fix(x).T))\n",
        "def cos(x):\n",
        "  return Expression(cos_(fix(x).T))\n",
        "def tan (x):\n",
        "  return Expression(tan_(fix(x).T))\n",
        "def arcsin(x):\n",
        "  return Expression(arcsin_(fix(x).T))\n",
        "def arccos(x):\n",
        "  return Expression(arccos_(fix(x).T))\n",
        "def arctan (x):\n",
        "  return Expression(arctan_(fix(x).T))\n",
        "def sinh(x):\n",
        "  return Expression(sinh_(fix(x).T))\n",
        "def cosh(x):\n",
        "  return Expression(cosh_(fix(x).T))\n",
        "def tanh (x):\n",
        "  return Expression(tanh_(fix(x).T))\n",
        "def arcsinh(x):\n",
        "  return Expression(arcsinh_(fix(x).T))\n",
        "def arccosh(x):\n",
        "  return Expression(arccosh_(fix(x).T))\n",
        "def arctanh (x):\n",
        "  return Expression(arctanh_(fix(x).T))\n",
        "def sqrt(x):\n",
        "  return Expression(sqrt_(fix(x).T))\n",
        "def ln(x):\n",
        "  return Expression(ln_(fix(x).T))\n",
        "def lg(x):\n",
        "  return Expression(lg_(fix(x).T))\n",
        "\n",
        "def show(x):\n",
        "  display(Math(latex(x)))\n",
        "\n",
        "def enclose(x):\n",
        "  return f'\\\\left( {x} \\\\right)'\n",
        "\n",
        "def latex(x):\n",
        "  if isinstance(x, Expression):\n",
        "    return latex(x.T)\n",
        "  if isinstance(x, (int, str)):\n",
        "    return str(x)\n",
        "  op = x[0]\n",
        "  if op in '+-*/^g':\n",
        "    l, r = latex(x[1]), latex(x[2])\n",
        "    if op == '+':\n",
        "      return f'{l} + {r}'\n",
        "    if op == '-':\n",
        "      return f'{l} - {r}'\n",
        "    if op == '*':\n",
        "      return f'{l} \\\\cdot {r}'\n",
        "    if op == '/':\n",
        "      return f'\\\\dfrac{{{l}}}{{{r}}}'\n",
        "    if op == 'g':\n",
        "      return f'\\sqrt [l]{{{r}}}'\n",
        "    if op == '^':\n",
        "      if isinstance(x[1], list):\n",
        "        l = enclose(l)\n",
        "      return f'{{{l}}}^{{{r}}}'\n",
        "  else: \n",
        "    a = latex(x[1])\n",
        "    if op == '~':\n",
        "      return f'- {a}'\n",
        "    if op == 'abs':\n",
        "      return f'\\\\mid {a}\\mid'\n",
        "    if op == 'sin':\n",
        "      return f'\\\\sin {a}'\n",
        "    if op == 'cos':\n",
        "      return f'\\\\cos {a}'\n",
        "    if op == 'tan':\n",
        "      return f'\\\\tan {{{a}}}'\n",
        "    if op == 'arcsin':\n",
        "      return f'\\\\arcsin {a}'\n",
        "    if op == 'arccos':\n",
        "      return f'\\\\arccos {a}'\n",
        "    if op == 'arctan':\n",
        "      return f'\\\\arctan {{{a}}}'\n",
        "    if op == 'sinh':\n",
        "      return f'\\\\sinh {a}'\n",
        "    if op == 'cosh':\n",
        "      return f'\\\\cosh {a}'\n",
        "    if op == 'tanh':\n",
        "      return f'\\\\tanh {{{a}}}'\n",
        "    if op == 'arcsinh':\n",
        "      return f'\\\\arcsinh {a}'\n",
        "    if op == 'arccosh':\n",
        "      return f'\\\\arccosh {a}'\n",
        "    if op == 'arctanh':\n",
        "      return f'\\\\arctanh {{{a}}}'\n",
        "    if op == 'sqrt':\n",
        "      return f'\\\\sqrt{{{a}}}'\n",
        "    if op == 'ln':\n",
        "      return f'\\\\ln{{{a}}}'\n",
        "    if op == 'lg':\n",
        "      return f'\\\\lg{{{a}}}'\n",
        "\n",
        "def symbols(s):\n",
        "  S = s.split()\n",
        "  if len(S) == 1:\n",
        "    return Expression(s)\n",
        "  return (Expression(i) for i in S)\n",
        "\n",
        "def evalf(x, arg = {}):\n",
        "  if isinstance(x, Expression):\n",
        "    if isinstance(arg, dict):\n",
        "      arg = {i.T: arg[i] for i in arg}\n",
        "    else:\n",
        "      arg = {'$': arg}\n",
        "    return evalf(x.T, arg)\n",
        "  if isinstance(x, int):\n",
        "    return x\n",
        "  if isinstance(x, str):\n",
        "    if x in arg:\n",
        "      return arg[x]\n",
        "    return arg['$']\n",
        "  op = x[0]\n",
        "  if op in '+-*/^g':\n",
        "    l, r = evalf(x[1], arg), evalf(x[2], arg)\n",
        "    if op == '+':\n",
        "      return l + r\n",
        "    if op == '-':\n",
        "      return l - r\n",
        "    if op == '*':\n",
        "      return l * r\n",
        "    if op == '/':\n",
        "      return l / r\n",
        "    if op == '^':\n",
        "      return l ** r\n",
        "    if op == 'g':\n",
        "      return r ** (1/l)\n",
        "  \n",
        "  else:\n",
        "    a = evalf(x[1], arg)\n",
        "    if op == '~':\n",
        "      return - a\n",
        "    if op == 'abs':\n",
        "      return np.absolute(a)\n",
        "    if op == 'sin':\n",
        "      return np.sin(a)\n",
        "    if op == 'cos':\n",
        "      return np.cos(a)\n",
        "    if op == 'tan':\n",
        "      return np.tan(a)\n",
        "    if op == 'arcsin':\n",
        "      return np.arcsin(a)\n",
        "    if op == 'arccos':\n",
        "      return np.arccos(a)\n",
        "    if op == 'arctan':\n",
        "      return np.arctan(a)\n",
        "    if op == 'sinh':\n",
        "      return np.sinh(a)\n",
        "    if op == 'cosh':\n",
        "      return np.cosh(a)\n",
        "    if op == 'tanh':\n",
        "      return np.tanh(a)\n",
        "    if op == 'arcsinh':\n",
        "      return np.arcsinh(a)\n",
        "    if op == 'arccosh':\n",
        "      return np.arccosh(a)\n",
        "    if op == 'arctanh':\n",
        "      return np.arctanh(a)\n",
        "    if op == 'sqrt':\n",
        "      return np.sqrt(a)\n",
        "    if op =='ln':\n",
        "      return np.log(a)\n",
        "    if op =='lg':\n",
        "      return np.log10(a)\n",
        "  return None\n",
        "\n",
        "def plot(y, x):\n",
        "  X = np.linspace(x[1], x[2], 1000)\n",
        "  Y = evalf(y, {x[0]: X})\n",
        "  plt.plot(X, Y)\n",
        "\n",
        "class Expression:\n",
        "  def __init__(self, x):\n",
        "    self.T = x\n",
        "  def __add__(self, x):\n",
        "    return Expression(add(self.T, fix(x).T))\n",
        "  def __radd__(self, x):\n",
        "    return Expression(add(fix(x).T, self.T))\n",
        "  def __sub__(self, x):\n",
        "    return Expression(sub(self.T, fix(x).T))\n",
        "  def __rsub__(self, x):\n",
        "    return Expression(sub(fix(x).T, self.T))\n",
        "  def __mul__(self, x):\n",
        "    return Expression(mul(self.T, fix(x).T))\n",
        "  def __rmul__(self, x):\n",
        "    return Expression(mul(fix(x).T, self.T))\n",
        "  def __truediv__(self, x):\n",
        "    return Expression(div(self.T, fix(x).T))\n",
        "  def __rtruediv__(self, x):\n",
        "    return Expression(div(fix(x).T, self.T))\n",
        "  def __pow__(self, x):\n",
        "    return Expression(power(self.T, fix(x).T))\n",
        "  def __rpow__(self, x):\n",
        "    return Expression(power(fix(x).T, self.T))\n",
        "  def __neg__(self):\n",
        "    return Expression(negative(self.T)) "
      ]
    },
    {
      "cell_type": "code",
      "source": [
        "x = Expression('x')\n",
        "z=2*x**3/4-5\n",
        "show(z)\n",
        "\n",
        "show(abs(x+7))\n",
        "show(sqrt(x))\n",
        "show(cos(x))\n",
        "show(sin(x))\n",
        "show(tan(x))\n",
        "show(arccos(x))\n",
        "show(arcsin(x))\n",
        "show(arctan(x))\n",
        "show(cosh(x))\n",
        "show(sinh(x))\n",
        "show(tanh(x))\n",
        "show(arccosh(x))\n",
        "show(arcsinh(x))\n",
        "show(arctanh(x))\n",
        "\n",
        "show(ln(x))\n",
        "show(lg(x))\n",
        "\n",
        "z=sqrt(121)+sqrt(121)-10\n",
        "show(z)\n",
        "print(evalf(z))\n",
        "z=(abs(sqrt(121)+sqrt(121)-30))\n",
        "show(z)\n",
        "print(evalf(z))\n",
        "plot(x ** 2, (x, -1, 1))\n",
        "plot(sqrt(x),(x, 1, 0))\n",
        "plot(-x,(x, -1, 0))"
      ],
      "metadata": {
        "colab": {
          "base_uri": "https://localhost:8080/",
          "height": 720
        },
        "id": "Gm8i3nZaQjPa",
        "outputId": "df1ce71d-6861-440f-92a0-d9b2ae2a1570"
      },
      "execution_count": 19,
      "outputs": [
        {
          "output_type": "display_data",
          "data": {
            "text/plain": [
              "<IPython.core.display.Math object>"
            ],
            "text/latex": "$\\displaystyle \\dfrac{2 \\cdot {x}^{3}}{4} - 5$"
          },
          "metadata": {}
        },
        {
          "output_type": "display_data",
          "data": {
            "text/plain": [
              "<IPython.core.display.Math object>"
            ],
            "text/latex": "$\\displaystyle \\mid x + 7\\mid$"
          },
          "metadata": {}
        },
        {
          "output_type": "display_data",
          "data": {
            "text/plain": [
              "<IPython.core.display.Math object>"
            ],
            "text/latex": "$\\displaystyle \\sqrt{x}$"
          },
          "metadata": {}
        },
        {
          "output_type": "display_data",
          "data": {
            "text/plain": [
              "<IPython.core.display.Math object>"
            ],
            "text/latex": "$\\displaystyle \\cos x$"
          },
          "metadata": {}
        },
        {
          "output_type": "display_data",
          "data": {
            "text/plain": [
              "<IPython.core.display.Math object>"
            ],
            "text/latex": "$\\displaystyle \\sin x$"
          },
          "metadata": {}
        },
        {
          "output_type": "display_data",
          "data": {
            "text/plain": [
              "<IPython.core.display.Math object>"
            ],
            "text/latex": "$\\displaystyle \\tan {x}$"
          },
          "metadata": {}
        },
        {
          "output_type": "display_data",
          "data": {
            "text/plain": [
              "<IPython.core.display.Math object>"
            ],
            "text/latex": "$\\displaystyle \\arccos x$"
          },
          "metadata": {}
        },
        {
          "output_type": "display_data",
          "data": {
            "text/plain": [
              "<IPython.core.display.Math object>"
            ],
            "text/latex": "$\\displaystyle \\arcsin x$"
          },
          "metadata": {}
        },
        {
          "output_type": "display_data",
          "data": {
            "text/plain": [
              "<IPython.core.display.Math object>"
            ],
            "text/latex": "$\\displaystyle \\arctan {x}$"
          },
          "metadata": {}
        },
        {
          "output_type": "display_data",
          "data": {
            "text/plain": [
              "<IPython.core.display.Math object>"
            ],
            "text/latex": "$\\displaystyle \\cosh x$"
          },
          "metadata": {}
        },
        {
          "output_type": "display_data",
          "data": {
            "text/plain": [
              "<IPython.core.display.Math object>"
            ],
            "text/latex": "$\\displaystyle \\sinh x$"
          },
          "metadata": {}
        },
        {
          "output_type": "display_data",
          "data": {
            "text/plain": [
              "<IPython.core.display.Math object>"
            ],
            "text/latex": "$\\displaystyle \\tanh {x}$"
          },
          "metadata": {}
        },
        {
          "output_type": "display_data",
          "data": {
            "text/plain": [
              "<IPython.core.display.Math object>"
            ],
            "text/latex": "$\\displaystyle \\arccosh x$"
          },
          "metadata": {}
        },
        {
          "output_type": "display_data",
          "data": {
            "text/plain": [
              "<IPython.core.display.Math object>"
            ],
            "text/latex": "$\\displaystyle \\arcsinh x$"
          },
          "metadata": {}
        },
        {
          "output_type": "display_data",
          "data": {
            "text/plain": [
              "<IPython.core.display.Math object>"
            ],
            "text/latex": "$\\displaystyle \\arctanh {x}$"
          },
          "metadata": {}
        },
        {
          "output_type": "display_data",
          "data": {
            "text/plain": [
              "<IPython.core.display.Math object>"
            ],
            "text/latex": "$\\displaystyle \\ln{x}$"
          },
          "metadata": {}
        },
        {
          "output_type": "display_data",
          "data": {
            "text/plain": [
              "<IPython.core.display.Math object>"
            ],
            "text/latex": "$\\displaystyle \\lg{x}$"
          },
          "metadata": {}
        },
        {
          "output_type": "display_data",
          "data": {
            "text/plain": [
              "<IPython.core.display.Math object>"
            ],
            "text/latex": "$\\displaystyle \\sqrt{121} + \\sqrt{121} - 10$"
          },
          "metadata": {}
        },
        {
          "output_type": "stream",
          "name": "stdout",
          "text": [
            "12.0\n"
          ]
        },
        {
          "output_type": "display_data",
          "data": {
            "text/plain": [
              "<IPython.core.display.Math object>"
            ],
            "text/latex": "$\\displaystyle \\mid \\sqrt{121} + \\sqrt{121} - 30\\mid$"
          },
          "metadata": {}
        },
        {
          "output_type": "stream",
          "name": "stdout",
          "text": [
            "8.0\n"
          ]
        },
        {
          "output_type": "display_data",
          "data": {
            "text/plain": [
              "<Figure size 432x288 with 1 Axes>"
            ],
            "image/png": "[encoded data removed]"
          },
          "metadata": {
            "needs_background": "light"
          }
        }
      ]
    },
    {
      "cell_type": "code",
      "source": [],
      "metadata": {
        "id": "_YumrKBaYjwV"
      },
      "execution_count": 28,
      "outputs": []
    }
  ]
}