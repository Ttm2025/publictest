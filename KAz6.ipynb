{
  "nbformat": 4,
  "nbformat_minor": 0,
  "metadata": {
    "colab": {
      "provenance": [],
      "authorship_tag": "ABX9TyOAvnmZw+UrUahLT96Op9Bv",
      "include_colab_link": true
    },
    "kernelspec": {
      "name": "python3",
      "display_name": "Python 3"
    },
    "language_info": {
      "name": "python"
    }
  },
  "cells": [
    {
      "cell_type": "markdown",
      "metadata": {
        "id": "view-in-github",
        "colab_type": "text"
      },
      "source": [
        "<a href=\"https://colab.research.google.com/github/Ttm2025/test/blob/main/KAz6.ipynb\" target=\"_parent\"><img src=\"https://colab.research.google.com/assets/colab-badge.svg\" alt=\"Open In Colab\"/></a>"
      ]
    },
    {
      "cell_type": "code",
      "execution_count": 14,
      "metadata": {
        "id": "NjXfGa-seXaJ"
      },
      "outputs": [],
      "source": [
        "#@title /\n",
        "from ast import Return\n",
        "from IPython.display import display, Math\n",
        "import numpy as np\n",
        "import matplotlib\n",
        "import matplotlib.pyplot as plt\n",
        "import sympy as sp\n",
        "import math\n",
        "from functools import reduce\n",
        "def add(x, y): return ['+', x, y]\n",
        "def sub(x, y): return ['-', x, y]\n",
        "def mul(x, y): return ['*', x, y]\n",
        "def div(x, y): return ['/', x, y]\n",
        "def power(x, y): return ['^', x, y]\n",
        "def negative(x): return ['~', x]\n",
        "def sin_(x): return ['sin', x]\n",
        "def cos_(x): return ['cos', x]\n",
        "def sqrt_(x): return ['sqrt', x]\n",
        "def ln_(x): return ['ln', x]\n",
        "def exp_(x): return ['exp', x]\n",
        "def arcsin_(x): return ['arcsin', x]\n",
        "def arccos_(x): return ['arccos', x]\n",
        "def arctan_(x): return ['arctan', x]\n",
        "\n",
        "def Sum(*x): return ['S', *x]\n",
        "def Product(*x): return ['P', *x]\n",
        "\n",
        "def fix(x):\n",
        "  if isinstance(x, Expression):\n",
        "    return x\n",
        "  return Expression(x)\n",
        "\n",
        "class Expression:\n",
        "  def __init__(self, x):\n",
        "    self.T = x\n",
        "  def __add__(self, x):\n",
        "    return Expression(add(self.T, fix(x).T))\n",
        "  def __radd__(self, x):\n",
        "    return Expression(add(fix(x).T, self.T))\n",
        "  def __sub__(self, x):\n",
        "    return Expression(sub(self.T, fix(x).T))\n",
        "  def __rsub__(self, x):\n",
        "    return Expression(sub(fix(x).T, self.T))\n",
        "  def __mul__(self, x):\n",
        "    return Expression(mul(self.T, fix(x).T))\n",
        "  def __rmul__(self, x):\n",
        "    return Expression(mul(fix(x).T, self.T))\n",
        "  def __truediv__(self, x):\n",
        "    return Expression(div(self.T, fix(x).T))\n",
        "  def __rtruediv__(self, x):\n",
        "    return Expression(div(fix(x).T, self.T))\n",
        "  def __pow__(self, x):\n",
        "    return Expression(power(self.T, fix(x).T))\n",
        "  def __rpow__(self, x):\n",
        "    return Expression(power(fix(x).T, self.T))\n",
        "  def __neg__(self):\n",
        "    return Expression(negative(self.T))  \n",
        "def sin(x):\n",
        "  return Expression(sin_(fix(x).T))\n",
        "def cos(x):\n",
        "  return Expression(cos_(fix(x).T))\n",
        "def sqrt(x):\n",
        "  return Expression(sqrt_(fix(x).T))\n",
        "def ln(x):\n",
        "  return Expression(ln_(fix(x).T))\n",
        "def exp(x):\n",
        "  return Expression(exp_(fix(x).T))\n",
        "def arcsin(x):\n",
        "  return Expression(arcsin_(fix(x).T))\n",
        "def arccos(x):\n",
        "  return Expression(arccos_(fix(x).T))\n",
        "def arctan (x):\n",
        "  return Expression(arctan_(fix(x).T))\n",
        "\n",
        "def show(x):\n",
        "  display(Math(latex(x)))\n",
        "\n",
        "def enclose(x):\n",
        "  return f'\\\\left( {x} \\\\right)'\n",
        "\n",
        "def latex(x):\n",
        "  if isinstance(x, Expression):\n",
        "    return latex(x.T)\n",
        "\n",
        "  if isinstance(x, int):\n",
        "    return str(x)\n",
        "\n",
        "  if isinstance(x, float):\n",
        "    return str(x)\n",
        "\n",
        "  if isinstance(x, str):\n",
        "    return extendSymbol(x)\n",
        "\n",
        "  op = x[0]\n",
        "  if op in '+-*/^':\n",
        "    l, r = latex(x[1]), latex(x[2])\n",
        "    if op == '+':\n",
        "      return f'{l} + {r}'\n",
        "    if op == '-':\n",
        "      return f'{l} - {r}'\n",
        "    if op == '*':\n",
        "      if isinstance(x[1], list) and x[1][0] in '+-' or l[0] == '-':\n",
        "        l = enclose(l)\n",
        "      if isinstance(x[2], list) and x[2][0] in '+-' or r[0] == '-':\n",
        "        r = enclose(r)      \n",
        "      return f'{l} \\\\cdot {r}'\n",
        "    if op == '/':\n",
        "      return f'\\\\dfrac{{{l}}}{{{r}}}'\n",
        "    if op == '^':\n",
        "      #if r=='0':\n",
        "       # return f'{{{1}}}'\n",
        "      if r=='1':\n",
        "        return f'{{{l}}}'\n",
        "      #if l=='1':\n",
        "       # return f'{{{1}}}'\n",
        "      if isinstance(x[1], list):\n",
        "        l = enclose(l)\n",
        "      return f'{{{l}}}^{{{r}}}'\n",
        "  elif op == 'S':\n",
        "    A = [latex(a) for a in x[1:]]\n",
        "    for k in range(len(A)):\n",
        "      if A[k][0] == '-':\n",
        "        A[k] = enclose(A[k])\n",
        "      return ' + '.join(A)\n",
        "  elif op == 'P':\n",
        "    A = [latex(a) for a in x[1:]]\n",
        "    for k in range(1, len(x)):\n",
        "      if isinstance(x[k], list) and x[k][0] == 'S' or A[k-1][0] == '-':\n",
        "        A[k-1] = enclose(A[k-1])\n",
        "    return ' \\\\cdot '.join(A)\n",
        "  elif op == 'q':\n",
        "    if x[2] == 1:\n",
        "      return str(x[1])\n",
        "    if x[1] > 0:\n",
        "      return f'\\\\dfrac{{{x[1]}}}{{{x[2]}}}'\n",
        "    return f'-\\\\dfrac{{{-x[1]}}}{{{x[2]}}}'\n",
        "  elif op == '=':\n",
        "      return f'{latex(x[1])} = {latex(x[2])}'\n",
        "  elif op == 'set':\n",
        "    A = [latex(a) for a in x[1:]]\n",
        "    return f'\\\\left\\\\{{ {\",\".join(A)} \\\\right\\\\}}'\n",
        "\n",
        "  else: \n",
        "    a = enclose(latex(x[1]))\n",
        "    if op == '~':\n",
        "      return f'- {a}'\n",
        "    if op == 'sin':\n",
        "      return f'\\\\sin {a}'\n",
        "    if op == 'cos':\n",
        "      return f'\\\\cos {a}'\n",
        "    if op == 'sqrt':\n",
        "      return f'\\\\sqrt{{{a}}}'\n",
        "    if op == 'ln':\n",
        "      return f'\\\\ln {a}'\n",
        "    if op == 'exp':\n",
        "      return f'e ^ {{{a}}}'\n",
        "    if op == 'arcsin':\n",
        "      return f'\\\\arcsin {a}'\n",
        "    if op == 'arccos':\n",
        "      return f'\\\\arccos {a}'\n",
        "    if op == 'arctan':\n",
        "      return f'\\\\arctan {{{a}}}'\n",
        "\n",
        "def extendSymbol(x):\n",
        "  if len(x) == 1:\n",
        "    return x\n",
        "  if x in ['alpha', 'beta', 'gamma', 'pi']:\n",
        "    return f'\\\\{x}'\n",
        "  return f'{x[0]}_{{{x[1:]}}}'\n",
        "\n",
        "def symbols(s):\n",
        "  S = s.split()\n",
        "  if len(S) == 1:\n",
        "    return Expression(s)\n",
        "  return (Expression(i) for i in S)\n",
        "\n",
        "def evalf(x, arg = {}):\n",
        "  if isinstance(x, Expression):\n",
        "    if isinstance(arg, dict):\n",
        "      arg = {i.T: arg[i] for i in arg}\n",
        "    else:\n",
        "      arg = {'$': arg}\n",
        "    return evalf(x.T, arg)\n",
        "\n",
        "  if isinstance(x, int):\n",
        "    return x\n",
        "\n",
        "  if isinstance(x, float):\n",
        "    return x\n",
        "\n",
        "  if isinstance(x, str):\n",
        "    if x in arg:\n",
        "      return arg[x]\n",
        "    return arg['$']\n",
        "\n",
        "  op = x[0]\n",
        "  if op in '+-*/^':\n",
        "    l, r = evalf(x[1], arg), evalf(x[2], arg)\n",
        "    if op == '+':\n",
        "      return l + r\n",
        "    if op == '-':\n",
        "      return l - r\n",
        "    if op == '*':\n",
        "      return l * r\n",
        "    if op == '/':\n",
        "      return l / r\n",
        "    if op == '^':\n",
        "      return l ** r\n",
        "  elif op in 'SP':\n",
        "    A = [evalf(a, arg) for a in x[1:]]\n",
        "    if op == 'S':\n",
        "      return sum(A)\n",
        "    if op == 'P':\n",
        "      return reduce(lambda x, y: x * y, A, 1)\n",
        "  elif op == 'q':\n",
        "    return x[1] / x[2]\n",
        "  else:\n",
        "    a = evalf(x[1], arg)\n",
        "    if op == '~':\n",
        "      return - a\n",
        "    if op == 'sin':\n",
        "      return np.sin(a)\n",
        "    if op == 'cos':\n",
        "      return np.cos(a)\n",
        "    if op == 'sqrt':\n",
        "      return np.sqrt(a)\n",
        "    if op == 'ln':\n",
        "      return np.log(a)\n",
        "    if op == 'exp':\n",
        "      return np.exp(a)\n",
        "    if op == 'arcsin':\n",
        "      return np.arcsin(a)\n",
        "    if op == 'arccos':\n",
        "      return np.arccos(a)\n",
        "    if op == 'arctan':\n",
        "      return np.arctan(a)\n",
        "  return None\n",
        "\n",
        "def Z(x):\n",
        "  return Expression(x)\n",
        "\n",
        "def isInt(x):\n",
        "  return isinstance(x.T, int)\n",
        "\n",
        "def diff(y, x):\n",
        "  if isInt(y):\n",
        "    return Z(0)\n",
        "\n",
        "  if isinstance(y.T, str):\n",
        "    if y.T == x.T:\n",
        "      return Z(1)\n",
        "    return Z(0)\n",
        "\n",
        "  op = y.T[0] \n",
        "  if op in '+-*/^':\n",
        "    u, v = Expression(y.T[1]), Expression(y.T[2])\n",
        "    du, dv = diff(u, x), diff(v, x)\n",
        "    if op == '+':\n",
        "      return du + dv\n",
        "    if op == '-':\n",
        "      return du - dv\n",
        "    if op == '*':\n",
        "      #if isInt(u): return u * dv # упрощение\n",
        "      #if isInt(v): return du * v # упрощение\n",
        "      return du * v + u * dv\n",
        "    if op == '/':\n",
        "      if isInt(u): return - u * dv / v ** 2 # упрощение\n",
        "      if isInt(v): return du / v # упрощение\n",
        "      return (du * v - u * dv) / v ** 2\n",
        "    if op == '^':\n",
        "      if isInt(v): # u(x) ^ n\n",
        "        n = v.T\n",
        "        if n == 0:\n",
        "          return Z(0)\n",
        "        if n == 1:\n",
        "          return du\n",
        "        if du.T == 1: return n * u ** (n - 1) # упрощение\n",
        "        return n * u ** (n - 1) * du\n",
        "      if isInt(u): # n ^ v(x)\n",
        "        n = u.T\n",
        "        return ln(n) * (u ** v) * dv\n",
        "  else:\n",
        "    u = Expression(y.T[1])\n",
        "    du = diff(u, x)\n",
        "    if op == '~': return -du\n",
        "    if op == 'sin': return cos(u) * du\n",
        "    if op == 'cos': return -sin(u) * du\n",
        "    if op == 'sqrt': return du / (2 * sqrt(u))\n",
        "    if op == 'ln': return du / u\n",
        "    if op == 'exp': return exp(u) * du\n",
        "  \n",
        "  return None\n",
        "\n",
        "def Diff(y, x, n = 1):\n",
        "  dy = y\n",
        "  for i in range(n):\n",
        "    dy = diff(dy, x)\n",
        "  return dy\n",
        "\n",
        "def taylorCoeffs(y, x, n, x0):\n",
        "  A = [evalf(y, x0)]\n",
        "  dy = diff(y, x)\n",
        "  for i in range(n):\n",
        "    A.append(evalf(dy, x0))\n",
        "    dy = diff(dy, x)\n",
        "  return A\n",
        "\n",
        "def fac(n):\n",
        "  return 1 if n < 2 else n * fac(n - 1) \n",
        "\n",
        "def taylorTerm(a, x, n, x0):\n",
        "  a, x0 = int(a), int(x0)\n",
        "  if n == 0:\n",
        "    return Z(a)\n",
        "  d = x\n",
        "  if x0 > 0: \n",
        "    d = x - x0\n",
        "  elif x0 < 0: \n",
        "    d = x + (-x0)\n",
        "  if n == 1:\n",
        "    return a * d\n",
        "  return (Z(a) / fac(n)) * d ** n\n",
        "\n",
        "def taylorSeries(y, x, n, x0 = 0):\n",
        "  A = taylorCoeffs(y, x, n, x0)\n",
        "  f = None\n",
        "  for i in range(n + 1):\n",
        "    if A[i] == 0:\n",
        "      continue\n",
        "    elif A[i] > 0:\n",
        "      t = taylorTerm(A[i], x, i, x0)\n",
        "      f = t if f == None else f + t\n",
        "    else:\n",
        "      t = taylorTerm(-A[i], x, i, x0)\n",
        "      f = -t if f == None else f - t\n",
        "  if f == None:\n",
        "    f = Z(0)\n",
        "  return f\n",
        "\n",
        "def rational(n, m):\n",
        "  if n == 0:\n",
        "    return ['q', 0, 1]\n",
        "  if m < 0:\n",
        "    n, m = -n, -m\n",
        "  d = gcd(abs(n), m)\n",
        "  return ['q', n // d, m // d]\n",
        "\n",
        "def Q(n, m):\n",
        "  return Expression(rational(n, m))\n",
        "  \n",
        "def gcd(n, m):\n",
        "  while m:\n",
        "    n, m = m, n % m\n",
        "  return n\n",
        "\n",
        "def normalize(x):\n",
        "  if isinstance(x, (int, str)): return x \n",
        "  op, arg = x[0], x[1:]\n",
        "  A = [normalize(a) for a in arg] \n",
        "  if op in '+S': # сборка сумм\n",
        "    R = []\n",
        "    for a in A:\n",
        "      R += a[1:] if isinstance(a, list) and a[0] in '+S' else [a]\n",
        "    return Sum(*R)\n",
        "  if op in '*P': # сборка произведений\n",
        "    R = []\n",
        "    for a in A:\n",
        "      R += a[1:] if isinstance(a, list) and a[0] in '*P' else [a]\n",
        "    return Product(*R)\n",
        "  if op == '~': # унарный минус\n",
        "    return normalize(Product(-1, A[0]))\n",
        "  if op == '-': # бинарный минус\n",
        "    return normalize(Sum(A[0], Product(-1, A[1])))\n",
        "  if op == '/': # деление\n",
        "    return normalize(Product(A[0], power(A[1], -1)))\n",
        "  if op == '^': # нормализация степеней\n",
        "    if isinstance(A[0], list) and A[0][0] == 'P':\n",
        "      B = [power(a, A[1]) for a in A[0][1:]]\n",
        "      return normalize(Product(*B))\n",
        "    if isinstance(A[0], list) and A[0][0] == '^':\n",
        "      d = Product(A[0][2], A[1])\n",
        "      return normalize(power(A[0][1], d))\n",
        "    #if A[-1] == 0:\n",
        "    #  return rational(1, 1)\n",
        "    #if A[-1]==1:\n",
        "    #  return (A[0])\n",
        "    #if A[0]==1:\n",
        "    #  return 1\n",
        "  return x\n",
        "\n",
        "def sortx(x):\n",
        "  if isinstance(x, list):\n",
        "    op, arg = x[0], x[1:]\n",
        "    A = [sortx(a) for a in arg]\n",
        "    if op in 'SP':\n",
        "      A.sort(key = lambda a: str(a))\n",
        "    return [op, *A]\n",
        "  return x\n",
        "\n",
        "def simplify(x):\n",
        "  if isinstance(x, Expression):\n",
        "    if x.T[0]=='exp' and x.T[1]==0:\n",
        "      return rational(1,1)\n",
        "    if x.T[0]=='exp'and x.T[1][0]=='ln':\n",
        "      f = x.T[1][1]\n",
        "      return f\n",
        "    if x.T[0]=='sin' and x.T[1]==0:\n",
        "      return rational(0,1)\n",
        "    if x.T[0]=='cos' and x.T[1]==0:\n",
        "      return rational(1,1)\n",
        "    if x.T[0]=='ln' and x.T[1]==1:\n",
        "      return rational(1,1)\n",
        "    if x.T[0]=='sin' and  x.T[1][0]=='arcsin' :\n",
        "      f=x.T[1][1]\n",
        "      if isinstance(f, int) and int(abs(f))>1:\n",
        "           print(\"Искл: |x|>1\")\n",
        "      else:\n",
        "         return f\n",
        "    if x.T[0]=='arcsin' and  x.T[1][0]=='sin' :\n",
        "      f=x.T[1][1]\n",
        "      if isinstance(f, int) and int(abs(f))>math.pi/2:\n",
        "           print(\"Искл: |x|>pi/2\")\n",
        "      else:\n",
        "         return f\n",
        "    if x.T[0]=='arccos' and  x.T[1][0]=='cos' :\n",
        "      f=x.T[1][1]\n",
        "      if isinstance(f, int) and (int((f))>math.pi or int((f))<0):\n",
        "           print(\"Искл: x не принадлежит [0,pi] \")\n",
        "      else:\n",
        "         return f\n",
        "    if x.T[0]=='cos' and  x.T[1][0]=='arccos' :\n",
        "      f=x.T[1][1]\n",
        "      if isinstance(f, int) and int(abs(f))>1:\n",
        "           print(\"Искл: |x|>1\")\n",
        "      else:\n",
        "         return f\n",
        "    return Expression(simplify(x.T))\n",
        "  if isinstance(x, str): # символ\n",
        "    return x\n",
        "  if isinstance(x, int): # целое, преобразуем в рациональное\n",
        "      return rational(x, 1)\n",
        "  if x[0] == 'q': # рациональное\n",
        "    return x\n",
        "  x = sortx(normalize(x))\n",
        "  op, arg = x[0], x[1:]\n",
        "  A = [simplify(a) for a in arg]\n",
        "  if op == '^':\n",
        "    if isinstance(A[0], list) and A[-1][1]==0:\n",
        "      return rational(1,1)\n",
        "    if isinstance(A[0], list) and A[0][1]==A[0][2]==1:\n",
        "      return rational(1,1)\n",
        "    if isinstance(A[1], list) and A[1][0] == 'q' and A[1][2] == 1:\n",
        "      if isinstance(A[0], list) and A[0][0] == 'q':\n",
        "        n, m, d = A[0][1], A[0][2], A[1][1]\n",
        "        if d >= 0:\n",
        "          return rational(n ** d, m ** d)\n",
        "        else:\n",
        "          return rational(m ** (-d), n ** (-d))\n",
        "  if op == 'P':\n",
        "    n, m, V = 1, 1, []\n",
        "    for a in A:\n",
        "      if isinstance(a, list) and a[0] == 'q':\n",
        "        n, m = n * a[1], m * a[2]\n",
        "      else:\n",
        "        V.append(a)\n",
        "    q = rational(n, m)\n",
        "    if len(V) > 1:\n",
        "      V = collectSameTermsP(V)\n",
        "    # здесь можно упростить множители V, не являющиеся рациональными числами\n",
        "    if q[1] == 0 or V == []: return q\n",
        "    if q[1] == 1 and q[2] == 1 and len(V) == 1: return V[0]\n",
        "    A = [q, *V] if q[1] != 1 or q[2] != 1 else [*V]\n",
        "  if op == 'S':\n",
        "    n, m, V = 0, 1, []\n",
        "    for a in A:\n",
        "      if isinstance(a, list) and a[0] == 'q':\n",
        "        n, m = n * a[2] + m * a[1], m * a[2]\n",
        "      else:\n",
        "        V.append(a)\n",
        "    q = rational(n, m)\n",
        "    if len(V) > 1:\n",
        "      V = collectSameTerms(V)\n",
        "    if V == []: return q\n",
        "    if q[1] == 0 and len(V) == 1: return V[0]\n",
        "    A = [q, *V] if q[1] != 0 else [*V]\n",
        "  return [op, *A]\n",
        "\n",
        "def collectSameTerms(A):\n",
        "  count, X = 1, []\n",
        "  for k in range(1, len(A)):\n",
        "    if A[k] == A[k - 1]:\n",
        "      count += 1\n",
        "      continue\n",
        "    X.append(simplify(Product(rational(count, 1), A[k - 1])))\n",
        "    count = 1\n",
        "  X.append(simplify(Product(rational(count, 1), A[-1])))\n",
        "  return X\n",
        "\n",
        "def collectSameTermsP(A):\n",
        "  count, X = 1, []\n",
        "  for k in range(1, len(A)):\n",
        "    if A[k] == A[k - 1]:\n",
        "      count += 1\n",
        "      continue\n",
        "    X.append(simplify(Expression(A[k-1])**count))\n",
        "  X.append(simplify(Expression(A[-1])**count))\n",
        "  return X\n",
        "def Eq(x, y):\n",
        "  return Expression(['=', fix(x).T, fix(y).T])\n",
        "\n",
        "\n",
        "def lhs(f):\n",
        "  if f.T[0] == '=':\n",
        "    return Expression(f.T[1])\n",
        "  return f\n",
        "\n",
        "def rhs(f):\n",
        "  if f.T[0] == '=':\n",
        "    return Expression(f.T[2])\n",
        "  return f\n",
        "def contains(f, x):\n",
        "  if isinstance(f, Expression):\n",
        "    return contains(f.T, x.T)\n",
        "  if isinstance(f, str):\n",
        "    return f == x\n",
        "  if isinstance(f, list):\n",
        "    for a in f[1:]:\n",
        "      if contains(a, x):\n",
        "        return True\n",
        "  return False\n",
        "\n",
        "def subs(f, x, x0):\n",
        "  if isinstance(f, Expression):\n",
        "    return Expression(subs(f.T, fix(x).T, fix(x0).T))\n",
        "  if isinstance(f, str):\n",
        "    if f == x:\n",
        "      return x0\n",
        "  if isinstance(f, list):\n",
        "    A = [subs(a, x, x0) for a in f[1:]]\n",
        "    return [f[0], *A]\n",
        "  return f\n",
        "\n",
        "def Set(*X):\n",
        "  if len(X)==1:\n",
        "    A = X\n",
        "  else:\n",
        "    A = [x.T for x in X]\n",
        "  return Expression(['set', *A])\n",
        "\n",
        "def solveLinear(eq, x):\n",
        "  f = lhs(eq) - rhs(eq)\n",
        "  df = diff(f, x)\n",
        "  k = simplify(df)\n",
        "  if contains(k, x):\n",
        "    raise ValueError('Equation is not linear')\n",
        "  b = simplify(subs(f, x, Z(0)))\n",
        "  if k.T != ['q', 0, 1]:\n",
        "    return Set(simplify(-b / k))\n",
        "  return Set()\n",
        "  \n",
        "def solveUnique(eq, x):\n",
        "  F = simplify(lhs(eq) - rhs(eq))\n",
        "  x0 = solveUnique_(F.T, 0, x.T)\n",
        "  if x0 == None:\n",
        "    return Set()\n",
        "  return Set(Expression(x0))\n",
        "\n",
        "def solveUnique_(L, R, x):\n",
        "  if L == x:\n",
        "    return R\n",
        "  if L[0]=='ln':\n",
        "      if L[1]=='x':\n",
        "        return \n",
        "      if L[1][0]=='S':\n",
        "        return evalf(1-L[1][1][1]/L[1][1][2])\n",
        "  if L[0] == 'S':\n",
        "    if L[2][0]=='P':\n",
        "      if L[2][2]=='x':\n",
        "        return -(L[1][1]/L[1][2])/(L[2][1][1]/L[2][1][2])\n",
        "      if L[2][2][0]=='S':\n",
        "        return -(L[1][1]/L[1][2])/(L[2][1][1]/L[2][1][2])-L[2][2][1][1]/L[2][2][1][2]\n",
        "    if L[2][0]=='exp':\n",
        "      if L[2][1]=='x':\n",
        "        return evalf(ln(-L[1][1]/L[1][2]))\n",
        "      if L[2][1][0]=='S':\n",
        "        return evalf(ln(-L[1][1]/L[1][2]))-L[2][1][1][1]/L[2][1][1][2]\n",
        "    if L[2][0]=='ln':\n",
        "      if L[2][1]=='x':\n",
        "        return evalf(exp(-L[1][1]/L[1][2]))\n",
        "      if L[2][1][0]=='S':\n",
        "        return evalf(exp(-L[1][1]/L[1][2]))-L[2][1][1][1]/L[2][1][1][2]\n",
        "  return None\n",
        "def cont(f, x):\n",
        "  if f == x:\n",
        "    return True\n",
        "  if isinstance(f, (int, str, float)):\n",
        "    return False\n",
        "  if isinstance(f, list):\n",
        "    for a in f:\n",
        "      if cont(a, x):\n",
        "        return True\n",
        "  return False\n",
        "\n",
        "def solveQuadratic(eq, x):\n",
        "  f = lhs(eq) - rhs(eq)\n",
        "  f = simplify(f)\n",
        "  if cont(f.T[2],'x') and (cont(f.T, ['*','x','x']) or cont(f.T,['**','x',['q', 2, 1]]) or cont(f.T,['^', 'x', ['q', 2, 1]])):\n",
        "    a, b, c = ['q', 0, 1], ['q', 0, 1], ['q', 0, 1]\n",
        "    for ai in f.T:\n",
        "      if cont(ai,['^', 'x', ['q', 2, 1]]): \n",
        "        if cont(ai,'P'): a=ai[1]\n",
        "        else: a = ['q', 1, 1]\n",
        "      elif cont(ai,'x'): \n",
        "        if cont(ai,'P'): b=ai[1]\n",
        "        else: b = ['q', 1, 1]\n",
        "      \n",
        "      elif cont(ai,'q'): c = ai\n",
        "    d = evalf(b[1]/b[2]*b[1]/b[2]-4*a[1]/a[2]*c[1]/c[2])\n",
        "    \n",
        "    if d>0:\n",
        "      if (evalf(sqrt(d))%1==0):\n",
        "        return Set(evalf(-b[1]/b[2]+sqrt(d))/(2*a[1]/a[2]), \n",
        "                evalf(-b[1]/b[2]-sqrt(d))/(2*a[1]/a[2]))\n",
        "      else: return Set(evalf(-b[1]/b[2]/(2*a[1]/a[2]))+sqrt(evalf(d/(2*a[1]/a[2])**2)), \n",
        "                evalf(-b[1]/b[2]/(2*a[1]/a[2]))-sqrt(evalf(d/(2*a[1]/a[2])**2)))\n",
        "    if d<0: return Set()\n",
        "    if d == 0:\n",
        "      return Set(evalf(-b[1]/b[2])/(2*a[1]/a[2]))\n",
        "  else:\n",
        "    raise ValueError('Equation is not quadratic')  \n",
        "def isSolution(eq, x, x0):\n",
        "  if evalf(lhs(eq), x0)==evalf(rhs(eq), x0): return True\n",
        "  else: return False\n",
        "\n",
        "def classifyEquation(eq, x):\n",
        "  f = lhs(eq) - rhs(eq)\n",
        "  s = ''\n",
        "  f_ = simplify(f)\n",
        "  n = 0\n",
        "  for a in f_.T:\n",
        "      if cont(a,'^') or cont(a,'x')or a == 'x':\n",
        "        if cont(a,'^'):\n",
        "          if a[2][1]/a[2][2]>n: n = a[2][1]/a[2][2]\n",
        "        elif (cont(a,'x')or a =='x') and (n<1): n =1.0\n",
        " \n",
        "  if (n ==2.0): return 'quadratic'\n",
        "  elif (n ==1.0):\n",
        "        k, m = 0, 0\n",
        "        for a in f.T:\n",
        "          if cont(a,'x'): k+=1\n",
        "          elif (cont(a,['exp', 'x'])or cont(a,['ln', 'x'])): m +=1\n",
        "   \n",
        "        if (k == 1 and m ==0)or (k==0 and m == 1): return 'unique'\n",
        "        else: return 'linear'\n",
        "  else: return 'unknown'\n",
        "\n",
        "def solve(eq, x):\n",
        "  if classifyEquation(eq, x) == 'unique': return solveUnique(eq, x)\n",
        "  elif classifyEquation(eq, x) == 'linear': return solveLinear(eq, x)\n",
        "  elif classifyEquation(eq, x) == 'quadratic': return solveQuadratic(eq, x)\n",
        "  else: return 'can not solve'"
      ]
    },
    {
      "cell_type": "code",
      "source": [
        "x=Expression('x')\n",
        "y=Expression('y')\n",
        "eq = Eq(x, x ** 2 + 1)\n",
        "show(eq)\n",
        "print (\"linear\")\n",
        "eq = Eq(Z(2) * x / 5 - 1, Z(3) + x / 2)\n",
        "show(eq)\n",
        "sol = solveLinear(eq, x)\n",
        "show(sol)\n",
        "print(\"unique\")\n",
        "eq = Eq(2*x+3-4, 1)\n",
        "show(eq)\n",
        "show(solveUnique(eq, x))\n",
        "eq = Eq(2*(x+1), 1)\n",
        "show(eq)\n",
        "show(solveUnique(eq, x))\n",
        "eq = Eq(exp(x+1), 1)\n",
        "show(eq)\n",
        "show(solveUnique(eq, x))\n",
        "eq = Eq(ln(x-1), 0)\n",
        "show(eq)\n",
        "show(solveUnique(eq, x))\n",
        "print(\"quadratic\")\n",
        "eq = Eq(x**2-3*x + 2, 0)\n",
        "show(eq)\n",
        "show(solveQuadratic(eq, 'x'))\n",
        "eq = Eq(x**2+4*x + 4, 0)\n",
        "show(eq)\n",
        "show(solveQuadratic(eq, 'x'))\n",
        "eq = Eq(x**2-x + 2, 0)\n",
        "show(eq)\n",
        "show(solveQuadratic(eq, 'x'))\n",
        "eq = Eq(x**2-2*x -1, 0)\n",
        "show(eq)\n",
        "show(solveQuadratic(eq, 'x'))\n",
        "\n",
        "\n",
        "\n"
      ],
      "metadata": {
        "colab": {
          "base_uri": "https://localhost:8080/",
          "height": 497
        },
        "id": "eO8e4_h_e5sg",
        "outputId": "2d0685e6-bc42-4e96-affc-8c9e5b1b8823"
      },
      "execution_count": 18,
      "outputs": [
        {
          "output_type": "display_data",
          "data": {
            "text/plain": [
              "<IPython.core.display.Math object>"
            ],
            "text/latex": "$\\displaystyle x = {x}^{2} + 1$"
          },
          "metadata": {}
        },
        {
          "output_type": "stream",
          "name": "stdout",
          "text": [
            "linear\n"
          ]
        },
        {
          "output_type": "display_data",
          "data": {
            "text/plain": [
              "<IPython.core.display.Math object>"
            ],
            "text/latex": "$\\displaystyle \\dfrac{2 \\cdot x}{5} - 1 = 3 + \\dfrac{x}{2}$"
          },
          "metadata": {}
        },
        {
          "output_type": "display_data",
          "data": {
            "text/plain": [
              "<IPython.core.display.Math object>"
            ],
            "text/latex": "$\\displaystyle \\left\\{ -40 \\right\\}$"
          },
          "metadata": {}
        },
        {
          "output_type": "stream",
          "name": "stdout",
          "text": [
            "unique\n"
          ]
        },
        {
          "output_type": "display_data",
          "data": {
            "text/plain": [
              "<IPython.core.display.Math object>"
            ],
            "text/latex": "$\\displaystyle 2 \\cdot x + 3 - 4 = 1$"
          },
          "metadata": {}
        },
        {
          "output_type": "display_data",
          "data": {
            "text/plain": [
              "<IPython.core.display.Math object>"
            ],
            "text/latex": "$\\displaystyle \\left\\{ 1.0 \\right\\}$"
          },
          "metadata": {}
        },
        {
          "output_type": "display_data",
          "data": {
            "text/plain": [
              "<IPython.core.display.Math object>"
            ],
            "text/latex": "$\\displaystyle 2 \\cdot \\left( x + 1 \\right) = 1$"
          },
          "metadata": {}
        },
        {
          "output_type": "display_data",
          "data": {
            "text/plain": [
              "<IPython.core.display.Math object>"
            ],
            "text/latex": "$\\displaystyle \\left\\{ -0.5 \\right\\}$"
          },
          "metadata": {}
        },
        {
          "output_type": "display_data",
          "data": {
            "text/plain": [
              "<IPython.core.display.Math object>"
            ],
            "text/latex": "$\\displaystyle e ^ {\\left( x + 1 \\right)} = 1$"
          },
          "metadata": {}
        },
        {
          "output_type": "display_data",
          "data": {
            "text/plain": [
              "<IPython.core.display.Math object>"
            ],
            "text/latex": "$\\displaystyle \\left\\{ -1.0 \\right\\}$"
          },
          "metadata": {}
        },
        {
          "output_type": "display_data",
          "data": {
            "text/plain": [
              "<IPython.core.display.Math object>"
            ],
            "text/latex": "$\\displaystyle \\ln \\left( x - 1 \\right) = 0$"
          },
          "metadata": {}
        },
        {
          "output_type": "display_data",
          "data": {
            "text/plain": [
              "<IPython.core.display.Math object>"
            ],
            "text/latex": "$\\displaystyle \\left\\{ 2.0 \\right\\}$"
          },
          "metadata": {}
        },
        {
          "output_type": "stream",
          "name": "stdout",
          "text": [
            "quadratic\n"
          ]
        },
        {
          "output_type": "display_data",
          "data": {
            "text/plain": [
              "<IPython.core.display.Math object>"
            ],
            "text/latex": "$\\displaystyle {x}^{2} - 3 \\cdot x + 2 = 0$"
          },
          "metadata": {}
        },
        {
          "output_type": "display_data",
          "data": {
            "text/plain": [
              "<IPython.core.display.Math object>"
            ],
            "text/latex": "$\\displaystyle \\left\\{ 2.0,1.0 \\right\\}$"
          },
          "metadata": {}
        },
        {
          "output_type": "display_data",
          "data": {
            "text/plain": [
              "<IPython.core.display.Math object>"
            ],
            "text/latex": "$\\displaystyle {x}^{2} + 4 \\cdot x + 4 = 0$"
          },
          "metadata": {}
        },
        {
          "output_type": "display_data",
          "data": {
            "text/plain": [
              "<IPython.core.display.Math object>"
            ],
            "text/latex": "$\\displaystyle \\left\\{ -2.0 \\right\\}$"
          },
          "metadata": {}
        },
        {
          "output_type": "display_data",
          "data": {
            "text/plain": [
              "<IPython.core.display.Math object>"
            ],
            "text/latex": "$\\displaystyle {x}^{2} - x + 2 = 0$"
          },
          "metadata": {}
        },
        {
          "output_type": "display_data",
          "data": {
            "text/plain": [
              "<IPython.core.display.Math object>"
            ],
            "text/latex": "$\\displaystyle \\left\\{  \\right\\}$"
          },
          "metadata": {}
        },
        {
          "output_type": "display_data",
          "data": {
            "text/plain": [
              "<IPython.core.display.Math object>"
            ],
            "text/latex": "$\\displaystyle {x}^{2} - 2 \\cdot x - 1 = 0$"
          },
          "metadata": {}
        },
        {
          "output_type": "display_data",
          "data": {
            "text/plain": [
              "<IPython.core.display.Math object>"
            ],
            "text/latex": "$\\displaystyle \\left\\{ 1.0 + \\sqrt{\\left( 2.0 \\right)},1.0 - \\sqrt{\\left( 2.0 \\right)} \\right\\}$"
          },
          "metadata": {}
        }
      ]
    },
    {
      "cell_type": "code",
      "source": [
        "print(\"solution\")\n",
        "eq = Eq(x * x, Z(2) + x)\n",
        "show(eq)\n",
        "show(isSolution(eq, x, 2))\n",
        "show(isSolution(eq, x, 0))"
      ],
      "metadata": {
        "id": "od76XBTctSqs",
        "colab": {
          "base_uri": "https://localhost:8080/",
          "height": 101
        },
        "outputId": "17ddead8-2cd1-40d3-9546-36e09e36458d"
      },
      "execution_count": 21,
      "outputs": [
        {
          "output_type": "stream",
          "name": "stdout",
          "text": [
            "solution\n"
          ]
        },
        {
          "output_type": "display_data",
          "data": {
            "text/plain": [
              "<IPython.core.display.Math object>"
            ],
            "text/latex": "$\\displaystyle x \\cdot x = 2 + x$"
          },
          "metadata": {}
        },
        {
          "output_type": "display_data",
          "data": {
            "text/plain": [
              "<IPython.core.display.Math object>"
            ],
            "text/latex": "$\\displaystyle True$"
          },
          "metadata": {}
        },
        {
          "output_type": "display_data",
          "data": {
            "text/plain": [
              "<IPython.core.display.Math object>"
            ],
            "text/latex": "$\\displaystyle False$"
          },
          "metadata": {}
        }
      ]
    },
    {
      "cell_type": "code",
      "source": [
        "eq = Eq(2*x, 1)\n",
        "show(eq)\n",
        "print(classifyEquation(eq, x))\n",
        "eq = Eq(x**2+2*x, 0)\n",
        "show(eq)\n",
        "print(classifyEquation(eq, x))\n",
        "eq = Eq(x+3, 1-x)\n",
        "show(eq)\n",
        "print(classifyEquation(eq, x))"
      ],
      "metadata": {
        "id": "5_0ftUaYaLBt",
        "colab": {
          "base_uri": "https://localhost:8080/",
          "height": 139
        },
        "outputId": "735b8066-5c19-4e54-92db-71d3090978d1"
      },
      "execution_count": 22,
      "outputs": [
        {
          "output_type": "display_data",
          "data": {
            "text/plain": [
              "<IPython.core.display.Math object>"
            ],
            "text/latex": "$\\displaystyle 2 \\cdot x = 1$"
          },
          "metadata": {}
        },
        {
          "output_type": "stream",
          "name": "stdout",
          "text": [
            "unique\n"
          ]
        },
        {
          "output_type": "display_data",
          "data": {
            "text/plain": [
              "<IPython.core.display.Math object>"
            ],
            "text/latex": "$\\displaystyle {x}^{2} + 2 \\cdot x = 0$"
          },
          "metadata": {}
        },
        {
          "output_type": "stream",
          "name": "stdout",
          "text": [
            "quadratic\n"
          ]
        },
        {
          "output_type": "display_data",
          "data": {
            "text/plain": [
              "<IPython.core.display.Math object>"
            ],
            "text/latex": "$\\displaystyle x + 3 = 1 - x$"
          },
          "metadata": {}
        },
        {
          "output_type": "stream",
          "name": "stdout",
          "text": [
            "linear\n"
          ]
        }
      ]
    },
    {
      "cell_type": "code",
      "source": [
        "eq = Eq(2*x, 1)\n",
        "show(eq)\n",
        "show(solve(eq, x))\n",
        "eq = Eq(x**2+2*x, 0)\n",
        "show(eq)\n",
        "show(solve(eq, x))\n",
        "\n",
        "eq = Eq(x+3, 1-x)\n",
        "show(eq)\n",
        "show(solve(eq, x))"
      ],
      "metadata": {
        "colab": {
          "base_uri": "https://localhost:8080/",
          "height": 143
        },
        "id": "DtMw4l9l4e7A",
        "outputId": "c9eb4700-9060-49e2-e432-bb593264ff3b"
      },
      "execution_count": 23,
      "outputs": [
        {
          "output_type": "display_data",
          "data": {
            "text/plain": [
              "<IPython.core.display.Math object>"
            ],
            "text/latex": "$\\displaystyle 2 \\cdot x = 1$"
          },
          "metadata": {}
        },
        {
          "output_type": "display_data",
          "data": {
            "text/plain": [
              "<IPython.core.display.Math object>"
            ],
            "text/latex": "$\\displaystyle \\left\\{ 0.5 \\right\\}$"
          },
          "metadata": {}
        },
        {
          "output_type": "display_data",
          "data": {
            "text/plain": [
              "<IPython.core.display.Math object>"
            ],
            "text/latex": "$\\displaystyle {x}^{2} + 2 \\cdot x = 0$"
          },
          "metadata": {}
        },
        {
          "output_type": "display_data",
          "data": {
            "text/plain": [
              "<IPython.core.display.Math object>"
            ],
            "text/latex": "$\\displaystyle \\left\\{ 0.0,-2.0 \\right\\}$"
          },
          "metadata": {}
        },
        {
          "output_type": "display_data",
          "data": {
            "text/plain": [
              "<IPython.core.display.Math object>"
            ],
            "text/latex": "$\\displaystyle x + 3 = 1 - x$"
          },
          "metadata": {}
        },
        {
          "output_type": "display_data",
          "data": {
            "text/plain": [
              "<IPython.core.display.Math object>"
            ],
            "text/latex": "$\\displaystyle \\left\\{ -1 \\right\\}$"
          },
          "metadata": {}
        }
      ]
    }
  ]
}