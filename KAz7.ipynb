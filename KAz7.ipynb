{
  "nbformat": 4,
  "nbformat_minor": 0,
  "metadata": {
    "colab": {
      "provenance": [],
      "include_colab_link": true
    },
    "kernelspec": {
      "name": "python3",
      "display_name": "Python 3"
    },
    "language_info": {
      "name": "python"
    }
  },
  "cells": [
    {
      "cell_type": "markdown",
      "metadata": {
        "id": "view-in-github",
        "colab_type": "text"
      },
      "source": [
        "<a href=\"https://colab.research.google.com/github/Ttm2025/test/blob/main/KAz7.ipynb\" target=\"_parent\"><img src=\"https://colab.research.google.com/assets/colab-badge.svg\" alt=\"Open In Colab\"/></a>"
      ]
    },
    {
      "cell_type": "code",
      "execution_count": null,
      "metadata": {
        "id": "cyfww44BBer6"
      },
      "outputs": [],
      "source": [
        "from IPython.display import display, Math\n",
        "import numpy as np\n",
        "import matplotlib\n",
        "import matplotlib.pyplot as plt"
      ]
    },
    {
      "cell_type": "code",
      "source": [
        "def add(x, y): return ['+', x, y]\n",
        "def sub(x, y): return ['-', x, y]\n",
        "def mul(x, y): return ['*', x, y]\n",
        "def div(x, y): return ['/', x, y]\n",
        "def power(x, y): return ['^', x, y]\n",
        "def negative(x): return ['~', x]\n",
        "def sin_(x): return ['sin', x]\n",
        "def cos_(x): return ['cos', x]\n",
        "def sqrt_(x): return ['sqrt', x]\n",
        "def ln_(x): return ['ln', x]\n",
        "def exp_(x): return ['exp', x]\n",
        "\n",
        "def Sum(*x): return ['S', *x] if len(x) > 1 else x[0]\n",
        "def Product(*x): return ['P', *x] if len(x) > 1 else x[0]"
      ],
      "metadata": {
        "id": "vjTq7k6CBi6W"
      },
      "execution_count": null,
      "outputs": []
    },
    {
      "cell_type": "code",
      "source": [
        "Sum(1, 2, 3)"
      ],
      "metadata": {
        "colab": {
          "base_uri": "https://localhost:8080/"
        },
        "id": "XLel05PZW8x_",
        "outputId": "a2979587-8b8f-4c8d-ce90-6735470cb35a"
      },
      "execution_count": null,
      "outputs": [
        {
          "output_type": "execute_result",
          "data": {
            "text/plain": [
              "['S', 1, 2, 3]"
            ]
          },
          "metadata": {},
          "execution_count": 282
        }
      ]
    },
    {
      "cell_type": "code",
      "source": [
        "f = mul(2, add(3, div('x', cos_('x'))))\n",
        "print(f)"
      ],
      "metadata": {
        "colab": {
          "base_uri": "https://localhost:8080/"
        },
        "id": "qLvAwZLfB6PM",
        "outputId": "36b3e7f8-adb7-4bf2-e922-c127cb95254e"
      },
      "execution_count": null,
      "outputs": [
        {
          "output_type": "stream",
          "name": "stdout",
          "text": [
            "['*', 2, ['+', 3, ['/', 'x', ['cos', 'x']]]]\n"
          ]
        }
      ]
    },
    {
      "cell_type": "code",
      "source": [
        "def fix(x):\n",
        "  if isinstance(x, Expression):\n",
        "    return x\n",
        "  return Expression(x)\n",
        "\n",
        "class Expression:\n",
        "  def __init__(self, x):\n",
        "    self.T = x\n",
        "  def __add__(self, x):\n",
        "    return Expression(add(self.T, fix(x).T))\n",
        "  def __radd__(self, x):\n",
        "    return Expression(add(fix(x).T, self.T))\n",
        "  def __sub__(self, x):\n",
        "    return Expression(sub(self.T, fix(x).T))\n",
        "  def __rsub__(self, x):\n",
        "    return Expression(sub(fix(x).T, self.T))\n",
        "  def __mul__(self, x):\n",
        "    return Expression(mul(self.T, fix(x).T))\n",
        "  def __rmul__(self, x):\n",
        "    return Expression(mul(fix(x).T, self.T))\n",
        "  def __truediv__(self, x):\n",
        "    return Expression(div(self.T, fix(x).T))\n",
        "  def __rtruediv__(self, x):\n",
        "    return Expression(div(fix(x).T, self.T))\n",
        "  def __pow__(self, x):\n",
        "    return Expression(power(self.T, fix(x).T))\n",
        "  def __rpow__(self, x):\n",
        "    return Expression(power(fix(x).T, self.T))\n",
        "  def __neg__(self):\n",
        "    return Expression(negative(self.T))  \n",
        "  def __getitem__(self, k):\n",
        "    return Expression(self.T[k + 1])\n",
        "  def __len__(self):\n",
        "    if isinstance(self.T, list):\n",
        "      return len(self.T) - 1\n",
        "    return 0 \n",
        "  \n",
        "def sin(x):\n",
        "  return Expression(sin_(fix(x).T))\n",
        "def cos(x):\n",
        "  return Expression(cos_(fix(x).T))\n",
        "def sqrt(x):\n",
        "  return Expression(power(x.T, fix(Q(1,2)).T))\n",
        "def ln(x):\n",
        "  return Expression(ln_(fix(x).T))\n",
        "def exp(x):\n",
        "  return Expression(exp_(fix(x).T))"
      ],
      "metadata": {
        "id": "xIkrjFtLCELz"
      },
      "execution_count": null,
      "outputs": []
    },
    {
      "cell_type": "code",
      "source": [
        "x = Expression('x')\n",
        "f = 2 * x + 1"
      ],
      "metadata": {
        "id": "wjOr75GvDkML"
      },
      "execution_count": null,
      "outputs": []
    },
    {
      "cell_type": "code",
      "source": [
        "f.T"
      ],
      "metadata": {
        "colab": {
          "base_uri": "https://localhost:8080/"
        },
        "id": "LfhwNdZYDqxK",
        "outputId": "251e790e-9cf5-49ff-8865-b8b5b4571293"
      },
      "execution_count": null,
      "outputs": [
        {
          "output_type": "execute_result",
          "data": {
            "text/plain": [
              "['+', ['*', 2, 'x'], 1]"
            ]
          },
          "metadata": {},
          "execution_count": 286
        }
      ]
    },
    {
      "cell_type": "code",
      "source": [
        "def show(x):\n",
        "  display(Math(latex(x)))\n",
        "\n",
        "def enclose(x):\n",
        "  return f'\\\\left( {x} \\\\right)'\n",
        "\n",
        "def latex(x):\n",
        "  if isinstance(x, Expression):\n",
        "    return latex(x.T)\n",
        "\n",
        "  if isinstance(x, int):\n",
        "    return str(x)\n",
        "\n",
        "  if isinstance(x, str):\n",
        "    return extendSymbol(x)\n",
        "\n",
        "  op = x[0]\n",
        "  if op in '+-*/^':\n",
        "    l, r = latex(x[1]), latex(x[2])\n",
        "    if op == '+':\n",
        "      return f'{l} + {r}'\n",
        "    if op == '-':\n",
        "      return f'{l} - {r}'\n",
        "    if op == '*':\n",
        "      if isinstance(x[1], list) and x[1][0] in '+-' or l[0] == '-':\n",
        "        l = enclose(l)\n",
        "      if isinstance(x[2], list) and x[2][0] in '+-' or r[0] == '-':\n",
        "        r = enclose(r)      \n",
        "      return f'{l} \\\\cdot {r}'\n",
        "    if op == '/':\n",
        "      return f'\\\\dfrac{{{l}}}{{{r}}}'\n",
        "    if op == '^':\n",
        "      if isinstance(x[1], list):\n",
        "        l = enclose(l)\n",
        "      return f'{{{l}}}^{{{r}}}'\n",
        "  elif op == 'S':\n",
        "    A = [latex(a) for a in x[1:]]\n",
        "    for k in range(len(A)):\n",
        "      if A[k][0] == '-':\n",
        "        A[k] = enclose(A[k])\n",
        "      return ' + '.join(A)\n",
        "  elif op == 'P':\n",
        "    A = [latex(a) for a in x[1:]]\n",
        "    for k in range(1, len(x)):\n",
        "      if isinstance(x[k], list) and x[k][0] == 'S' or A[k-1][0] == '-':\n",
        "        A[k-1] = enclose(A[k-1])\n",
        "    return ' \\\\cdot '.join(A)\n",
        "  elif op == 'q':\n",
        "    if x[2] == 1:\n",
        "      return str(x[1])\n",
        "    if x[1] > 0:\n",
        "      return f'\\\\frac{{{x[1]}}}{{{x[2]}}}'\n",
        "    return f'-\\\\frac{{{-x[1]}}}{{{x[2]}}}'\n",
        "  elif op == '=':\n",
        "    return f'{latex(x[1])} = {latex(x[2])}'\n",
        "  elif op == 'set':\n",
        "    A = [latex(a) for a in x[1:]]\n",
        "    return f'\\\\left\\\\{{ {\",\".join(A)} \\\\right\\\\}}'\n",
        "  elif op == 'integral':\n",
        "    return f'\\\\int{{{latex(x[1])}}}d{{{latex(x[2])}}}'\n",
        "  else: \n",
        "    a = enclose(latex(x[1]))\n",
        "    if op == '~':\n",
        "      return f'- {a}'\n",
        "    if op == 'sin':\n",
        "      return f'\\\\sin {a}'\n",
        "    if op == 'cos':\n",
        "      return f'\\\\cos {a}'\n",
        "    if op == 'sqrt':\n",
        "      return f'\\\\sqrt{{{a}}}'\n",
        "    if op == 'ln':\n",
        "      return f'\\\\ln {a}'\n",
        "    if op == 'exp':\n",
        "      return f'e ^ {{{a}}}'\n",
        "\n",
        "def extendSymbol(x):\n",
        "  if len(x) == 1:\n",
        "    return x\n",
        "  if x in ['alpha', 'beta', 'gamma', 'pi']:\n",
        "    return f'\\\\{x}'\n",
        "  return f'{x[0]}_{{{x[1:]}}}'"
      ],
      "metadata": {
        "id": "P_4l-r19DsfI"
      },
      "execution_count": null,
      "outputs": []
    },
    {
      "cell_type": "code",
      "source": [
        "f = Expression(Sum(1, x.T, 2))\n",
        "show(f)\n",
        "g = Expression(Product(x.T, -2, Sum(x.T, 1)))\n",
        "show(g)"
      ],
      "metadata": {
        "colab": {
          "base_uri": "https://localhost:8080/",
          "height": 61
        },
        "id": "gcqL7GhmY2SN",
        "outputId": "c7a5c07d-8aef-4337-d8b2-7ffb12b9ff31"
      },
      "execution_count": null,
      "outputs": [
        {
          "output_type": "display_data",
          "data": {
            "text/plain": [
              "<IPython.core.display.Math object>"
            ],
            "text/latex": "$\\displaystyle 1 + x + 2$"
          },
          "metadata": {}
        },
        {
          "output_type": "display_data",
          "data": {
            "text/plain": [
              "<IPython.core.display.Math object>"
            ],
            "text/latex": "$\\displaystyle x \\cdot \\left( -2 \\right) \\cdot \\left( x + 1 \\right)$"
          },
          "metadata": {}
        }
      ]
    },
    {
      "cell_type": "code",
      "source": [
        "show(f)"
      ],
      "metadata": {
        "colab": {
          "base_uri": "https://localhost:8080/",
          "height": 39
        },
        "id": "eBb9CQmgE-9H",
        "outputId": "a3f200dd-5b8c-4d14-8a88-be037ff1ef34"
      },
      "execution_count": null,
      "outputs": [
        {
          "output_type": "display_data",
          "data": {
            "text/plain": [
              "<IPython.core.display.Math object>"
            ],
            "text/latex": "$\\displaystyle 1 + x + 2$"
          },
          "metadata": {}
        }
      ]
    },
    {
      "cell_type": "code",
      "source": [
        "show(3 ** f)"
      ],
      "metadata": {
        "colab": {
          "base_uri": "https://localhost:8080/",
          "height": 37
        },
        "id": "xxBObcT7FBTq",
        "outputId": "4b3c2ad7-00d3-48e7-a8a4-cfcd8c931ff2"
      },
      "execution_count": null,
      "outputs": [
        {
          "output_type": "display_data",
          "data": {
            "text/plain": [
              "<IPython.core.display.Math object>"
            ],
            "text/latex": "$\\displaystyle {3}^{1 + x + 2}$"
          },
          "metadata": {}
        }
      ]
    },
    {
      "cell_type": "code",
      "source": [
        "show(sin(f))"
      ],
      "metadata": {
        "colab": {
          "base_uri": "https://localhost:8080/",
          "height": 39
        },
        "id": "bdX6IPj6FEzL",
        "outputId": "8375fd16-d338-4e40-9e7f-d62507d2392b"
      },
      "execution_count": null,
      "outputs": [
        {
          "output_type": "display_data",
          "data": {
            "text/plain": [
              "<IPython.core.display.Math object>"
            ],
            "text/latex": "$\\displaystyle \\sin \\left( 1 + x + 2 \\right)$"
          },
          "metadata": {}
        }
      ]
    },
    {
      "cell_type": "code",
      "source": [
        "show((1 + x) ** 2)"
      ],
      "metadata": {
        "colab": {
          "base_uri": "https://localhost:8080/",
          "height": 39
        },
        "id": "h97ufgEkFHOU",
        "outputId": "b41ff408-b20e-421a-f611-59fb895740fb"
      },
      "execution_count": null,
      "outputs": [
        {
          "output_type": "display_data",
          "data": {
            "text/plain": [
              "<IPython.core.display.Math object>"
            ],
            "text/latex": "$\\displaystyle {\\left( 1 + x \\right)}^{2}$"
          },
          "metadata": {}
        }
      ]
    },
    {
      "cell_type": "code",
      "source": [
        "show(1 + (-x))\n",
        "show(1 - (x - 2))\n",
        "show((x + 1) * (2 - x))\n",
        "show(sin(2 + x))"
      ],
      "metadata": {
        "colab": {
          "base_uri": "https://localhost:8080/",
          "height": 104
        },
        "id": "3pJq_D2lFNSH",
        "outputId": "ff36423e-6e84-4b33-c353-7c574d1e5e5b"
      },
      "execution_count": null,
      "outputs": [
        {
          "output_type": "display_data",
          "data": {
            "text/plain": [
              "<IPython.core.display.Math object>"
            ],
            "text/latex": "$\\displaystyle 1 + - \\left( x \\right)$"
          },
          "metadata": {}
        },
        {
          "output_type": "display_data",
          "data": {
            "text/plain": [
              "<IPython.core.display.Math object>"
            ],
            "text/latex": "$\\displaystyle 1 - x - 2$"
          },
          "metadata": {}
        },
        {
          "output_type": "display_data",
          "data": {
            "text/plain": [
              "<IPython.core.display.Math object>"
            ],
            "text/latex": "$\\displaystyle \\left( x + 1 \\right) \\cdot \\left( 2 - x \\right)$"
          },
          "metadata": {}
        },
        {
          "output_type": "display_data",
          "data": {
            "text/plain": [
              "<IPython.core.display.Math object>"
            ],
            "text/latex": "$\\displaystyle \\sin \\left( 2 + x \\right)$"
          },
          "metadata": {}
        }
      ]
    },
    {
      "cell_type": "code",
      "source": [
        "def symbols(s):\n",
        "  S = s.split()\n",
        "  if len(S) == 1:\n",
        "    return Expression(s)\n",
        "  return (Expression(i) for i in S)\n"
      ],
      "metadata": {
        "id": "acIjJ9SKF24T"
      },
      "execution_count": null,
      "outputs": []
    },
    {
      "cell_type": "code",
      "source": [
        "x, y, z = symbols('x y z')\n",
        "show(x + y + z)"
      ],
      "metadata": {
        "colab": {
          "base_uri": "https://localhost:8080/",
          "height": 39
        },
        "id": "NGXGOmx3GfIb",
        "outputId": "b58094f0-26fe-4e45-871d-ed025ea71ca6"
      },
      "execution_count": null,
      "outputs": [
        {
          "output_type": "display_data",
          "data": {
            "text/plain": [
              "<IPython.core.display.Math object>"
            ],
            "text/latex": "$\\displaystyle x + y + z$"
          },
          "metadata": {}
        }
      ]
    },
    {
      "cell_type": "code",
      "source": [
        "from functools import reduce"
      ],
      "metadata": {
        "id": "lCmu97Wha3xA"
      },
      "execution_count": null,
      "outputs": []
    },
    {
      "cell_type": "code",
      "source": [
        "def evalf(x, arg = {}):\n",
        "  if isinstance(x, Expression):\n",
        "    if isinstance(arg, dict):\n",
        "      arg = {i.T: arg[i] for i in arg}\n",
        "    else:\n",
        "      arg = {'$': arg}\n",
        "    return evalf(x.T, arg)\n",
        "\n",
        "  if isinstance(x, int):\n",
        "    return x\n",
        "\n",
        "  if isinstance(x, str):\n",
        "    if x in arg:\n",
        "      return arg[x]\n",
        "    return arg['$']\n",
        "\n",
        "  op = x[0]\n",
        "  if op in '+-*/^':\n",
        "    l, r = evalf(x[1], arg), evalf(x[2], arg)\n",
        "    if op == '+':\n",
        "      return l + r\n",
        "    if op == '-':\n",
        "      return l - r\n",
        "    if op == '*':\n",
        "      return l * r\n",
        "    if op == '/':\n",
        "      return l / r\n",
        "    if op == '^':\n",
        "      return l ** r\n",
        "  elif op in 'SP':\n",
        "    A = [evalf(a, arg) for a in x[1:]]\n",
        "    if op == 'S':\n",
        "      return sum(A)\n",
        "    if op == 'P':\n",
        "      return reduce(lambda x, y: x * y, A, 1)\n",
        "  elif op == 'q':\n",
        "    return x[1] / x[2]\n",
        "  else:\n",
        "    a = evalf(x[1], arg)\n",
        "    if op == '~':\n",
        "      return - a\n",
        "    if op == 'sin':\n",
        "      return np.sin(a)\n",
        "    if op == 'cos':\n",
        "      return np.cos(a)\n",
        "    if op == 'sqrt':\n",
        "      return np.sqrt(a)\n",
        "    if op == 'ln':\n",
        "      return np.log(a)\n",
        "    if op == 'exp':\n",
        "      return np.exp(a)\n",
        "  return None\n"
      ],
      "metadata": {
        "id": "CE1LcNplGkPi"
      },
      "execution_count": null,
      "outputs": []
    },
    {
      "cell_type": "code",
      "source": [
        "f = Expression(Sum(x.T, (x**2).T, (x**3).T))\n",
        "show(f)\n",
        "evalf(f, 2)"
      ],
      "metadata": {
        "colab": {
          "base_uri": "https://localhost:8080/",
          "height": 58
        },
        "id": "5SJ3jnqpa_at",
        "outputId": "75f81769-6ae9-492e-d450-8f991019bc9c"
      },
      "execution_count": null,
      "outputs": [
        {
          "output_type": "display_data",
          "data": {
            "text/plain": [
              "<IPython.core.display.Math object>"
            ],
            "text/latex": "$\\displaystyle x + {x}^{2} + {x}^{3}$"
          },
          "metadata": {}
        },
        {
          "output_type": "execute_result",
          "data": {
            "text/plain": [
              "14"
            ]
          },
          "metadata": {},
          "execution_count": 298
        }
      ]
    },
    {
      "cell_type": "code",
      "source": [
        "evalf(exp(sin(1)))"
      ],
      "metadata": {
        "colab": {
          "base_uri": "https://localhost:8080/"
        },
        "id": "289k1g9iAYH7",
        "outputId": "74282712-41fc-4b01-fbb3-8dfc6b404695"
      },
      "execution_count": null,
      "outputs": [
        {
          "output_type": "execute_result",
          "data": {
            "text/plain": [
              "2.319776824715853"
            ]
          },
          "metadata": {},
          "execution_count": 299
        }
      ]
    },
    {
      "cell_type": "code",
      "source": [
        "f1 = Expression(1) / 2 + 3\n",
        "f2 = 2 * x\n",
        "f3 = x + y\n",
        "show(f1)\n",
        "show(f2)\n",
        "show(f3)"
      ],
      "metadata": {
        "colab": {
          "base_uri": "https://localhost:8080/",
          "height": 95
        },
        "id": "4-BF5x2eG5JM",
        "outputId": "2a4e4413-2738-4df5-eea9-43f363d48d31"
      },
      "execution_count": null,
      "outputs": [
        {
          "output_type": "display_data",
          "data": {
            "text/plain": [
              "<IPython.core.display.Math object>"
            ],
            "text/latex": "$\\displaystyle \\dfrac{1}{2} + 3$"
          },
          "metadata": {}
        },
        {
          "output_type": "display_data",
          "data": {
            "text/plain": [
              "<IPython.core.display.Math object>"
            ],
            "text/latex": "$\\displaystyle 2 \\cdot x$"
          },
          "metadata": {}
        },
        {
          "output_type": "display_data",
          "data": {
            "text/plain": [
              "<IPython.core.display.Math object>"
            ],
            "text/latex": "$\\displaystyle x + y$"
          },
          "metadata": {}
        }
      ]
    },
    {
      "cell_type": "code",
      "source": [
        "v1 = evalf(f1)\n",
        "v2 = evalf(f2, 10)\n",
        "v3 = evalf(f3, {x: 1, y: 100})\n",
        "print(v1, v2, v3)"
      ],
      "metadata": {
        "colab": {
          "base_uri": "https://localhost:8080/"
        },
        "id": "NX4xbQatHC59",
        "outputId": "4fd9371c-8837-4705-b96b-d6bd6f4b36b4"
      },
      "execution_count": null,
      "outputs": [
        {
          "output_type": "stream",
          "name": "stdout",
          "text": [
            "3.5 20 101\n"
          ]
        }
      ]
    },
    {
      "cell_type": "code",
      "source": [
        "def plot(y, x):\n",
        "  X = np.linspace(x[1], x[2], 1000)\n",
        "  if isinstance(y.T, int):\n",
        "    Y = evalf(y) * np.ones(1000)\n",
        "  else:\n",
        "    Y = evalf(y, {x[0]: X})\n",
        "  plt.plot(X, Y)"
      ],
      "metadata": {
        "id": "xyBjM7z1IuJD"
      },
      "execution_count": null,
      "outputs": []
    },
    {
      "cell_type": "code",
      "source": [
        "plot(x ** 2, (x, -1, 1))"
      ],
      "metadata": {
        "colab": {
          "base_uri": "https://localhost:8080/",
          "height": 265
        },
        "id": "igh4VOytJBu3",
        "outputId": "02657f90-761e-42eb-9a08-ab6385bedd0e"
      },
      "execution_count": null,
      "outputs": [
        {
          "output_type": "display_data",
          "data": {
            "text/plain": [
              "<Figure size 432x288 with 1 Axes>"
            ],
            "image/png": "[encoded data removed]"
          },
          "metadata": {
            "needs_background": "light"
          }
        }
      ]
    },
    {
      "cell_type": "code",
      "source": [
        "plot(sin(z**2), (z, 0, 10))\n",
        "plot(Expression(1), (x, 0, 5))\n",
        "plot(Expression(-1), (x, 0, 5))"
      ],
      "metadata": {
        "colab": {
          "base_uri": "https://localhost:8080/",
          "height": 265
        },
        "id": "9jhPRnDFJVbM",
        "outputId": "1d3192d1-0c43-46f2-bf74-7ad49c63a2a0"
      },
      "execution_count": null,
      "outputs": [
        {
          "output_type": "display_data",
          "data": {
            "text/plain": [
              "<Figure size 432x288 with 1 Axes>"
            ],
            "image/png": "[encoded data removed]"
          },
          "metadata": {
            "needs_background": "light"
          }
        }
      ]
    },
    {
      "cell_type": "code",
      "source": [
        "def Z(x):\n",
        "  return Expression(x)\n",
        "\n",
        "def isInt(x):\n",
        "  return isinstance(x.T, int)\n",
        "\n",
        "def diff(y, x):\n",
        "  if isInt(y):\n",
        "    return Z(0)\n",
        "\n",
        "  if isinstance(y.T, str):\n",
        "    if y.T == x.T:\n",
        "      return Z(1)\n",
        "    return Z(0)\n",
        "\n",
        "  op = y.T[0] \n",
        "  if op in '+-*/^':\n",
        "    u, v = Expression(y.T[1]), Expression(y.T[2])\n",
        "    du, dv = diff(u, x), diff(v, x)\n",
        "    if op == '+':\n",
        "      return du + dv\n",
        "    if op == '-':\n",
        "      return du - dv\n",
        "    if op == '*':\n",
        "      #if isInt(u): return u * dv # упрощение\n",
        "      #if isInt(v): return du * v # упрощение\n",
        "      return du * v + u * dv\n",
        "    if op == '/':\n",
        "      if isInt(u): return - u * dv / v ** 2 # упрощение\n",
        "      if isInt(v): return du / v # упрощение\n",
        "      return (du * v - u * dv) / v ** 2\n",
        "    if op == '^':\n",
        "      if isInt(v): # u(x) ^ n\n",
        "        n = v.T\n",
        "        if n == 0:\n",
        "          return Z(0)\n",
        "        if n == 1:\n",
        "          return du\n",
        "        if du.T == 1: return n * u ** (n - 1) # упрощение\n",
        "        return n * u ** (n - 1) * du\n",
        "      if isInt(u): # n ^ v(x)\n",
        "        n = u.T\n",
        "        return ln(n) * (u ** v) * dv\n",
        "  else:\n",
        "    u = Expression(y.T[1])\n",
        "    du = diff(u, x)\n",
        "    if op == '~': return -du\n",
        "    if op == 'sin': return cos(u) * du\n",
        "    if op == 'cos': return -sin(u) * du\n",
        "    if op == 'sqrt': return du / (2 * sqrt(u))\n",
        "    if op == 'ln': return du / u\n",
        "    if op == 'exp': return exp(u) * du\n",
        "  \n",
        "  return None"
      ],
      "metadata": {
        "id": "4xhz7pA9A-ge"
      },
      "execution_count": null,
      "outputs": []
    },
    {
      "cell_type": "code",
      "source": [
        "show(diff(sin(2 * x) / cos(x), x))"
      ],
      "metadata": {
        "colab": {
          "base_uri": "https://localhost:8080/",
          "height": 60
        },
        "id": "IJLVIw56Bz0O",
        "outputId": "14f76333-7d69-4c48-8689-55bde71aad2d"
      },
      "execution_count": null,
      "outputs": [
        {
          "output_type": "display_data",
          "data": {
            "text/plain": [
              "<IPython.core.display.Math object>"
            ],
            "text/latex": "$\\displaystyle \\dfrac{\\cos \\left( 2 \\cdot x \\right) \\cdot \\left( 0 \\cdot x + 2 \\cdot 1 \\right) \\cdot \\cos \\left( x \\right) - \\sin \\left( 2 \\cdot x \\right) \\cdot \\left( - \\left( \\sin \\left( x \\right) \\right) \\right) \\cdot 1}{{\\left( \\cos \\left( x \\right) \\right)}^{2}}$"
          },
          "metadata": {}
        }
      ]
    },
    {
      "cell_type": "code",
      "source": [
        "def Diff(y, x, n = 1):\n",
        "  dy = y\n",
        "  for i in range(n):\n",
        "    dy = diff(dy, x)\n",
        "  return dy"
      ],
      "metadata": {
        "id": "_7yOiiKbCtOb"
      },
      "execution_count": null,
      "outputs": []
    },
    {
      "cell_type": "code",
      "source": [
        "for n in range(5):\n",
        "  show(Diff(x ** 3, x, n))"
      ],
      "metadata": {
        "colab": {
          "base_uri": "https://localhost:8080/",
          "height": 148
        },
        "id": "UzUq5x2WGhi2",
        "outputId": "898bae1b-f067-4cf9-ad21-6a604c3eded0"
      },
      "execution_count": null,
      "outputs": [
        {
          "output_type": "display_data",
          "data": {
            "text/plain": [
              "<IPython.core.display.Math object>"
            ],
            "text/latex": "$\\displaystyle {x}^{3}$"
          },
          "metadata": {}
        },
        {
          "output_type": "display_data",
          "data": {
            "text/plain": [
              "<IPython.core.display.Math object>"
            ],
            "text/latex": "$\\displaystyle 3 \\cdot {x}^{2}$"
          },
          "metadata": {}
        },
        {
          "output_type": "display_data",
          "data": {
            "text/plain": [
              "<IPython.core.display.Math object>"
            ],
            "text/latex": "$\\displaystyle 0 \\cdot {x}^{2} + 3 \\cdot 2 \\cdot {x}^{1}$"
          },
          "metadata": {}
        },
        {
          "output_type": "display_data",
          "data": {
            "text/plain": [
              "<IPython.core.display.Math object>"
            ],
            "text/latex": "$\\displaystyle 0 \\cdot {x}^{2} + 0 \\cdot 2 \\cdot {x}^{1} + 0 \\cdot 2 \\cdot {x}^{1} + 3 \\cdot \\left( 0 \\cdot {x}^{1} + 2 \\cdot 1 \\right)$"
          },
          "metadata": {}
        },
        {
          "output_type": "display_data",
          "data": {
            "text/plain": [
              "<IPython.core.display.Math object>"
            ],
            "text/latex": "$\\displaystyle 0 \\cdot {x}^{2} + 0 \\cdot 2 \\cdot {x}^{1} + 0 \\cdot 2 \\cdot {x}^{1} + 0 \\cdot \\left( 0 \\cdot {x}^{1} + 2 \\cdot 1 \\right) + 0 \\cdot 2 \\cdot {x}^{1} + 0 \\cdot \\left( 0 \\cdot {x}^{1} + 2 \\cdot 1 \\right) + 0 \\cdot \\left( 0 \\cdot {x}^{1} + 2 \\cdot 1 \\right) + 3 \\cdot \\left( 0 \\cdot {x}^{1} + 0 \\cdot 1 + 0 \\cdot 1 + 2 \\cdot 0 \\right)$"
          },
          "metadata": {}
        }
      ]
    },
    {
      "cell_type": "code",
      "source": [
        "f = sin(2 * x / 3)\n",
        "for n in range(8):\n",
        "  plot(Diff(f, x, n), (x, -2 * np.pi, 2 * np.pi))"
      ],
      "metadata": {
        "colab": {
          "base_uri": "https://localhost:8080/",
          "height": 265
        },
        "id": "DzuLu2cNGlBI",
        "outputId": "3287e711-3c59-4f69-a947-0c68a6f80b7a"
      },
      "execution_count": null,
      "outputs": [
        {
          "output_type": "display_data",
          "data": {
            "text/plain": [
              "<Figure size 432x288 with 1 Axes>"
            ],
            "image/png": "[encoded data removed]"
          },
          "metadata": {
            "needs_background": "light"
          }
        }
      ]
    },
    {
      "cell_type": "code",
      "source": [
        "f = sin(2 * x / 3)\n",
        "for n in range(4):\n",
        "  show(Diff(f, x, n))"
      ],
      "metadata": {
        "colab": {
          "base_uri": "https://localhost:8080/",
          "height": 315
        },
        "id": "E5bD0QCOIrL1",
        "outputId": "40ea0ff6-a806-42cb-fa6a-9dd31850f677"
      },
      "execution_count": null,
      "outputs": [
        {
          "output_type": "display_data",
          "data": {
            "text/plain": [
              "<IPython.core.display.Math object>"
            ],
            "text/latex": "$\\displaystyle \\sin \\left( \\dfrac{2 \\cdot x}{3} \\right)$"
          },
          "metadata": {}
        },
        {
          "output_type": "display_data",
          "data": {
            "text/plain": [
              "<IPython.core.display.Math object>"
            ],
            "text/latex": "$\\displaystyle \\cos \\left( \\dfrac{2 \\cdot x}{3} \\right) \\cdot \\dfrac{0 \\cdot x + 2 \\cdot 1}{3}$"
          },
          "metadata": {}
        },
        {
          "output_type": "display_data",
          "data": {
            "text/plain": [
              "<IPython.core.display.Math object>"
            ],
            "text/latex": "$\\displaystyle \\left( - \\left( \\sin \\left( \\dfrac{2 \\cdot x}{3} \\right) \\right) \\right) \\cdot \\dfrac{0 \\cdot x + 2 \\cdot 1}{3} \\cdot \\dfrac{0 \\cdot x + 2 \\cdot 1}{3} + \\cos \\left( \\dfrac{2 \\cdot x}{3} \\right) \\cdot \\dfrac{0 \\cdot x + 0 \\cdot 1 + 0 \\cdot 1 + 2 \\cdot 0}{3}$"
          },
          "metadata": {}
        },
        {
          "output_type": "display_data",
          "data": {
            "text/plain": [
              "<IPython.core.display.Math object>"
            ],
            "text/latex": "$\\displaystyle \\left( \\left( - \\left( \\cos \\left( \\dfrac{2 \\cdot x}{3} \\right) \\cdot \\dfrac{0 \\cdot x + 2 \\cdot 1}{3} \\right) \\right) \\cdot \\dfrac{0 \\cdot x + 2 \\cdot 1}{3} + \\left( - \\left( \\sin \\left( \\dfrac{2 \\cdot x}{3} \\right) \\right) \\right) \\cdot \\dfrac{0 \\cdot x + 0 \\cdot 1 + 0 \\cdot 1 + 2 \\cdot 0}{3} \\right) \\cdot \\dfrac{0 \\cdot x + 2 \\cdot 1}{3} + \\left( - \\left( \\sin \\left( \\dfrac{2 \\cdot x}{3} \\right) \\right) \\right) \\cdot \\dfrac{0 \\cdot x + 2 \\cdot 1}{3} \\cdot \\dfrac{0 \\cdot x + 0 \\cdot 1 + 0 \\cdot 1 + 2 \\cdot 0}{3} + \\left( - \\left( \\sin \\left( \\dfrac{2 \\cdot x}{3} \\right) \\right) \\right) \\cdot \\dfrac{0 \\cdot x + 2 \\cdot 1}{3} \\cdot \\dfrac{0 \\cdot x + 0 \\cdot 1 + 0 \\cdot 1 + 2 \\cdot 0}{3} + \\cos \\left( \\dfrac{2 \\cdot x}{3} \\right) \\cdot \\dfrac{0 \\cdot x + 0 \\cdot 1 + 0 \\cdot 1 + 0 \\cdot 0 + 0 \\cdot 1 + 0 \\cdot 0 + 0 \\cdot 0 + 2 \\cdot 0}{3}$"
          },
          "metadata": {}
        }
      ]
    },
    {
      "cell_type": "code",
      "source": [
        "def taylorCoeffs(y, x, n, x0):\n",
        "  A = [evalf(y, x0)]\n",
        "  dy = diff(y, x)\n",
        "  for i in range(n):\n",
        "    A.append(evalf(dy, x0))\n",
        "    dy = diff(dy, x)\n",
        "  return A"
      ],
      "metadata": {
        "id": "QhXIidLGJDio"
      },
      "execution_count": null,
      "outputs": []
    },
    {
      "cell_type": "code",
      "source": [
        "f = ln(1 + x)\n",
        "taylorCoeffs(f, x, 4, 0)"
      ],
      "metadata": {
        "colab": {
          "base_uri": "https://localhost:8080/"
        },
        "id": "e7XVVDRLKom3",
        "outputId": "5f745554-1fb1-4de4-bc37-2ace70ec0a8c"
      },
      "execution_count": null,
      "outputs": [
        {
          "output_type": "execute_result",
          "data": {
            "text/plain": [
              "[0.0, 1.0, -1.0, 2.0, -6.0]"
            ]
          },
          "metadata": {},
          "execution_count": 312
        }
      ]
    },
    {
      "cell_type": "code",
      "source": [
        "def fac(n):\n",
        "  return 1 if n < 2 else n * fac(n - 1) \n",
        "\n",
        "def taylorTerm(a, x, n, x0):\n",
        "  a, x0 = int(a), int(x0)\n",
        "  if n == 0:\n",
        "    return Z(a)\n",
        "  d = x\n",
        "  if x0 > 0: \n",
        "    d = x - x0\n",
        "  elif x0 < 0: \n",
        "    d = x + (-x0)\n",
        "  if n == 1:\n",
        "    return a * d\n",
        "  return (Z(a) / fac(n)) * d ** n\n",
        "\n",
        "def taylorSeries(y, x, n, x0 = 0):\n",
        "  A = taylorCoeffs(y, x, n, x0)\n",
        "  f = None\n",
        "  for i in range(n + 1):\n",
        "    if A[i] == 0:\n",
        "      continue\n",
        "    elif A[i] > 0:\n",
        "      t = taylorTerm(A[i], x, i, x0)\n",
        "      f = t if f == None else f + t\n",
        "    else:\n",
        "      t = taylorTerm(-A[i], x, i, x0)\n",
        "      f = -t if f == None else f - t\n",
        "  if f == None:\n",
        "    f = Z(0)\n",
        "  return f"
      ],
      "metadata": {
        "id": "3-wRV6J5KwBZ"
      },
      "execution_count": null,
      "outputs": []
    },
    {
      "cell_type": "code",
      "source": [
        "f = taylorSeries(sin(x), x, 6, 0)\n",
        "show(f)"
      ],
      "metadata": {
        "colab": {
          "base_uri": "https://localhost:8080/",
          "height": 51
        },
        "id": "Qqq_IydFK96w",
        "outputId": "74596662-2002-4f09-ea59-9d0ad8dd26ca"
      },
      "execution_count": null,
      "outputs": [
        {
          "output_type": "display_data",
          "data": {
            "text/plain": [
              "<IPython.core.display.Math object>"
            ],
            "text/latex": "$\\displaystyle 1 \\cdot x - \\dfrac{1}{6} \\cdot {x}^{3} + \\dfrac{1}{120} \\cdot {x}^{5}$"
          },
          "metadata": {}
        }
      ]
    },
    {
      "cell_type": "code",
      "source": [
        "f = taylorSeries(ln(1 + x), x, 6, 0)\n",
        "show(f)"
      ],
      "metadata": {
        "colab": {
          "base_uri": "https://localhost:8080/",
          "height": 51
        },
        "id": "VHk-922ZNpLE",
        "outputId": "677da766-a1b6-4bff-cf7b-26bb4db3171c"
      },
      "execution_count": null,
      "outputs": [
        {
          "output_type": "display_data",
          "data": {
            "text/plain": [
              "<IPython.core.display.Math object>"
            ],
            "text/latex": "$\\displaystyle 1 \\cdot x - \\dfrac{1}{2} \\cdot {x}^{2} + \\dfrac{2}{6} \\cdot {x}^{3} - \\dfrac{6}{24} \\cdot {x}^{4} + \\dfrac{24}{120} \\cdot {x}^{5} - \\dfrac{120}{720} \\cdot {x}^{6}$"
          },
          "metadata": {}
        }
      ]
    },
    {
      "cell_type": "code",
      "source": [
        "f = sin(x)\n",
        "plot(f, (x, -np.pi, np.pi))\n",
        "for n in range(1, 8, 2):\n",
        "    g = taylorSeries(f, x, n)\n",
        "    plot(g, (x, -np.pi, np.pi))"
      ],
      "metadata": {
        "colab": {
          "base_uri": "https://localhost:8080/",
          "height": 265
        },
        "id": "Ezy_JQDyOODv",
        "outputId": "c0936cc9-1418-4d6c-e381-4577f93b4434"
      },
      "execution_count": null,
      "outputs": [
        {
          "output_type": "display_data",
          "data": {
            "text/plain": [
              "<Figure size 432x288 with 1 Axes>"
            ],
            "image/png": "[encoded data removed]"
          },
          "metadata": {
            "needs_background": "light"
          }
        }
      ]
    },
    {
      "cell_type": "code",
      "source": [
        "f = ln(1 + x)\n",
        "plot(f, (x, -0.5, 1))\n",
        "for n in range(1, 7):\n",
        "    g = taylorSeries(f, x, n)\n",
        "    plot(g, (x, -0.5, 1))"
      ],
      "metadata": {
        "colab": {
          "base_uri": "https://localhost:8080/",
          "height": 265
        },
        "id": "kRUA1TE7Oaxy",
        "outputId": "1b5ca399-9a03-4146-bda8-3c1f74a7bc06"
      },
      "execution_count": null,
      "outputs": [
        {
          "output_type": "display_data",
          "data": {
            "text/plain": [
              "<Figure size 432x288 with 1 Axes>"
            ],
            "image/png": "[encoded data removed]"
          },
          "metadata": {
            "needs_background": "light"
          }
        }
      ]
    },
    {
      "cell_type": "code",
      "source": [
        "f = (x - 1) ** 2 * (3 * x - 2) * (x + 2)\n",
        "show(f)"
      ],
      "metadata": {
        "colab": {
          "base_uri": "https://localhost:8080/",
          "height": 39
        },
        "id": "Z7Qpr4MLO04T",
        "outputId": "dd4b68c5-5a27-4245-f9f3-89f4ee5d264f"
      },
      "execution_count": null,
      "outputs": [
        {
          "output_type": "display_data",
          "data": {
            "text/plain": [
              "<IPython.core.display.Math object>"
            ],
            "text/latex": "$\\displaystyle {\\left( x - 1 \\right)}^{2} \\cdot \\left( 3 \\cdot x - 2 \\right) \\cdot \\left( x + 2 \\right)$"
          },
          "metadata": {}
        }
      ]
    },
    {
      "cell_type": "code",
      "source": [
        "g = taylorSeries(f, x, 4)\n",
        "show(g)"
      ],
      "metadata": {
        "colab": {
          "base_uri": "https://localhost:8080/",
          "height": 51
        },
        "id": "SEekwQnKS3dR",
        "outputId": "ffb1de62-6f91-4ef6-88de-90c24124f8f3"
      },
      "execution_count": null,
      "outputs": [
        {
          "output_type": "display_data",
          "data": {
            "text/plain": [
              "<IPython.core.display.Math object>"
            ],
            "text/latex": "$\\displaystyle - \\left( 4 \\right) + 12 \\cdot x - \\dfrac{18}{2} \\cdot {x}^{2} - \\dfrac{12}{6} \\cdot {x}^{3} + \\dfrac{72}{24} \\cdot {x}^{4}$"
          },
          "metadata": {}
        }
      ]
    },
    {
      "cell_type": "code",
      "source": [
        "g = taylorSeries(f, x, 4, 1)\n",
        "show(g)"
      ],
      "metadata": {
        "colab": {
          "base_uri": "https://localhost:8080/",
          "height": 51
        },
        "id": "PgEx14fkTBi0",
        "outputId": "31320231-7be7-4811-b880-290a77733ed8"
      },
      "execution_count": null,
      "outputs": [
        {
          "output_type": "display_data",
          "data": {
            "text/plain": [
              "<IPython.core.display.Math object>"
            ],
            "text/latex": "$\\displaystyle \\dfrac{6}{2} \\cdot {\\left( x - 1 \\right)}^{2} + \\dfrac{60}{6} \\cdot {\\left( x - 1 \\right)}^{3} + \\dfrac{72}{24} \\cdot {\\left( x - 1 \\right)}^{4}$"
          },
          "metadata": {}
        }
      ]
    },
    {
      "cell_type": "code",
      "source": [
        "def rational(n, m):\n",
        "  if n == 0:\n",
        "    return ['q', 0, 1]\n",
        "  if m < 0:\n",
        "    n, m = -n, -m\n",
        "  d = gcd(abs(n), m)\n",
        "  return ['q', n // d, m // d]\n",
        "\n",
        "def Q(n, m):\n",
        "  return Expression(rational(n, m))\n",
        "  \n",
        "def gcd(n, m):\n",
        "  while m:\n",
        "    n, m = m, n % m\n",
        "  return n"
      ],
      "metadata": {
        "id": "SUQnJIcdcAds"
      },
      "execution_count": null,
      "outputs": []
    },
    {
      "cell_type": "code",
      "source": [
        "p = Q(2, 4) + Q(2, 3)\n",
        "show(p)\n",
        "evalf(p), p.T"
      ],
      "metadata": {
        "colab": {
          "base_uri": "https://localhost:8080/",
          "height": 70
        },
        "id": "JuL64nBlctON",
        "outputId": "a0849dc5-594c-41ca-c07a-8c02e47a7095"
      },
      "execution_count": null,
      "outputs": [
        {
          "output_type": "display_data",
          "data": {
            "text/plain": [
              "<IPython.core.display.Math object>"
            ],
            "text/latex": "$\\displaystyle \\frac{1}{2} + \\frac{2}{3}$"
          },
          "metadata": {}
        },
        {
          "output_type": "execute_result",
          "data": {
            "text/plain": [
              "(1.1666666666666665, ['+', ['q', 1, 2], ['q', 2, 3]])"
            ]
          },
          "metadata": {},
          "execution_count": 322
        }
      ]
    },
    {
      "cell_type": "code",
      "source": [
        "def normalize(x):\n",
        "  if isinstance(x, (int, str)): return x \n",
        "  op, arg = x[0], x[1:]\n",
        "  A = [normalize(a) for a in arg] \n",
        "  if op in '+S': # сборка сумм\n",
        "    R = []\n",
        "    for a in A:\n",
        "      R += a[1:] if isinstance(a, list) and a[0] in '+S' else [a]\n",
        "    return Sum(*R)\n",
        "  if op in '*P': # сборка произведений\n",
        "    R = []\n",
        "    for a in A:\n",
        "      R += a[1:] if isinstance(a, list) and a[0] in '*P' else [a]\n",
        "    return Product(*R)\n",
        "  if op == '~': # унарный минус\n",
        "    return normalize(Product(-1, A[0]))\n",
        "  if op == '-': # бинарный минус\n",
        "    return normalize(Sum(A[0], Product(-1, A[1])))\n",
        "  if op == '/': # деление\n",
        "    return normalize(Product(A[0], power(A[1], -1)))\n",
        "  if op == '^': # нормализация степеней\n",
        "    if isinstance(A[0], list) and A[0][0] == 'P':\n",
        "      B = [power(a, A[1]) for a in A[0][1:]]\n",
        "      return normalize(Product(*B))\n",
        "    if isinstance(A[0], list) and A[0][0] == '^':\n",
        "      d = Product(A[0][2], A[1])\n",
        "      return normalize(power(A[0][1], d))\n",
        "  return x\n"
      ],
      "metadata": {
        "id": "E6FdEnwodXXE"
      },
      "execution_count": null,
      "outputs": []
    },
    {
      "cell_type": "code",
      "source": [
        "f = x / ((x * x ** 2) ** 3)\n",
        "print(f.T)\n",
        "F = Expression(normalize(f.T))\n",
        "print(F.T)\n",
        "show(F)"
      ],
      "metadata": {
        "colab": {
          "base_uri": "https://localhost:8080/",
          "height": 77
        },
        "id": "S-KLwHiBoOQk",
        "outputId": "b79f9b68-2235-4059-84c2-def3eb056555"
      },
      "execution_count": null,
      "outputs": [
        {
          "output_type": "stream",
          "name": "stdout",
          "text": [
            "['/', 'x', ['^', ['*', 'x', ['^', 'x', 2]], 3]]\n",
            "['P', 'x', ['^', 'x', ['P', 3, -1]], ['^', 'x', ['P', ['P', 2, 3], -1]]]\n"
          ]
        },
        {
          "output_type": "display_data",
          "data": {
            "text/plain": [
              "<IPython.core.display.Math object>"
            ],
            "text/latex": "$\\displaystyle x \\cdot {x}^{3 \\cdot \\left( -1 \\right)} \\cdot {x}^{2 \\cdot 3 \\cdot \\left( -1 \\right)}$"
          },
          "metadata": {}
        }
      ]
    },
    {
      "cell_type": "code",
      "source": [
        "f = (x - 1) / x\n",
        "print(f.T)\n",
        "F = Expression(normalize(f.T))\n",
        "print(F.T)\n",
        "show(F)"
      ],
      "metadata": {
        "colab": {
          "base_uri": "https://localhost:8080/",
          "height": 77
        },
        "id": "N3pE_WHxnDKO",
        "outputId": "96972c18-5331-4304-8d9f-54a7f9e25115"
      },
      "execution_count": null,
      "outputs": [
        {
          "output_type": "stream",
          "name": "stdout",
          "text": [
            "['/', ['-', 'x', 1], 'x']\n",
            "['P', ['S', 'x', ['P', -1, 1]], ['^', 'x', -1]]\n"
          ]
        },
        {
          "output_type": "display_data",
          "data": {
            "text/plain": [
              "<IPython.core.display.Math object>"
            ],
            "text/latex": "$\\displaystyle \\left( x + \\left( -1 \\right) \\cdot 1 \\right) \\cdot {x}^{-1}$"
          },
          "metadata": {}
        }
      ]
    },
    {
      "cell_type": "code",
      "source": [
        "f = (x + x) + (x + 1)\n",
        "print(f.T)\n",
        "F = Expression(normalize(f.T))\n",
        "F.T"
      ],
      "metadata": {
        "colab": {
          "base_uri": "https://localhost:8080/"
        },
        "id": "CpSNGNL-lSmo",
        "outputId": "941a3571-7781-413f-8782-b4b1bddc092e"
      },
      "execution_count": null,
      "outputs": [
        {
          "output_type": "stream",
          "name": "stdout",
          "text": [
            "['+', ['+', 'x', 'x'], ['+', 'x', 1]]\n"
          ]
        },
        {
          "output_type": "execute_result",
          "data": {
            "text/plain": [
              "['S', 'x', 'x', 'x', 1]"
            ]
          },
          "metadata": {},
          "execution_count": 326
        }
      ]
    },
    {
      "cell_type": "code",
      "source": [
        "def sortx(x):\n",
        "  if isinstance(x, list):\n",
        "    op, arg = x[0], x[1:]\n",
        "    A = [sortx(a) for a in arg]\n",
        "    if op in 'SP':\n",
        "      A.sort(key = lambda a: str(a))\n",
        "    return [op, *A]\n",
        "  return x"
      ],
      "metadata": {
        "id": "fCz3FIn_lWAx"
      },
      "execution_count": null,
      "outputs": []
    },
    {
      "cell_type": "code",
      "source": [
        "f = x * y + 2 + y * x \n",
        "show(f)\n",
        "print(f.T)\n",
        "F = Expression(normalize(f.T))\n",
        "print(F.T)\n",
        "F2 = Expression(sortx(F.T))\n",
        "print(F2.T)\n",
        "show(F2)"
      ],
      "metadata": {
        "colab": {
          "base_uri": "https://localhost:8080/",
          "height": 117
        },
        "id": "T73bSZu0qHdw",
        "outputId": "b99afdb4-7f28-4e55-d1e2-619f43cf5246"
      },
      "execution_count": null,
      "outputs": [
        {
          "output_type": "display_data",
          "data": {
            "text/plain": [
              "<IPython.core.display.Math object>"
            ],
            "text/latex": "$\\displaystyle x \\cdot y + 2 + y \\cdot x$"
          },
          "metadata": {}
        },
        {
          "output_type": "stream",
          "name": "stdout",
          "text": [
            "['+', ['+', ['*', 'x', 'y'], 2], ['*', 'y', 'x']]\n",
            "['S', ['P', 'x', 'y'], 2, ['P', 'y', 'x']]\n",
            "['S', 2, ['P', 'x', 'y'], ['P', 'x', 'y']]\n"
          ]
        },
        {
          "output_type": "display_data",
          "data": {
            "text/plain": [
              "<IPython.core.display.Math object>"
            ],
            "text/latex": "$\\displaystyle 2 + x \\cdot y + x \\cdot y$"
          },
          "metadata": {}
        }
      ]
    },
    {
      "cell_type": "code",
      "source": [
        "def simplify(x):\n",
        "  if isinstance(x, Expression):\n",
        "    return Expression(simplify(x.T))\n",
        "  if isinstance(x, str): # символ\n",
        "    return x\n",
        "  if isinstance(x, int): # целое, преобразуем в рациональное\n",
        "    return rational(x, 1)\n",
        "  if x[0] == 'q': # рациональное\n",
        "    return x\n",
        "  x = sortx(normalize(x))\n",
        "  op, arg = x[0], x[1:]\n",
        "  A = [simplify(a) for a in arg]\n",
        "  if op == '^':\n",
        "    if isinstance(A[1], list) and A[1][0] == 'q' and A[1][2] == 1:\n",
        "      if isinstance(A[0], list) and A[0][0] == 'q':\n",
        "        n, m, d = A[0][1], A[0][2], A[1][1]\n",
        "        if d >= 0:\n",
        "          return rational(n ** d, m ** d)\n",
        "        else:\n",
        "          return rational(m ** (-d), n ** (-d))\n",
        "  if op == 'P':\n",
        "    n, m, V = 1, 1, []\n",
        "    for a in A:\n",
        "      if isinstance(a, list) and a[0] == 'q':\n",
        "        n, m = n * a[1], m * a[2]\n",
        "      else:\n",
        "        V.append(a)\n",
        "    q = rational(n, m)\n",
        "    # здесь можно упростить множители V, не являющиеся рациональными числами\n",
        "    if q[1] == 0 or V == []: return q\n",
        "    if q[1] == 1 and q[2] == 1 and len(V) == 1: return V[0]\n",
        "    A = [q, *V] if q[1] != 1 or q[2] != 1 else [*V]\n",
        "  if op == 'S':\n",
        "    n, m, V = 0, 1, []\n",
        "    for a in A:\n",
        "      if isinstance(a, list) and a[0] == 'q':\n",
        "        n, m = n * a[2] + m * a[1], m * a[2]\n",
        "      else:\n",
        "        V.append(a)\n",
        "    q = rational(n, m)\n",
        "    if len(V) > 1:\n",
        "      V = collectSameTerms(V)\n",
        "    if V == []: return q\n",
        "    if q[1] == 0 and len(V) == 1: return V[0]\n",
        "    A = [q, *V] if q[1] != 0 else [*V]\n",
        "  return [op, *A]\n",
        "\n",
        "def collectSameTerms(A):\n",
        "  count, X = 1, []\n",
        "  for k in range(1, len(A)):\n",
        "    if A[k] == A[k - 1]:\n",
        "      count += 1\n",
        "      continue\n",
        "    X.append(simplify(Product(rational(count, 1), A[k - 1])))\n",
        "    count = 1\n",
        "  X.append(simplify(Product(rational(count, 1), A[-1])))\n",
        "  return X"
      ],
      "metadata": {
        "id": "lkVpi5BvqJd0"
      },
      "execution_count": null,
      "outputs": []
    },
    {
      "cell_type": "code",
      "source": [
        "f = 2 * x + 1 + y + x * 2 + x * (Q(1, 2) + Q(3, 2)) + y\n",
        "show(f)\n",
        "F = simplify(f)\n",
        "show(F)"
      ],
      "metadata": {
        "colab": {
          "base_uri": "https://localhost:8080/",
          "height": 79
        },
        "id": "47ASLf8vsyGg",
        "outputId": "d301e664-3ec3-4e25-f528-1f24a597ec4c"
      },
      "execution_count": null,
      "outputs": [
        {
          "output_type": "display_data",
          "data": {
            "text/plain": [
              "<IPython.core.display.Math object>"
            ],
            "text/latex": "$\\displaystyle 2 \\cdot x + 1 + y + x \\cdot 2 + x \\cdot \\left( \\frac{1}{2} + \\frac{3}{2} \\right) + y$"
          },
          "metadata": {}
        },
        {
          "output_type": "display_data",
          "data": {
            "text/plain": [
              "<IPython.core.display.Math object>"
            ],
            "text/latex": "$\\displaystyle 1 + 6 \\cdot x + 2 \\cdot y$"
          },
          "metadata": {}
        }
      ]
    },
    {
      "cell_type": "code",
      "source": [
        "f = (Q(1, 2) + Q(1, 3) - Q(2, 7)) * x\n",
        "show(f)\n",
        "F = simplify(f)\n",
        "show(F)\n",
        "F.T"
      ],
      "metadata": {
        "colab": {
          "base_uri": "https://localhost:8080/",
          "height": 111
        },
        "id": "JHRJE2BD2AOw",
        "outputId": "461a9438-0e64-4a69-9f3a-9b8a42be218e"
      },
      "execution_count": null,
      "outputs": [
        {
          "output_type": "display_data",
          "data": {
            "text/plain": [
              "<IPython.core.display.Math object>"
            ],
            "text/latex": "$\\displaystyle \\left( \\frac{1}{2} + \\frac{1}{3} - \\frac{2}{7} \\right) \\cdot x$"
          },
          "metadata": {}
        },
        {
          "output_type": "display_data",
          "data": {
            "text/plain": [
              "<IPython.core.display.Math object>"
            ],
            "text/latex": "$\\displaystyle \\frac{23}{42} \\cdot x$"
          },
          "metadata": {}
        },
        {
          "output_type": "execute_result",
          "data": {
            "text/plain": [
              "['P', ['q', 23, 42], 'x']"
            ]
          },
          "metadata": {},
          "execution_count": 331
        }
      ]
    },
    {
      "cell_type": "code",
      "source": [
        "f = (x * 1 / 2 * 3) ** 2\n",
        "show(f)\n",
        "F = simplify(f)\n",
        "show(F)\n",
        "F.T"
      ],
      "metadata": {
        "colab": {
          "base_uri": "https://localhost:8080/",
          "height": 114
        },
        "id": "r0Y4fygavGCo",
        "outputId": "b8cf1856-d6f7-484c-caa3-f977a89542f1"
      },
      "execution_count": null,
      "outputs": [
        {
          "output_type": "display_data",
          "data": {
            "text/plain": [
              "<IPython.core.display.Math object>"
            ],
            "text/latex": "$\\displaystyle {\\left( \\dfrac{x \\cdot 1}{2} \\cdot 3 \\right)}^{2}$"
          },
          "metadata": {}
        },
        {
          "output_type": "display_data",
          "data": {
            "text/plain": [
              "<IPython.core.display.Math object>"
            ],
            "text/latex": "$\\displaystyle \\frac{9}{4} \\cdot {x}^{2}$"
          },
          "metadata": {}
        },
        {
          "output_type": "execute_result",
          "data": {
            "text/plain": [
              "['P', ['q', 9, 4], ['^', 'x', ['q', 2, 1]]]"
            ]
          },
          "metadata": {},
          "execution_count": 332
        }
      ]
    },
    {
      "cell_type": "code",
      "source": [
        "f = simplify(Expression(3) / 2)\n",
        "show(f)"
      ],
      "metadata": {
        "colab": {
          "base_uri": "https://localhost:8080/",
          "height": 51
        },
        "id": "ukX6iq9AqY9n",
        "outputId": "d7cd7ec9-1883-4671-dffc-6eae7bcbfa9b"
      },
      "execution_count": null,
      "outputs": [
        {
          "output_type": "display_data",
          "data": {
            "text/plain": [
              "<IPython.core.display.Math object>"
            ],
            "text/latex": "$\\displaystyle \\frac{3}{2}$"
          },
          "metadata": {}
        }
      ]
    },
    {
      "cell_type": "code",
      "source": [
        "pi = symbols('pi')\n",
        "f = sin(x + 2 * pi)\n",
        "show(f)"
      ],
      "metadata": {
        "colab": {
          "base_uri": "https://localhost:8080/",
          "height": 39
        },
        "id": "Zh-gd52atTt5",
        "outputId": "3af41de9-2b5a-419d-f9f6-8703db19bda2"
      },
      "execution_count": null,
      "outputs": [
        {
          "output_type": "display_data",
          "data": {
            "text/plain": [
              "<IPython.core.display.Math object>"
            ],
            "text/latex": "$\\displaystyle \\sin \\left( x + 2 \\cdot \\pi \\right)$"
          },
          "metadata": {}
        }
      ]
    },
    {
      "cell_type": "code",
      "source": [
        "f = x ** 3\n",
        "F = simplify(Diff(f, x, 2))\n",
        "show(F)\n",
        "F.T"
      ],
      "metadata": {
        "colab": {
          "base_uri": "https://localhost:8080/",
          "height": 58
        },
        "id": "mS2H20ArvcFu",
        "outputId": "59eba7ed-bd40-4e51-b847-5e145d8d2428"
      },
      "execution_count": null,
      "outputs": [
        {
          "output_type": "display_data",
          "data": {
            "text/plain": [
              "<IPython.core.display.Math object>"
            ],
            "text/latex": "$\\displaystyle 6 \\cdot {x}^{1}$"
          },
          "metadata": {}
        },
        {
          "output_type": "execute_result",
          "data": {
            "text/plain": [
              "['P', ['q', 6, 1], ['^', 'x', ['q', 1, 1]]]"
            ]
          },
          "metadata": {},
          "execution_count": 335
        }
      ]
    },
    {
      "cell_type": "code",
      "source": [
        "for n in range(5):\n",
        "  show(Diff(x ** 3, x, n))"
      ],
      "metadata": {
        "colab": {
          "base_uri": "https://localhost:8080/",
          "height": 148
        },
        "id": "cpW3WOvj8u4_",
        "outputId": "e35af127-815b-447c-8ae6-022da7166277"
      },
      "execution_count": null,
      "outputs": [
        {
          "output_type": "display_data",
          "data": {
            "text/plain": [
              "<IPython.core.display.Math object>"
            ],
            "text/latex": "$\\displaystyle {x}^{3}$"
          },
          "metadata": {}
        },
        {
          "output_type": "display_data",
          "data": {
            "text/plain": [
              "<IPython.core.display.Math object>"
            ],
            "text/latex": "$\\displaystyle 3 \\cdot {x}^{2}$"
          },
          "metadata": {}
        },
        {
          "output_type": "display_data",
          "data": {
            "text/plain": [
              "<IPython.core.display.Math object>"
            ],
            "text/latex": "$\\displaystyle 0 \\cdot {x}^{2} + 3 \\cdot 2 \\cdot {x}^{1}$"
          },
          "metadata": {}
        },
        {
          "output_type": "display_data",
          "data": {
            "text/plain": [
              "<IPython.core.display.Math object>"
            ],
            "text/latex": "$\\displaystyle 0 \\cdot {x}^{2} + 0 \\cdot 2 \\cdot {x}^{1} + 0 \\cdot 2 \\cdot {x}^{1} + 3 \\cdot \\left( 0 \\cdot {x}^{1} + 2 \\cdot 1 \\right)$"
          },
          "metadata": {}
        },
        {
          "output_type": "display_data",
          "data": {
            "text/plain": [
              "<IPython.core.display.Math object>"
            ],
            "text/latex": "$\\displaystyle 0 \\cdot {x}^{2} + 0 \\cdot 2 \\cdot {x}^{1} + 0 \\cdot 2 \\cdot {x}^{1} + 0 \\cdot \\left( 0 \\cdot {x}^{1} + 2 \\cdot 1 \\right) + 0 \\cdot 2 \\cdot {x}^{1} + 0 \\cdot \\left( 0 \\cdot {x}^{1} + 2 \\cdot 1 \\right) + 0 \\cdot \\left( 0 \\cdot {x}^{1} + 2 \\cdot 1 \\right) + 3 \\cdot \\left( 0 \\cdot {x}^{1} + 0 \\cdot 1 + 0 \\cdot 1 + 2 \\cdot 0 \\right)$"
          },
          "metadata": {}
        }
      ]
    },
    {
      "cell_type": "code",
      "source": [
        "for n in range(5):\n",
        "  show(simplify(Diff(x ** 3, x, n)))"
      ],
      "metadata": {
        "colab": {
          "base_uri": "https://localhost:8080/",
          "height": 123
        },
        "id": "Z4QMi_RFzBLr",
        "outputId": "f7f133a8-c2b0-4026-afa0-407a9f8e1963"
      },
      "execution_count": null,
      "outputs": [
        {
          "output_type": "display_data",
          "data": {
            "text/plain": [
              "<IPython.core.display.Math object>"
            ],
            "text/latex": "$\\displaystyle {x}^{3}$"
          },
          "metadata": {}
        },
        {
          "output_type": "display_data",
          "data": {
            "text/plain": [
              "<IPython.core.display.Math object>"
            ],
            "text/latex": "$\\displaystyle 3 \\cdot {x}^{2}$"
          },
          "metadata": {}
        },
        {
          "output_type": "display_data",
          "data": {
            "text/plain": [
              "<IPython.core.display.Math object>"
            ],
            "text/latex": "$\\displaystyle 6 \\cdot {x}^{1}$"
          },
          "metadata": {}
        },
        {
          "output_type": "display_data",
          "data": {
            "text/plain": [
              "<IPython.core.display.Math object>"
            ],
            "text/latex": "$\\displaystyle 6$"
          },
          "metadata": {}
        },
        {
          "output_type": "display_data",
          "data": {
            "text/plain": [
              "<IPython.core.display.Math object>"
            ],
            "text/latex": "$\\displaystyle 0$"
          },
          "metadata": {}
        }
      ]
    },
    {
      "cell_type": "markdown",
      "source": [
        "### Лекция 6. Упрощение выражений"
      ],
      "metadata": {
        "id": "MkVe_81OoIFJ"
      }
    },
    {
      "cell_type": "code",
      "source": [
        "def Eq(x, y):\n",
        "  return Expression(['=', fix(x).T, fix(y).T])\n",
        "\n",
        "def lhs(f):\n",
        "  if f.T[0] == '=':\n",
        "    return Expression(f.T[1])\n",
        "  return f\n",
        "\n",
        "def rhs(f):\n",
        "  if f.T[0] == '=':\n",
        "    return Expression(f.T[2])\n",
        "  return f"
      ],
      "metadata": {
        "id": "qWQJjB-E2LXv"
      },
      "execution_count": null,
      "outputs": []
    },
    {
      "cell_type": "code",
      "source": [
        "eq = Eq(x, x ** 2 + 1)\n",
        "show(eq)\n",
        "show(rhs(eq))"
      ],
      "metadata": {
        "colab": {
          "base_uri": "https://localhost:8080/",
          "height": 61
        },
        "id": "gKqGXyEl7KCF",
        "outputId": "9606e3ca-b6b2-41b5-a227-ab452a2455fe"
      },
      "execution_count": null,
      "outputs": [
        {
          "output_type": "display_data",
          "data": {
            "text/plain": [
              "<IPython.core.display.Math object>"
            ],
            "text/latex": "$\\displaystyle x = {x}^{2} + 1$"
          },
          "metadata": {}
        },
        {
          "output_type": "display_data",
          "data": {
            "text/plain": [
              "<IPython.core.display.Math object>"
            ],
            "text/latex": "$\\displaystyle {x}^{2} + 1$"
          },
          "metadata": {}
        }
      ]
    },
    {
      "cell_type": "code",
      "source": [
        "def contains(f, x):\n",
        "  if isinstance(f, Expression):\n",
        "    return contains(f.T, x.T)\n",
        "  if isinstance(f, str):\n",
        "    return f == x\n",
        "  if isinstance(f, list):\n",
        "    for a in f[1:]:\n",
        "      if contains(a, x):\n",
        "        return True\n",
        "  return False"
      ],
      "metadata": {
        "id": "3f_nnsj97g4i"
      },
      "execution_count": null,
      "outputs": []
    },
    {
      "cell_type": "code",
      "source": [
        "eq = Eq(x, x ** 2 + 1)\n",
        "contains(eq, x), contains(eq, y)"
      ],
      "metadata": {
        "colab": {
          "base_uri": "https://localhost:8080/"
        },
        "id": "1ISNtV__8Un5",
        "outputId": "57b6bbff-7b7e-4c57-da3f-2519e816707f"
      },
      "execution_count": null,
      "outputs": [
        {
          "output_type": "execute_result",
          "data": {
            "text/plain": [
              "(True, False)"
            ]
          },
          "metadata": {},
          "execution_count": 341
        }
      ]
    },
    {
      "cell_type": "code",
      "source": [
        "def subs(f, x, x0):\n",
        "  if isinstance(f, Expression):\n",
        "    return Expression(subs(f.T, fix(x).T, fix(x0).T))\n",
        "\n",
        "  if f == x:\n",
        "    return x0\n",
        "\n",
        "  if isinstance(f, list):\n",
        "    A = [subs(a, x, x0) for a in f[1:]]\n",
        "    return [f[0], *A]\n",
        "  return f"
      ],
      "metadata": {
        "id": "OXK_fQun8aNo"
      },
      "execution_count": null,
      "outputs": []
    },
    {
      "cell_type": "code",
      "source": [
        "show(eq)\n",
        "eq2 = subs(eq, x, Q(1, 2))\n",
        "show(eq2)"
      ],
      "metadata": {
        "colab": {
          "base_uri": "https://localhost:8080/",
          "height": 83
        },
        "id": "2iv855EXwjcd",
        "outputId": "104234d2-c65a-44c5-8a29-adf72fc24943"
      },
      "execution_count": null,
      "outputs": [
        {
          "output_type": "display_data",
          "data": {
            "text/plain": [
              "<IPython.core.display.Math object>"
            ],
            "text/latex": "$\\displaystyle x = {x}^{2} + 1$"
          },
          "metadata": {}
        },
        {
          "output_type": "display_data",
          "data": {
            "text/plain": [
              "<IPython.core.display.Math object>"
            ],
            "text/latex": "$\\displaystyle \\frac{1}{2} = {\\left( \\frac{1}{2} \\right)}^{2} + 1$"
          },
          "metadata": {}
        }
      ]
    },
    {
      "cell_type": "code",
      "source": [
        "def Set(*X):\n",
        "  A = [x.T for x in X]\n",
        "  return Expression(['set', *A])"
      ],
      "metadata": {
        "id": "S2XWcTnjwoXm"
      },
      "execution_count": null,
      "outputs": []
    },
    {
      "cell_type": "code",
      "source": [
        "S = Set(Z(1), x, x**2, x**3)\n",
        "show(S)\n",
        "for i in range(len(S)):\n",
        "    show(S[i])\n",
        "show(Set())"
      ],
      "metadata": {
        "colab": {
          "base_uri": "https://localhost:8080/",
          "height": 145
        },
        "id": "yh9NbkYVzBJs",
        "outputId": "2a949dec-9203-4d10-e71e-4686818deb83"
      },
      "execution_count": null,
      "outputs": [
        {
          "output_type": "display_data",
          "data": {
            "text/plain": [
              "<IPython.core.display.Math object>"
            ],
            "text/latex": "$\\displaystyle \\left\\{ 1,x,{x}^{2},{x}^{3} \\right\\}$"
          },
          "metadata": {}
        },
        {
          "output_type": "display_data",
          "data": {
            "text/plain": [
              "<IPython.core.display.Math object>"
            ],
            "text/latex": "$\\displaystyle 1$"
          },
          "metadata": {}
        },
        {
          "output_type": "display_data",
          "data": {
            "text/plain": [
              "<IPython.core.display.Math object>"
            ],
            "text/latex": "$\\displaystyle x$"
          },
          "metadata": {}
        },
        {
          "output_type": "display_data",
          "data": {
            "text/plain": [
              "<IPython.core.display.Math object>"
            ],
            "text/latex": "$\\displaystyle {x}^{2}$"
          },
          "metadata": {}
        },
        {
          "output_type": "display_data",
          "data": {
            "text/plain": [
              "<IPython.core.display.Math object>"
            ],
            "text/latex": "$\\displaystyle {x}^{3}$"
          },
          "metadata": {}
        },
        {
          "output_type": "display_data",
          "data": {
            "text/plain": [
              "<IPython.core.display.Math object>"
            ],
            "text/latex": "$\\displaystyle \\left\\{  \\right\\}$"
          },
          "metadata": {}
        }
      ]
    },
    {
      "cell_type": "code",
      "source": [
        "def solveLinear(eq, x):\n",
        "  f = lhs(eq) - rhs(eq)\n",
        "  df = diff(f, x)\n",
        "  k = simplify(df)\n",
        "  if contains(k, x):\n",
        "    raise ValueError('Equation is not linear')\n",
        "  b = simplify(subs(f, x, Z(0)))\n",
        "  if k.T != ['q', 0, 1]:\n",
        "    return Set(simplify(-b / k))\n",
        "  return Set()"
      ],
      "metadata": {
        "id": "k7SI-n-E1EUy"
      },
      "execution_count": null,
      "outputs": []
    },
    {
      "cell_type": "code",
      "source": [
        "eq = Eq(Z(2) * x / 5 - 1, Z(3) + x / 2)\n",
        "show(eq)\n",
        "sol = solveLinear(eq, x)\n",
        "show(sol)\n",
        "if len(sol) > 0:\n",
        "    x0 = sol[0]\n",
        "    show(Eq(x, x0))\n",
        "    show(simplify(subs(eq, x, x0)))\n",
        "else:\n",
        "    print('no solution')"
      ],
      "metadata": {
        "colab": {
          "base_uri": "https://localhost:8080/",
          "height": 113
        },
        "id": "33e_tTMP3qdg",
        "outputId": "f1b4b98c-e55e-4461-beb0-ce0850ae892b"
      },
      "execution_count": null,
      "outputs": [
        {
          "output_type": "display_data",
          "data": {
            "text/plain": [
              "<IPython.core.display.Math object>"
            ],
            "text/latex": "$\\displaystyle \\dfrac{2 \\cdot x}{5} - 1 = 3 + \\dfrac{x}{2}$"
          },
          "metadata": {}
        },
        {
          "output_type": "display_data",
          "data": {
            "text/plain": [
              "<IPython.core.display.Math object>"
            ],
            "text/latex": "$\\displaystyle \\left\\{ -40 \\right\\}$"
          },
          "metadata": {}
        },
        {
          "output_type": "display_data",
          "data": {
            "text/plain": [
              "<IPython.core.display.Math object>"
            ],
            "text/latex": "$\\displaystyle x = -40$"
          },
          "metadata": {}
        },
        {
          "output_type": "display_data",
          "data": {
            "text/plain": [
              "<IPython.core.display.Math object>"
            ],
            "text/latex": "$\\displaystyle -17 = -17$"
          },
          "metadata": {}
        }
      ]
    },
    {
      "cell_type": "code",
      "source": [
        "def solveUnique(eq, x):\n",
        "  F = simplify(lhs(eq) - rhs(eq))\n",
        "  x0 = solveUnique_(F.T, 0, x.T)\n",
        "  if x0 == None:\n",
        "    return Set()\n",
        "  return Set(Expression(x0))"
      ],
      "metadata": {
        "id": "xksIx70s3zSD"
      },
      "execution_count": null,
      "outputs": []
    },
    {
      "cell_type": "code",
      "source": [
        "def solveUnique_(L, R, x):\n",
        "  if L == x:\n",
        "    return R\n",
        "  return None"
      ],
      "metadata": {
        "id": "RBUpe0UH37eV"
      },
      "execution_count": null,
      "outputs": []
    },
    {
      "cell_type": "code",
      "source": [
        "show(solveUnique(Eq(x, 0), x))"
      ],
      "metadata": {
        "colab": {
          "base_uri": "https://localhost:8080/",
          "height": 37
        },
        "id": "7cFE_imy7R8j",
        "outputId": "96151274-eced-4e14-bed8-b6295f542a83"
      },
      "execution_count": null,
      "outputs": [
        {
          "output_type": "display_data",
          "data": {
            "text/plain": [
              "<IPython.core.display.Math object>"
            ],
            "text/latex": "$\\displaystyle \\left\\{ 0 \\right\\}$"
          },
          "metadata": {}
        }
      ]
    },
    {
      "cell_type": "markdown",
      "source": [
        "# Лекция 7. Интегрирование"
      ],
      "metadata": {
        "id": "ceYs4TPSAMi4"
      }
    },
    {
      "cell_type": "code",
      "source": [
        "def integral(f, x):\n",
        "  return ['integral', f, x]\n",
        "\n",
        "def Integrate(f, x):\n",
        "  F1 = Expression(integral(f.T, x.T))\n",
        "  F2 = integrate(f, x)\n",
        "  s = f'{latex(F1)} = {latex(F2)}'\n",
        "  display(Math(s))"
      ],
      "metadata": {
        "id": "ainIGDB62svv"
      },
      "execution_count": null,
      "outputs": []
    },
    {
      "cell_type": "code",
      "source": [
        "def integrate(f, x):\n",
        "  if isinstance(f, Expression):\n",
        "    return Expression(integrate(f.T, x.T))\n",
        "  # константа\n",
        "  if not contains(f, x):\n",
        "    return mul(f, x)\n",
        "  # табличные интегралы\n",
        "  if f[0] == 'sin' and f[1] == x:\n",
        "    return negative(cos_(x))\n",
        "  if f[0] == 'cos' and f[1] == x:\n",
        "    return sin_(x)\n",
        "  if f[0] == 'exp' and f[1] == x:\n",
        "    return exp_(x)\n",
        "  # степенные функции\n",
        "  f = simplify(f)\n",
        "  if f == x:\n",
        "    return div(power(x, 2), 2)\n",
        "  if f[0] == '^' and f[1] == x:\n",
        "    if f[2] == rational(-1, 1):\n",
        "      return ln_(x)\n",
        "    if not contains(f[2], x):\n",
        "      k = add(f[2], 1)\n",
        "      return simplify(div(power(x, k), k) )\n",
        "  # сумма функций\n",
        "  if f[0] == 'S':\n",
        "    A = [integrate(a, x) for a in f[1:]]\n",
        "    return Sum(*A)\n",
        "  # произведение на число\n",
        "  if f[0] == 'P':\n",
        "    K, X = [], []\n",
        "    for a in f[1:]:\n",
        "      if contains(a, x):\n",
        "        X.append(a)\n",
        "      else:\n",
        "        K.append(a)\n",
        "    if K != []:\n",
        "      K.append(integrate(Product(*X), x))\n",
        "      return simplify(Product(*K))\n",
        "  # замена (внесение под дифференциал)\n",
        "  if f[0] == 'P' and len(f[1:]) == 2 and (f[1] == x or f[2] == x):\n",
        "    i = 2 if f[1] == x else 1 \n",
        "    t = x + '_'\n",
        "    g = subs(f[i], power(x, rational(2, 1)), t) \n",
        "    if not contains(g, x):\n",
        "      G = integrate(g, t)\n",
        "      F = subs(G, t, power(x, rational(2, 1)))\n",
        "      return simplify(div(F, 2)) \n",
        "  # линейная замена\n",
        "  I = linearSubsInt(f, x)\n",
        "  if I != None:\n",
        "    return I    \n",
        "\n",
        "  return integral(f, x)\n"
      ],
      "metadata": {
        "id": "98hFib423VIF"
      },
      "execution_count": null,
      "outputs": []
    },
    {
      "cell_type": "code",
      "source": [
        "def linearSubsInt(f, x):\n",
        "  s = findLinearSubs(f, x)\n",
        "  if s != None:\n",
        "    t = x + '_'\n",
        "    g = subs(f, s, t) \n",
        "    if not contains(g, x):\n",
        "      G = integrate(g, t)\n",
        "      F = subs(G, t, s)\n",
        "      return simplify(div(F, s[2][1])) \n",
        "def findLinearSubs(f, x):\n",
        "  if isinstance(f, list):\n",
        "    if f[0] == 'S' and f[1][0] == 'q':\n",
        "      if f[2][0] == 'P' and f[2][1][0] == 'q' and f[2][2] == x:\n",
        "        return f\n",
        "    for a in f[1:]:\n",
        "      s = findLinearSubs(a, x)\n",
        "      if s != None:\n",
        "        return s\n",
        "  return None"
      ],
      "metadata": {
        "id": "5b2Ke50nNMz5"
      },
      "execution_count": null,
      "outputs": []
    },
    {
      "cell_type": "code",
      "source": [
        "f = x ** 2\n",
        "Integrate(f, x)"
      ],
      "metadata": {
        "id": "gK8grhN37pmS",
        "colab": {
          "base_uri": "https://localhost:8080/",
          "height": 55
        },
        "outputId": "b5fa1b58-3a5f-48a7-aa44-951c6eaf886d"
      },
      "execution_count": null,
      "outputs": [
        {
          "output_type": "display_data",
          "data": {
            "text/plain": [
              "<IPython.core.display.Math object>"
            ],
            "text/latex": "$\\displaystyle \\int{{x}^{2}}d{x} = \\frac{1}{3} \\cdot {x}^{3}$"
          },
          "metadata": {}
        }
      ]
    },
    {
      "cell_type": "code",
      "source": [
        "Integrate(y / 2, x)\n",
        "Integrate(x / 2, x)"
      ],
      "metadata": {
        "colab": {
          "base_uri": "https://localhost:8080/",
          "height": 92
        },
        "id": "IhLO8ouyEowt",
        "outputId": "1e92a262-5997-42d3-fcb8-07be338a3d3a"
      },
      "execution_count": null,
      "outputs": [
        {
          "output_type": "display_data",
          "data": {
            "text/plain": [
              "<IPython.core.display.Math object>"
            ],
            "text/latex": "$\\displaystyle \\int{\\dfrac{y}{2}}d{x} = \\dfrac{y}{2} \\cdot x$"
          },
          "metadata": {}
        },
        {
          "output_type": "display_data",
          "data": {
            "text/plain": [
              "<IPython.core.display.Math object>"
            ],
            "text/latex": "$\\displaystyle \\int{\\dfrac{x}{2}}d{x} = \\frac{1}{4} \\cdot {x}^{2}$"
          },
          "metadata": {}
        }
      ]
    },
    {
      "cell_type": "code",
      "source": [
        "Integrate(sin(x), x)\n",
        "Integrate(exp(x), x)"
      ],
      "metadata": {
        "colab": {
          "base_uri": "https://localhost:8080/",
          "height": 92
        },
        "id": "UzqPdMe5CQpa",
        "outputId": "f39ac0e0-1ce0-47c6-d9e1-9e873e25438d"
      },
      "execution_count": null,
      "outputs": [
        {
          "output_type": "display_data",
          "data": {
            "text/plain": [
              "<IPython.core.display.Math object>"
            ],
            "text/latex": "$\\displaystyle \\int{\\sin \\left( x \\right)}d{x} = - \\left( \\cos \\left( x \\right) \\right)$"
          },
          "metadata": {}
        },
        {
          "output_type": "display_data",
          "data": {
            "text/plain": [
              "<IPython.core.display.Math object>"
            ],
            "text/latex": "$\\displaystyle \\int{e ^ {\\left( x \\right)}}d{x} = e ^ {\\left( x \\right)}$"
          },
          "metadata": {}
        }
      ]
    },
    {
      "cell_type": "code",
      "source": [
        "Integrate(x, x)\n",
        "Integrate(x**-1, x)\n",
        "Integrate(Z(1)/x, x)\n",
        "Integrate(x ** 2, x)\n",
        "Integrate(Z(1) / x ** 2, x)\n",
        "Integrate(x ** Q(1, 2), x)"
      ],
      "metadata": {
        "colab": {
          "base_uri": "https://localhost:8080/",
          "height": 245
        },
        "id": "m8dFL7HvDC6B",
        "outputId": "f7866136-7eb1-4d15-d049-25c1168af7a1"
      },
      "execution_count": null,
      "outputs": [
        {
          "output_type": "display_data",
          "data": {
            "text/plain": [
              "<IPython.core.display.Math object>"
            ],
            "text/latex": "$\\displaystyle \\int{x}d{x} = \\dfrac{{x}^{2}}{2}$"
          },
          "metadata": {}
        },
        {
          "output_type": "display_data",
          "data": {
            "text/plain": [
              "<IPython.core.display.Math object>"
            ],
            "text/latex": "$\\displaystyle \\int{{x}^{-1}}d{x} = \\ln \\left( x \\right)$"
          },
          "metadata": {}
        },
        {
          "output_type": "display_data",
          "data": {
            "text/plain": [
              "<IPython.core.display.Math object>"
            ],
            "text/latex": "$\\displaystyle \\int{\\dfrac{1}{x}}d{x} = \\ln \\left( x \\right)$"
          },
          "metadata": {}
        },
        {
          "output_type": "display_data",
          "data": {
            "text/plain": [
              "<IPython.core.display.Math object>"
            ],
            "text/latex": "$\\displaystyle \\int{{x}^{2}}d{x} = \\frac{1}{3} \\cdot {x}^{3}$"
          },
          "metadata": {}
        },
        {
          "output_type": "display_data",
          "data": {
            "text/plain": [
              "<IPython.core.display.Math object>"
            ],
            "text/latex": "$\\displaystyle \\int{\\dfrac{1}{{x}^{2}}}d{x} = \\left( -1 \\right) \\cdot {x}^{-1}$"
          },
          "metadata": {}
        },
        {
          "output_type": "display_data",
          "data": {
            "text/plain": [
              "<IPython.core.display.Math object>"
            ],
            "text/latex": "$\\displaystyle \\int{{x}^{\\frac{1}{2}}}d{x} = \\frac{2}{3} \\cdot {x}^{\\frac{3}{2}}$"
          },
          "metadata": {}
        }
      ]
    },
    {
      "cell_type": "code",
      "source": [
        "Integrate(x ** 2 + x ** 3, x)\n",
        "Integrate(x ** 2 + x ** 3 + 2 * x, x)"
      ],
      "metadata": {
        "colab": {
          "base_uri": "https://localhost:8080/",
          "height": 92
        },
        "id": "UK_C1vnyINlh",
        "outputId": "36e98dc1-3d29-4313-f473-4aa791300956"
      },
      "execution_count": null,
      "outputs": [
        {
          "output_type": "display_data",
          "data": {
            "text/plain": [
              "<IPython.core.display.Math object>"
            ],
            "text/latex": "$\\displaystyle \\int{{x}^{2} + {x}^{3}}d{x} = \\frac{1}{3} \\cdot {x}^{3} + \\frac{1}{4} \\cdot {x}^{4}$"
          },
          "metadata": {}
        },
        {
          "output_type": "display_data",
          "data": {
            "text/plain": [
              "<IPython.core.display.Math object>"
            ],
            "text/latex": "$\\displaystyle \\int{{x}^{2} + {x}^{3} + 2 \\cdot x}d{x} = {x}^{2} + \\frac{1}{3} \\cdot {x}^{3} + \\frac{1}{4} \\cdot {x}^{4}$"
          },
          "metadata": {}
        }
      ]
    },
    {
      "cell_type": "code",
      "source": [
        "Integrate(2 * x ** 3, x)\n",
        "Integrate(x * y / 3, x)"
      ],
      "metadata": {
        "colab": {
          "base_uri": "https://localhost:8080/",
          "height": 92
        },
        "id": "C4EN9cCMK5F1",
        "outputId": "ca77a7c1-ba73-42f4-be4f-08980dc4c064"
      },
      "execution_count": null,
      "outputs": [
        {
          "output_type": "display_data",
          "data": {
            "text/plain": [
              "<IPython.core.display.Math object>"
            ],
            "text/latex": "$\\displaystyle \\int{2 \\cdot {x}^{3}}d{x} = \\frac{1}{2} \\cdot {x}^{4}$"
          },
          "metadata": {}
        },
        {
          "output_type": "display_data",
          "data": {
            "text/plain": [
              "<IPython.core.display.Math object>"
            ],
            "text/latex": "$\\displaystyle \\int{\\dfrac{x \\cdot y}{3}}d{x} = \\frac{1}{6} \\cdot {x}^{2} \\cdot y$"
          },
          "metadata": {}
        }
      ]
    },
    {
      "cell_type": "code",
      "source": [
        "Integrate(x * sin(x ** 2), x)\n",
        "Integrate(x * (x ** 2 + 1), x)"
      ],
      "metadata": {
        "colab": {
          "base_uri": "https://localhost:8080/",
          "height": 98
        },
        "id": "UUsIy3PsM6qs",
        "outputId": "e8f1a9de-4a42-4c82-a33e-44199b7d5612"
      },
      "execution_count": null,
      "outputs": [
        {
          "output_type": "display_data",
          "data": {
            "text/plain": [
              "<IPython.core.display.Math object>"
            ],
            "text/latex": "$\\displaystyle \\int{x \\cdot \\sin \\left( {x}^{2} \\right)}d{x} = \\left( -\\frac{1}{2} \\right) \\cdot \\cos \\left( {x}^{2} \\right)$"
          },
          "metadata": {}
        },
        {
          "output_type": "display_data",
          "data": {
            "text/plain": [
              "<IPython.core.display.Math object>"
            ],
            "text/latex": "$\\displaystyle \\int{x \\cdot \\left( {x}^{2} + 1 \\right)}d{x} = \\frac{1}{2} \\cdot \\left( \\frac{1}{2} \\cdot {x}^{4} + {x}^{2} \\right)$"
          },
          "metadata": {}
        }
      ]
    },
    {
      "cell_type": "code",
      "source": [
        "L = Z(2) * x + 3\n",
        "Integrate(exp(L), x)\n",
        "Integrate(L * cos(L ** 2), x)\n",
        "Integrate( cos(L ** 2) * L, x)"
      ],
      "metadata": {
        "colab": {
          "base_uri": "https://localhost:8080/",
          "height": 130
        },
        "id": "tPMusDBTxBaY",
        "outputId": "fc7a808b-4bd1-451e-b66a-ec750c736267"
      },
      "execution_count": null,
      "outputs": [
        {
          "output_type": "display_data",
          "data": {
            "text/plain": [
              "<IPython.core.display.Math object>"
            ],
            "text/latex": "$\\displaystyle \\int{e ^ {\\left( 2 \\cdot x + 3 \\right)}}d{x} = \\frac{1}{2} \\cdot e ^ {\\left( 3 + 2 \\cdot x \\right)}$"
          },
          "metadata": {}
        },
        {
          "output_type": "display_data",
          "data": {
            "text/plain": [
              "<IPython.core.display.Math object>"
            ],
            "text/latex": "$\\displaystyle \\int{\\left( 2 \\cdot x + 3 \\right) \\cdot \\cos \\left( {\\left( 2 \\cdot x + 3 \\right)}^{2} \\right)}d{x} = \\frac{1}{4} \\cdot \\sin \\left( {\\left( 3 + 2 \\cdot x \\right)}^{2} \\right)$"
          },
          "metadata": {}
        },
        {
          "output_type": "display_data",
          "data": {
            "text/plain": [
              "<IPython.core.display.Math object>"
            ],
            "text/latex": "$\\displaystyle \\int{\\cos \\left( {\\left( 2 \\cdot x + 3 \\right)}^{2} \\right) \\cdot \\left( 2 \\cdot x + 3 \\right)}d{x} = \\frac{1}{4} \\cdot \\sin \\left( {\\left( 3 + 2 \\cdot x \\right)}^{2} \\right)$"
          },
          "metadata": {}
        }
      ]
    },
    {
      "cell_type": "code",
      "source": [
        "def integrate2(f, x, a, b):\n",
        "  F = integrate(f, x)\n",
        "  return simplify(subs(F, x, b) - subs(F, x, a))"
      ],
      "metadata": {
        "id": "h14U7C18w5A1"
      },
      "execution_count": null,
      "outputs": []
    },
    {
      "cell_type": "code",
      "source": [
        "show(integrate2(x ** 2, x, 1, 2))\n",
        "show(integrate2(sin(x), x, 0, 1))\n",
        "show(integrate2(x ** 3, x, 1, 1))\n",
        "show(integrate2(x ** 2, x, 2, 1))"
      ],
      "metadata": {
        "colab": {
          "base_uri": "https://localhost:8080/",
          "height": 126
        },
        "id": "rqQ3drWJxaIm",
        "outputId": "9f6f8ebc-8eb4-4f60-e4ad-deaa15e6d440"
      },
      "execution_count": null,
      "outputs": [
        {
          "output_type": "display_data",
          "data": {
            "text/plain": [
              "<IPython.core.display.Math object>"
            ],
            "text/latex": "$\\displaystyle \\frac{7}{3}$"
          },
          "metadata": {}
        },
        {
          "output_type": "display_data",
          "data": {
            "text/plain": [
              "<IPython.core.display.Math object>"
            ],
            "text/latex": "$\\displaystyle \\cos \\left( 0 \\right) + \\left( -1 \\right) \\cdot \\cos \\left( 1 \\right)$"
          },
          "metadata": {}
        },
        {
          "output_type": "display_data",
          "data": {
            "text/plain": [
              "<IPython.core.display.Math object>"
            ],
            "text/latex": "$\\displaystyle 0$"
          },
          "metadata": {}
        },
        {
          "output_type": "display_data",
          "data": {
            "text/plain": [
              "<IPython.core.display.Math object>"
            ],
            "text/latex": "$\\displaystyle -\\frac{7}{3}$"
          },
          "metadata": {}
        }
      ]
    },
    {
      "cell_type": "code",
      "source": [
        "Integrate(sqrt(x), x)\n",
        "Integrate(1/sqrt(x),x)\n",
        "Integrate(sqrt(x**3),x)\n"
      ],
      "metadata": {
        "id": "Caf8LK4izOFn",
        "colab": {
          "base_uri": "https://localhost:8080/",
          "height": 130
        },
        "outputId": "fa4e4bf3-9747-4709-ff1d-1a3fa609bd03"
      },
      "execution_count": null,
      "outputs": [
        {
          "output_type": "display_data",
          "data": {
            "text/plain": [
              "<IPython.core.display.Math object>"
            ],
            "text/latex": "$\\displaystyle \\int{{x}^{\\frac{1}{2}}}d{x} = \\frac{2}{3} \\cdot {x}^{\\frac{3}{2}}$"
          },
          "metadata": {}
        },
        {
          "output_type": "display_data",
          "data": {
            "text/plain": [
              "<IPython.core.display.Math object>"
            ],
            "text/latex": "$\\displaystyle \\int{\\dfrac{1}{{x}^{\\frac{1}{2}}}}d{x} = 2 \\cdot {x}^{\\frac{1}{2}}$"
          },
          "metadata": {}
        },
        {
          "output_type": "display_data",
          "data": {
            "text/plain": [
              "<IPython.core.display.Math object>"
            ],
            "text/latex": "$\\displaystyle \\int{{\\left( {x}^{3} \\right)}^{\\frac{1}{2}}}d{x} = \\frac{2}{5} \\cdot {x}^{\\frac{5}{2}}$"
          },
          "metadata": {}
        }
      ]
    }
  ]
}