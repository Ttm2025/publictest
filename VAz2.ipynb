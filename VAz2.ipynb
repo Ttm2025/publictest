{
  "nbformat": 4,
  "nbformat_minor": 0,
  "metadata": {
    "colab": {
      "provenance": [],
      "authorship_tag": "ABX9TyOTkfJ2lAdi8iiHcVoNvKgb",
      "include_colab_link": true
    },
    "kernelspec": {
      "name": "python3",
      "display_name": "Python 3"
    },
    "language_info": {
      "name": "python"
    }
  },
  "cells": [
    {
      "cell_type": "markdown",
      "metadata": {
        "id": "view-in-github",
        "colab_type": "text"
      },
      "source": [
        "<a href=\"https://colab.research.google.com/github/Ttm2025/test/blob/main/VAz2.ipynb\" target=\"_parent\"><img src=\"https://colab.research.google.com/assets/colab-badge.svg\" alt=\"Open In Colab\"/></a>"
      ]
    },
    {
      "cell_type": "code",
      "execution_count": 165,
      "metadata": {
        "id": "V3K1VkT8P-L_"
      },
      "outputs": [],
      "source": [
        "from locale import ABMON_10\n",
        "from operator import truediv\n",
        "from IPython.display import display, Math\n",
        "import numpy as np\n",
        "import matplotlib\n",
        "import matplotlib.pyplot as plt\n",
        "class Polynomial:\n",
        "  def __init__(self, coef):\n",
        "    self.coef = coef\n",
        "    self.normalize()\n",
        "    self.deg = len(self.coef) - 1\n",
        "  def normalize(self):\n",
        "    while len(self.coef) > 1 and self.coef[-1] == 0:\n",
        "      self.coef = self.coef[:-1]\n",
        "  def show(self, var=\"x\"):\n",
        "    display(Math(self.tolatex(var)))\n",
        "  def tolatex(self, var=\"x\"):\n",
        "    if self.deg == 0:\n",
        "      return str(self.coef[0])\n",
        "    s = \"\"\n",
        "    for i in range(self.deg, -1, -1):\n",
        "      if self.coef[i] == 0:\n",
        "        continue\n",
        "      # знак\n",
        "      sign = \"\"\n",
        "      if self.coef[i] > 0 and i < self.deg:\n",
        "        sign = \"+\"\n",
        "      elif self.coef[i] < 0:\n",
        "        sign = \"-\"\n",
        "      # value\n",
        "      v = abs(self.coef[i])\n",
        "      value = str(v) if (v != 1 or i == 0) else \"\"\n",
        "      # degree\n",
        "      if i == 0:\n",
        "        degree = \"\"\n",
        "      elif i == 1:\n",
        "        degree = var\n",
        "      else:\n",
        "        degree = f\"{var}^{{{i}}}\"\n",
        "      s += sign + value + degree\n",
        "    return s\n",
        "  def diff(self,n=1):\n",
        "    if self.deg == 0:\n",
        "      return Polynomial([0])\n",
        "    z=self\n",
        "    for j in range(n):\n",
        "      q = []\n",
        "      for i, c in enumerate(z.coef):\n",
        "        if i > 0: \n",
        "          q.append(i * c)\n",
        "          z=Polynomial(q)\n",
        "    return z\n",
        "  def __call__(self, x):\n",
        "    y = 0\n",
        "    for i in range(self.deg, -1, -1):\n",
        "      y = y * x + self.coef[i]\n",
        "    return y\n",
        "  def plot(self, a, b):\n",
        "    dx = (b - a) / 100\n",
        "    X = np.arange(a, b + dx, dx)\n",
        "    Y = self.__call__(X)\n",
        "    plt.plot(X, Y)\n",
        "  def __eq__(self,t):\n",
        "    if (self.deg != t.deg):\n",
        "        return False;   \n",
        "    for i in range (len(self.coef)):\n",
        "        if (self.coef[i] != t.coef[i]):\n",
        "          return False\n",
        "    return True\n",
        "  def __ne__(self,t):\n",
        "    if (self.deg != t.deg):\n",
        "        return True;   \n",
        "    for i in range (len(self.coef)):\n",
        "        if (self.coef[i] != t.coef[i]):\n",
        "          return True\n",
        "    return False \n",
        "  def __add__(self, P):\n",
        "    if isinstance(P, int):\n",
        "      P = Polynomial([P])  \n",
        "    n = max(self.deg, P.deg) + 1\n",
        "    A = (self.coef + [0] * n)[:n]\n",
        "    B = (P.coef + [0] * n)[:n]\n",
        "    C = [A[i] + B[i] for i in range(n)]\n",
        "    return Polynomial(C)\n",
        "  def __sub__(self, P):\n",
        "    if isinstance(P, int):\n",
        "      P = Polynomial([P])\n",
        "    n = max(self.deg, P.deg) + 1\n",
        "    A = (self.coef + [0] * n)[:n]\n",
        "    B = (P.coef + [0] * n)[:n]\n",
        "    C = [A[i] - B[i] for i in range(n)]\n",
        "    return Polynomial(C)\n",
        "  def __mul__(self, P):\n",
        "    if isinstance(P, int):\n",
        "      P = Polynomial([P])\n",
        "    n = (self.deg + P.deg + 1)\n",
        "    A = (self.coef + [0] * n)[:n]\n",
        "    B = (P.coef + [0] * n)[:n]\n",
        "    C = [0 for i in range(n)]\n",
        "    for i in range(P.deg+1):\n",
        "      for j in range(self.deg+1):\n",
        "        C[i+j] += A[j]*B[i]\n",
        "    return Polynomial(C)\n",
        "  def __radd__(self, P):\n",
        "    if isinstance(P, int):\n",
        "      P = Polynomial([P])\n",
        "    n = max(self.deg, P.deg) + 1\n",
        "    A = (self.coef + [0] * n)[:n]\n",
        "    B = (P.coef + [0] * n)[:n]\n",
        "    C = [B[i] + C[i] for i in range(n)]\n",
        "    return Polynomial(C)\n",
        "  def __rsub__(self, P):\n",
        "    if isinstance(P, int):\n",
        "      P = Polynomial([P])\n",
        "    n = max(self.deg, P.deg) + 1\n",
        "    A = (self.coef + [0] * n)[:n]\n",
        "    B = (P.coef + [0] * n)[:n]\n",
        "    C = [B[i] - A[i] for i in range(n)]\n",
        "    return Polynomial(C)\n",
        "  def __rmul__(self, P):\n",
        "    if isinstance(P, int):\n",
        "      P = Polynomial([P])\n",
        "    n = (self.deg + P.deg + 1)\n",
        "    A = (self.coef + [0] * n)[:n]\n",
        "    B = (P.coef + [0] * n)[:n]\n",
        "    C = [0 for i in range(n)]\n",
        "    for i in range(self.deg+1):\n",
        "      for j in range(P.deg+1):\n",
        "        C[i+j] += B[j]*A[i]\n",
        "    return Polynomial(C)\n",
        "  def __iadd__(self, P):\n",
        "    if isinstance(P, int):\n",
        "      P = Polynomial([P])\n",
        "    n = max(self.deg, P.deg) + 1\n",
        "    A = (self.coef + [0] * n)[:n]\n",
        "    B = (P.coef + [0] * n)[:n]\n",
        "    C = [A[i] + B[i] for i in range(n)]\n",
        "    return Polynomial(C)\n",
        "  def __isub__(self, P):\n",
        "    if isinstance(P, int):\n",
        "      P = Polynomial([P])\n",
        "    n = max(self.deg, P.deg) + 1\n",
        "    A = (self.coef + [0] * n)[:n]\n",
        "    B = (P.coef + [0] * n)[:n]\n",
        "    C = [A[i] - B[i] for i in range(n)]\n",
        "    return Polynomial(C)\n",
        "  def __imul__(self, P):\n",
        "    if isinstance(P, int):\n",
        "      P = Polynomial([P])\n",
        "    n = (self.deg + P.deg + 1)\n",
        "    A = (self.coef + [0] * n)[:n]\n",
        "    B = (P.coef + [0] * n)[:n]\n",
        "    C = [0 for i in range(n)]\n",
        "    for i in range(P.deg+1):\n",
        "      for j in range(self.deg+1):\n",
        "        C[i+j] += A[j]*B[i]\n",
        "    return Polynomial(C)\n",
        "  def __floordiv__(self, P):\n",
        "      if isinstance(P, int):\n",
        "        P = Polynomial([P])\n",
        "      if self.deg<P.deg:\n",
        "        C=[0]\n",
        "        return Polynomial(C)\n",
        "      if self==P:\n",
        "        C=[1]\n",
        "        return Polynomial(C)\n",
        "      n=self.deg\n",
        "      m=P.deg\n",
        "      nn=n-m+1\n",
        "      A = (self.coef + [0] * (n+1))[:n+1]\n",
        "      A1=A\n",
        "      B = (P.coef + [0] * (n+1))[:n+1]\n",
        "      C = [0 for i in range(nn)]\n",
        "      for i in range(n,m-1,-1):\n",
        "        C[i - m] = A[i] / B[m]\n",
        "        nA=Polynomial(C)*Polynomial(B)\n",
        "        AA=Polynomial(A1)-nA\n",
        "        A = (AA.coef + [0] * (n+1))[:n+1]\n",
        "      return Polynomial(C)\n",
        "  def __mod__(self, P):\n",
        "      if isinstance(P, int):\n",
        "        P = Polynomial([P])\n",
        "      if self.deg<P.deg:\n",
        "        return self\n",
        "      if self==P:\n",
        "        C=[0]\n",
        "        return Polynomial(C)\n",
        "      n=self.deg\n",
        "      m=P.deg\n",
        "      nn=n-m+1\n",
        "      A = (self.coef + [0] * (n+1))[:n+1]\n",
        "      A1=A\n",
        "      B = (P.coef + [0] * (n+1))[:n+1]\n",
        "      C = [0 for i in range(nn)]\n",
        "      for i in range(n,m-1,-1):\n",
        "              C[i - m] = A[i] / B[m]\n",
        "              nA=Polynomial(C)*Polynomial(B)\n",
        "              AA=Polynomial(A1)-nA\n",
        "              A = (AA.coef + [0] * (n+1))[:n+1]\n",
        "      return Polynomial(A)\n",
        "  def __pow__(self, p):\n",
        "      C=self\n",
        "      for i in range(p-1):\n",
        "        C=C*self      \n",
        "      return C\n",
        "  def __neg__(self):\n",
        "    A = (self.coef + [0] * (self.deg+1))[:(self.deg+1)]\n",
        "    for i in range(self.deg+1):\n",
        "      A[i]*=-1\n",
        "    return Polynomial(A)\n",
        "  def integrate(P, C=0):\n",
        "    n=P.deg+1\n",
        "    A=(P.coef + [0] * (n))[:n]\n",
        "    C = [0 for i in range(n+1)]\n",
        "    for i in range(n,0,-1):\n",
        "      C[i]=A[i-1]/i\n",
        "    return Polynomial(C)\n",
        "def factor(P):\n",
        "  # k0 - количество делителей вида x\n",
        "  k0 = 0\n",
        "  while k0 < P.deg and P.coef[k0] == 0:\n",
        "    k0 += 1\n",
        "  Q = P.coef[k0:] # это будет неразлагаемая часть многочлена \n",
        "  X = [] # список делителей-биномов\n",
        "  stop = False\n",
        "  while not stop and len(Q) > 1:\n",
        "    a, b = abs(Q[-1]), abs(Q[0])\n",
        "    A = factorInteger(a)\n",
        "    B = factorInteger(b)\n",
        "    L = makebinomials(A, B)\n",
        "    stop = True\n",
        "    for p in L:\n",
        "      D, R = dividePolynomials(Q, p)\n",
        "      if R == [0]: # поделилось!\n",
        "        Q = D\n",
        "        X.append(p)\n",
        "        stop = False\n",
        "        break\n",
        "  return Q, k0, X\n",
        "\n",
        "def factorInteger(n):\n",
        "  return [i for i in range(1, n + 1) if n % i == 0]\n",
        "\n",
        "def makebinomials(A, B):\n",
        "  L = []\n",
        "  for p in A:\n",
        "    for q in B:\n",
        "      if get_gcd(p, q) == 1:\n",
        "        for s in [-1, 1]:\n",
        "          L.append((s * q, p))\n",
        "  return L\n",
        "\n",
        "def get_gcd(n, m):\n",
        "  while m > 0:\n",
        "    n, m = m, n % m\n",
        "  return n\n",
        "\n",
        "def dividePolynomials(P, Q):\n",
        "  R, D = P[:], [] # R - остаток от деления P на Q, D - целая часть от этого деления \n",
        "  k = len(Q)\n",
        "  while len(R) >= k:\n",
        "    if R[-1] % Q[-1] != 0: # целочисленное деление невозможно\n",
        "      return None, None\n",
        "    w = R[-1] // Q[-1]\n",
        "    for i in range(1, k + 1):\n",
        "      R[-i] -= w * Q[-i]\n",
        "    R, D = R[:-1], [w] + D\n",
        "  return D, R\n",
        "\n",
        "def showFactors(Q, k, X, var = \"x\"):\n",
        "  if k == 0 and X == []:\n",
        "    s = Polynomial(Q).tolatex(var)\n",
        "  else:\n",
        "    if len(Q) > 1:\n",
        "      s = f\"({Polynomial(Q).tolatex(var)})\"\n",
        "    elif Q[0] not in [-1, 1]:\n",
        "      s = str(Q[0])\n",
        "    elif Q[0] == -1:\n",
        "      s = \"-\"\n",
        "    else:\n",
        "      s = \"\"\n",
        "    for x in X:\n",
        "      s += f\"({Polynomial(x).tolatex(var)})\"\n",
        "    if k == 1:\n",
        "      s += var\n",
        "    elif k > 1:\n",
        "      s += f\"{var}^{{{k}}}\"\n",
        "  display(Math(s))"
      ]
    },
    {
      "cell_type": "code",
      "source": [
        "P = Polynomial([0, 0, 12, 10, 2])\n",
        "Q, k, X = factor(P)\n",
        "showFactors(Q, k, X)\n",
        "P = Polynomial([1, -2, -5, 1, 6])\n",
        "P.show()\n",
        "P.plot(-1, 1)\n",
        "P.diff().plot(-1, 1)\n",
        "P.diff().diff().plot(-1, 1)\n",
        "P = Polynomial([1, 2, 3])\n",
        "print(P.coef, P.deg)\n",
        "P.show()\n"
      ],
      "metadata": {
        "colab": {
          "base_uri": "https://localhost:8080/",
          "height": 349
        },
        "id": "k8Gyqw07Qy68",
        "outputId": "c9d2bac7-94ea-4026-d0ef-d61775e8afb1"
      },
      "execution_count": 31,
      "outputs": [
        {
          "output_type": "display_data",
          "data": {
            "text/plain": [
              "<IPython.core.display.Math object>"
            ],
            "text/latex": "$\\displaystyle 2(x+2)(x+3)x^{2}$"
          },
          "metadata": {}
        },
        {
          "output_type": "display_data",
          "data": {
            "text/plain": [
              "<IPython.core.display.Math object>"
            ],
            "text/latex": "$\\displaystyle 6x^{4}+x^{3}-5x^{2}-2x+1$"
          },
          "metadata": {}
        },
        {
          "output_type": "stream",
          "name": "stdout",
          "text": [
            "[1, 2, 3] 2\n"
          ]
        },
        {
          "output_type": "display_data",
          "data": {
            "text/plain": [
              "<IPython.core.display.Math object>"
            ],
            "text/latex": "$\\displaystyle 3x^{2}+2x+1$"
          },
          "metadata": {}
        },
        {
          "output_type": "display_data",
          "data": {
            "text/plain": [
              "<Figure size 432x288 with 1 Axes>"
            ],
            "image/png": "[encoded data removed]"
          },
          "metadata": {
            "needs_background": "light"
          }
        }
      ]
    },
    {
      "cell_type": "code",
      "source": [
        "Polynomial([1, 2, 3])== Polynomial([1, 2, 3])"
      ],
      "metadata": {
        "colab": {
          "base_uri": "https://localhost:8080/"
        },
        "id": "2faBKRP-RAn2",
        "outputId": "6acd3afb-b601-45d2-e53f-e9d87b7d0a4e"
      },
      "execution_count": 67,
      "outputs": [
        {
          "output_type": "execute_result",
          "data": {
            "text/plain": [
              "True"
            ]
          },
          "metadata": {},
          "execution_count": 67
        }
      ]
    },
    {
      "cell_type": "code",
      "source": [
        "Polynomial([1, 2, 3])!= Polynomial([1, 2, 3])"
      ],
      "metadata": {
        "colab": {
          "base_uri": "https://localhost:8080/"
        },
        "id": "y4LloxbLXolC",
        "outputId": "3a59795a-44b5-47d6-8fc7-246e04552604"
      },
      "execution_count": 68,
      "outputs": [
        {
          "output_type": "execute_result",
          "data": {
            "text/plain": [
              "False"
            ]
          },
          "metadata": {},
          "execution_count": 68
        }
      ]
    },
    {
      "cell_type": "code",
      "source": [
        "Polynomial([1, 2, 3])!= Polynomial([1, 2, 4])"
      ],
      "metadata": {
        "colab": {
          "base_uri": "https://localhost:8080/"
        },
        "id": "eS5aIJmUXsL2",
        "outputId": "4ac2d657-49a7-4f89-e7b3-1ccbb50e7df6"
      },
      "execution_count": 69,
      "outputs": [
        {
          "output_type": "execute_result",
          "data": {
            "text/plain": [
              "True"
            ]
          },
          "metadata": {},
          "execution_count": 69
        }
      ]
    },
    {
      "cell_type": "code",
      "source": [
        "P = Polynomial([1, 2, 1])\n",
        "P.show()\n",
        "Q = Polynomial([-3, 2, -1, 0, 0, 1])\n",
        "Q.show()\n",
        "(P + Q).show()\n",
        "(P - Q).show()\n",
        "(P * Q).show()\n",
        "(P - Q).show()\n",
        "\n",
        "(Q//P).show()\n",
        "(Q%P).show()\n",
        "(P//Q).show()\n",
        "(P%Q).show()\n",
        "(P//P).show()\n",
        "(P%P).show()"
      ],
      "metadata": {
        "colab": {
          "base_uri": "https://localhost:8080/",
          "height": 274
        },
        "id": "ahW7kybUY27n",
        "outputId": "ee8b2c08-2497-445e-c5ee-118791614686"
      },
      "execution_count": 141,
      "outputs": [
        {
          "output_type": "display_data",
          "data": {
            "text/plain": [
              "<IPython.core.display.Math object>"
            ],
            "text/latex": "$\\displaystyle x^{2}+2x+1$"
          },
          "metadata": {}
        },
        {
          "output_type": "display_data",
          "data": {
            "text/plain": [
              "<IPython.core.display.Math object>"
            ],
            "text/latex": "$\\displaystyle x^{5}-x^{2}+2x-3$"
          },
          "metadata": {}
        },
        {
          "output_type": "display_data",
          "data": {
            "text/plain": [
              "<IPython.core.display.Math object>"
            ],
            "text/latex": "$\\displaystyle x^{5}+4x-2$"
          },
          "metadata": {}
        },
        {
          "output_type": "display_data",
          "data": {
            "text/plain": [
              "<IPython.core.display.Math object>"
            ],
            "text/latex": "$\\displaystyle -x^{5}+2x^{2}+4$"
          },
          "metadata": {}
        },
        {
          "output_type": "display_data",
          "data": {
            "text/plain": [
              "<IPython.core.display.Math object>"
            ],
            "text/latex": "$\\displaystyle x^{7}+2x^{6}+x^{5}-x^{4}-4x-3$"
          },
          "metadata": {}
        },
        {
          "output_type": "display_data",
          "data": {
            "text/plain": [
              "<IPython.core.display.Math object>"
            ],
            "text/latex": "$\\displaystyle -x^{5}+2x^{2}+4$"
          },
          "metadata": {}
        },
        {
          "output_type": "display_data",
          "data": {
            "text/plain": [
              "<IPython.core.display.Math object>"
            ],
            "text/latex": "$\\displaystyle x^{3}-2.0x^{2}+3.0x-5.0$"
          },
          "metadata": {}
        },
        {
          "output_type": "display_data",
          "data": {
            "text/plain": [
              "<IPython.core.display.Math object>"
            ],
            "text/latex": "$\\displaystyle 9.0x+2.0$"
          },
          "metadata": {}
        },
        {
          "output_type": "display_data",
          "data": {
            "text/plain": [
              "<IPython.core.display.Math object>"
            ],
            "text/latex": "$\\displaystyle 0$"
          },
          "metadata": {}
        },
        {
          "output_type": "display_data",
          "data": {
            "text/plain": [
              "<IPython.core.display.Math object>"
            ],
            "text/latex": "$\\displaystyle x^{2}+2x+1$"
          },
          "metadata": {}
        },
        {
          "output_type": "display_data",
          "data": {
            "text/plain": [
              "<IPython.core.display.Math object>"
            ],
            "text/latex": "$\\displaystyle 1$"
          },
          "metadata": {}
        },
        {
          "output_type": "display_data",
          "data": {
            "text/plain": [
              "<IPython.core.display.Math object>"
            ],
            "text/latex": "$\\displaystyle 0$"
          },
          "metadata": {}
        }
      ]
    },
    {
      "cell_type": "code",
      "source": [
        "P=Polynomial([1,1])\n",
        "P.show()\n",
        "(P**20).show()\n",
        "P=Polynomial([1,1])\n",
        "P.show()\n",
        "(P**2).show()\n",
        "(-P).show()\n",
        "Q=Polynomial([2,1,3])\n",
        "Q.show()\n",
        "P+=Q\n",
        "P.show()\n",
        "P-=Q\n",
        "P.show()\n",
        "P*=Q\n",
        "P.show()"
      ],
      "metadata": {
        "colab": {
          "base_uri": "https://localhost:8080/",
          "height": 235
        },
        "id": "_MMDwtZts9XM",
        "outputId": "cfc7324e-50db-4cc0-a8fd-9cc3e0bc130e"
      },
      "execution_count": 131,
      "outputs": [
        {
          "output_type": "display_data",
          "data": {
            "text/plain": [
              "<IPython.core.display.Math object>"
            ],
            "text/latex": "$\\displaystyle x+1$"
          },
          "metadata": {}
        },
        {
          "output_type": "display_data",
          "data": {
            "text/plain": [
              "<IPython.core.display.Math object>"
            ],
            "text/latex": "$\\displaystyle x^{20}+20x^{19}+190x^{18}+1140x^{17}+4845x^{16}+15504x^{15}+38760x^{14}+77520x^{13}+125970x^{12}+167960x^{11}+184756x^{10}+167960x^{9}+125970x^{8}+77520x^{7}+38760x^{6}+15504x^{5}+4845x^{4}+1140x^{3}+190x^{2}+20x+1$"
          },
          "metadata": {}
        },
        {
          "output_type": "display_data",
          "data": {
            "text/plain": [
              "<IPython.core.display.Math object>"
            ],
            "text/latex": "$\\displaystyle x+1$"
          },
          "metadata": {}
        },
        {
          "output_type": "display_data",
          "data": {
            "text/plain": [
              "<IPython.core.display.Math object>"
            ],
            "text/latex": "$\\displaystyle x^{2}+2x+1$"
          },
          "metadata": {}
        },
        {
          "output_type": "display_data",
          "data": {
            "text/plain": [
              "<IPython.core.display.Math object>"
            ],
            "text/latex": "$\\displaystyle -x-1$"
          },
          "metadata": {}
        },
        {
          "output_type": "display_data",
          "data": {
            "text/plain": [
              "<IPython.core.display.Math object>"
            ],
            "text/latex": "$\\displaystyle 3x^{2}+x+2$"
          },
          "metadata": {}
        },
        {
          "output_type": "display_data",
          "data": {
            "text/plain": [
              "<IPython.core.display.Math object>"
            ],
            "text/latex": "$\\displaystyle 3x^{2}+2x+3$"
          },
          "metadata": {}
        },
        {
          "output_type": "display_data",
          "data": {
            "text/plain": [
              "<IPython.core.display.Math object>"
            ],
            "text/latex": "$\\displaystyle x+1$"
          },
          "metadata": {}
        },
        {
          "output_type": "display_data",
          "data": {
            "text/plain": [
              "<IPython.core.display.Math object>"
            ],
            "text/latex": "$\\displaystyle 3x^{3}+4x^{2}+3x+2$"
          },
          "metadata": {}
        }
      ]
    },
    {
      "cell_type": "code",
      "source": [
        "P = Polynomial([1, 2, 1])\n",
        "P.show()\n",
        "(P+5).show()\n",
        "(P-5).show()\n",
        "(P*5).show()\n",
        "(P//5).show()\n",
        "(P%5).show()"
      ],
      "metadata": {
        "colab": {
          "base_uri": "https://localhost:8080/",
          "height": 146
        },
        "id": "z3dH1LUA1SA5",
        "outputId": "ebbb7826-ff57-495e-c502-8fc3d68d93a3"
      },
      "execution_count": 143,
      "outputs": [
        {
          "output_type": "display_data",
          "data": {
            "text/plain": [
              "<IPython.core.display.Math object>"
            ],
            "text/latex": "$\\displaystyle x^{2}+2x+1$"
          },
          "metadata": {}
        },
        {
          "output_type": "display_data",
          "data": {
            "text/plain": [
              "<IPython.core.display.Math object>"
            ],
            "text/latex": "$\\displaystyle x^{2}+2x+6$"
          },
          "metadata": {}
        },
        {
          "output_type": "display_data",
          "data": {
            "text/plain": [
              "<IPython.core.display.Math object>"
            ],
            "text/latex": "$\\displaystyle x^{2}+2x-4$"
          },
          "metadata": {}
        },
        {
          "output_type": "display_data",
          "data": {
            "text/plain": [
              "<IPython.core.display.Math object>"
            ],
            "text/latex": "$\\displaystyle 5x^{2}+10x+5$"
          },
          "metadata": {}
        },
        {
          "output_type": "display_data",
          "data": {
            "text/plain": [
              "<IPython.core.display.Math object>"
            ],
            "text/latex": "$\\displaystyle 0.2x^{2}+0.4x+0.2$"
          },
          "metadata": {}
        },
        {
          "output_type": "display_data",
          "data": {
            "text/plain": [
              "<IPython.core.display.Math object>"
            ],
            "text/latex": "$\\displaystyle 0.0$"
          },
          "metadata": {}
        }
      ]
    },
    {
      "cell_type": "code",
      "source": [
        "P = Polynomial([1, 2, 0,1])\n",
        "P.show()\n",
        "(P.integrate()).show()\n",
        "P.diff().show()\n",
        "P.diff(3).show()"
      ],
      "metadata": {
        "colab": {
          "base_uri": "https://localhost:8080/",
          "height": 103
        },
        "id": "0groSfti6G7t",
        "outputId": "428084c9-c57b-4cae-b970-58ee7dd82072"
      },
      "execution_count": 168,
      "outputs": [
        {
          "output_type": "display_data",
          "data": {
            "text/plain": [
              "<IPython.core.display.Math object>"
            ],
            "text/latex": "$\\displaystyle x^{3}+2x+1$"
          },
          "metadata": {}
        },
        {
          "output_type": "display_data",
          "data": {
            "text/plain": [
              "<IPython.core.display.Math object>"
            ],
            "text/latex": "$\\displaystyle 0.25x^{4}+x^{2}+x$"
          },
          "metadata": {}
        },
        {
          "output_type": "display_data",
          "data": {
            "text/plain": [
              "<IPython.core.display.Math object>"
            ],
            "text/latex": "$\\displaystyle 3x^{2}+2$"
          },
          "metadata": {}
        },
        {
          "output_type": "display_data",
          "data": {
            "text/plain": [
              "<IPython.core.display.Math object>"
            ],
            "text/latex": "$\\displaystyle 6$"
          },
          "metadata": {}
        }
      ]
    }
  ]
}